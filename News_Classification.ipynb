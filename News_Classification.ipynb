{
  "nbformat": 4,
  "nbformat_minor": 0,
  "metadata": {
    "colab": {
      "name": "News_Classification.ipynb",
      "provenance": [],
      "authorship_tag": "ABX9TyOShv5fI9Vd68ig7fqrhkHS",
      "include_colab_link": true
    },
    "kernelspec": {
      "name": "python3",
      "display_name": "Python 3"
    },
    "accelerator": "GPU"
  },
  "cells": [
    {
      "cell_type": "markdown",
      "metadata": {
        "id": "view-in-github",
        "colab_type": "text"
      },
      "source": [
        "<a href=\"https://colab.research.google.com/github/jyotishsanchi/NLP_Learnings/blob/main/News_Classification.ipynb\" target=\"_parent\"><img src=\"https://colab.research.google.com/assets/colab-badge.svg\" alt=\"Open In Colab\"/></a>"
      ]
    },
    {
      "cell_type": "code",
      "metadata": {
        "colab": {
          "base_uri": "https://localhost:8080/"
        },
        "id": "cqPtEqHRFdX3",
        "outputId": "9fddbf69-0fd4-4a88-d984-5d4ddf4eccbe"
      },
      "source": [
        "from google.colab import drive\n",
        "drive.mount('/content/drive')"
      ],
      "execution_count": 1,
      "outputs": [
        {
          "output_type": "stream",
          "text": [
            "Drive already mounted at /content/drive; to attempt to forcibly remount, call drive.mount(\"/content/drive\", force_remount=True).\n"
          ],
          "name": "stdout"
        }
      ]
    },
    {
      "cell_type": "code",
      "metadata": {
        "colab": {
          "base_uri": "https://localhost:8080/"
        },
        "id": "X7A1eCuaFrEW",
        "outputId": "99c86891-2a5d-44cc-d778-cbf6e04adb93"
      },
      "source": [
        "import numpy as np\n",
        "import pandas as pd\n",
        "\n",
        "import os\n",
        "\n",
        "import matplotlib.pyplot as plt\n",
        "%matplotlib inline\n",
        "from matplotlib import pyplot\n",
        "\n",
        "import tensorflow \n",
        "print(tensorflow.__version__)\n",
        "\n",
        "from tensorflow.keras.models import load_model\n",
        "from tensorflow.keras.models import Sequential\n",
        "from tensorflow.keras.layers import Embedding, Bidirectional, SpatialDropout1D, LSTM, Dense, Dropout, Flatten, LeakyReLU\n",
        "from tensorflow.keras.callbacks import EarlyStopping, ModelCheckpoint\n",
        "from tensorflow.keras.optimizers import Adam\n",
        "from tensorflow.keras.preprocessing.text import Tokenizer\n",
        "from tensorflow.keras.preprocessing.sequence import pad_sequences\n",
        "\n",
        "\n",
        "# To encode values\n",
        "from sklearn.preprocessing import LabelEncoder\n",
        "# train test split\n",
        "from sklearn.model_selection import train_test_split\n"
      ],
      "execution_count": 2,
      "outputs": [
        {
          "output_type": "stream",
          "text": [
            "2.3.0\n"
          ],
          "name": "stdout"
        }
      ]
    },
    {
      "cell_type": "code",
      "metadata": {
        "id": "aLHZjY91Fxjw"
      },
      "source": [
        "os.chdir('/content/drive/MyDrive')"
      ],
      "execution_count": 3,
      "outputs": []
    },
    {
      "cell_type": "code",
      "metadata": {
        "id": "_VTEz17VF1pZ"
      },
      "source": [
        "df = pd.read_json('News_Category_Dataset_v2.json', lines=True)"
      ],
      "execution_count": 4,
      "outputs": []
    },
    {
      "cell_type": "code",
      "metadata": {
        "colab": {
          "base_uri": "https://localhost:8080/"
        },
        "id": "p4dQ0J81GT5r",
        "outputId": "6a422ffe-10c0-4c7b-8cdd-fa86fff81090"
      },
      "source": [
        "df.shape"
      ],
      "execution_count": 5,
      "outputs": [
        {
          "output_type": "execute_result",
          "data": {
            "text/plain": [
              "(200853, 6)"
            ]
          },
          "metadata": {
            "tags": []
          },
          "execution_count": 5
        }
      ]
    },
    {
      "cell_type": "code",
      "metadata": {
        "colab": {
          "base_uri": "https://localhost:8080/",
          "height": 442
        },
        "id": "gmKxRlnxF-hv",
        "outputId": "52cfedef-01d1-4b51-acb3-4231413d86a0"
      },
      "source": [
        "df.head()"
      ],
      "execution_count": 6,
      "outputs": [
        {
          "output_type": "execute_result",
          "data": {
            "text/html": [
              "<div>\n",
              "<style scoped>\n",
              "    .dataframe tbody tr th:only-of-type {\n",
              "        vertical-align: middle;\n",
              "    }\n",
              "\n",
              "    .dataframe tbody tr th {\n",
              "        vertical-align: top;\n",
              "    }\n",
              "\n",
              "    .dataframe thead th {\n",
              "        text-align: right;\n",
              "    }\n",
              "</style>\n",
              "<table border=\"1\" class=\"dataframe\">\n",
              "  <thead>\n",
              "    <tr style=\"text-align: right;\">\n",
              "      <th></th>\n",
              "      <th>category</th>\n",
              "      <th>headline</th>\n",
              "      <th>authors</th>\n",
              "      <th>link</th>\n",
              "      <th>short_description</th>\n",
              "      <th>date</th>\n",
              "    </tr>\n",
              "  </thead>\n",
              "  <tbody>\n",
              "    <tr>\n",
              "      <th>0</th>\n",
              "      <td>CRIME</td>\n",
              "      <td>There Were 2 Mass Shootings In Texas Last Week...</td>\n",
              "      <td>Melissa Jeltsen</td>\n",
              "      <td>https://www.huffingtonpost.com/entry/texas-ama...</td>\n",
              "      <td>She left her husband. He killed their children...</td>\n",
              "      <td>2018-05-26</td>\n",
              "    </tr>\n",
              "    <tr>\n",
              "      <th>1</th>\n",
              "      <td>ENTERTAINMENT</td>\n",
              "      <td>Will Smith Joins Diplo And Nicky Jam For The 2...</td>\n",
              "      <td>Andy McDonald</td>\n",
              "      <td>https://www.huffingtonpost.com/entry/will-smit...</td>\n",
              "      <td>Of course it has a song.</td>\n",
              "      <td>2018-05-26</td>\n",
              "    </tr>\n",
              "    <tr>\n",
              "      <th>2</th>\n",
              "      <td>ENTERTAINMENT</td>\n",
              "      <td>Hugh Grant Marries For The First Time At Age 57</td>\n",
              "      <td>Ron Dicker</td>\n",
              "      <td>https://www.huffingtonpost.com/entry/hugh-gran...</td>\n",
              "      <td>The actor and his longtime girlfriend Anna Ebe...</td>\n",
              "      <td>2018-05-26</td>\n",
              "    </tr>\n",
              "    <tr>\n",
              "      <th>3</th>\n",
              "      <td>ENTERTAINMENT</td>\n",
              "      <td>Jim Carrey Blasts 'Castrato' Adam Schiff And D...</td>\n",
              "      <td>Ron Dicker</td>\n",
              "      <td>https://www.huffingtonpost.com/entry/jim-carre...</td>\n",
              "      <td>The actor gives Dems an ass-kicking for not fi...</td>\n",
              "      <td>2018-05-26</td>\n",
              "    </tr>\n",
              "    <tr>\n",
              "      <th>4</th>\n",
              "      <td>ENTERTAINMENT</td>\n",
              "      <td>Julianna Margulies Uses Donald Trump Poop Bags...</td>\n",
              "      <td>Ron Dicker</td>\n",
              "      <td>https://www.huffingtonpost.com/entry/julianna-...</td>\n",
              "      <td>The \"Dietland\" actress said using the bags is ...</td>\n",
              "      <td>2018-05-26</td>\n",
              "    </tr>\n",
              "  </tbody>\n",
              "</table>\n",
              "</div>"
            ],
            "text/plain": [
              "        category  ...       date\n",
              "0          CRIME  ... 2018-05-26\n",
              "1  ENTERTAINMENT  ... 2018-05-26\n",
              "2  ENTERTAINMENT  ... 2018-05-26\n",
              "3  ENTERTAINMENT  ... 2018-05-26\n",
              "4  ENTERTAINMENT  ... 2018-05-26\n",
              "\n",
              "[5 rows x 6 columns]"
            ]
          },
          "metadata": {
            "tags": []
          },
          "execution_count": 6
        }
      ]
    },
    {
      "cell_type": "code",
      "metadata": {
        "id": "DWU-q3gWGdRC"
      },
      "source": [
        "df = df.drop(['authors', 'date', 'link'], axis=1)"
      ],
      "execution_count": 7,
      "outputs": []
    },
    {
      "cell_type": "code",
      "metadata": {
        "colab": {
          "base_uri": "https://localhost:8080/",
          "height": 204
        },
        "id": "pNa5-9k1Gp4q",
        "outputId": "007fa4b5-1aaf-44f5-e02f-53f8b72e26c6"
      },
      "source": [
        "df.head()"
      ],
      "execution_count": 8,
      "outputs": [
        {
          "output_type": "execute_result",
          "data": {
            "text/html": [
              "<div>\n",
              "<style scoped>\n",
              "    .dataframe tbody tr th:only-of-type {\n",
              "        vertical-align: middle;\n",
              "    }\n",
              "\n",
              "    .dataframe tbody tr th {\n",
              "        vertical-align: top;\n",
              "    }\n",
              "\n",
              "    .dataframe thead th {\n",
              "        text-align: right;\n",
              "    }\n",
              "</style>\n",
              "<table border=\"1\" class=\"dataframe\">\n",
              "  <thead>\n",
              "    <tr style=\"text-align: right;\">\n",
              "      <th></th>\n",
              "      <th>category</th>\n",
              "      <th>headline</th>\n",
              "      <th>short_description</th>\n",
              "    </tr>\n",
              "  </thead>\n",
              "  <tbody>\n",
              "    <tr>\n",
              "      <th>0</th>\n",
              "      <td>CRIME</td>\n",
              "      <td>There Were 2 Mass Shootings In Texas Last Week...</td>\n",
              "      <td>She left her husband. He killed their children...</td>\n",
              "    </tr>\n",
              "    <tr>\n",
              "      <th>1</th>\n",
              "      <td>ENTERTAINMENT</td>\n",
              "      <td>Will Smith Joins Diplo And Nicky Jam For The 2...</td>\n",
              "      <td>Of course it has a song.</td>\n",
              "    </tr>\n",
              "    <tr>\n",
              "      <th>2</th>\n",
              "      <td>ENTERTAINMENT</td>\n",
              "      <td>Hugh Grant Marries For The First Time At Age 57</td>\n",
              "      <td>The actor and his longtime girlfriend Anna Ebe...</td>\n",
              "    </tr>\n",
              "    <tr>\n",
              "      <th>3</th>\n",
              "      <td>ENTERTAINMENT</td>\n",
              "      <td>Jim Carrey Blasts 'Castrato' Adam Schiff And D...</td>\n",
              "      <td>The actor gives Dems an ass-kicking for not fi...</td>\n",
              "    </tr>\n",
              "    <tr>\n",
              "      <th>4</th>\n",
              "      <td>ENTERTAINMENT</td>\n",
              "      <td>Julianna Margulies Uses Donald Trump Poop Bags...</td>\n",
              "      <td>The \"Dietland\" actress said using the bags is ...</td>\n",
              "    </tr>\n",
              "  </tbody>\n",
              "</table>\n",
              "</div>"
            ],
            "text/plain": [
              "        category  ...                                  short_description\n",
              "0          CRIME  ...  She left her husband. He killed their children...\n",
              "1  ENTERTAINMENT  ...                           Of course it has a song.\n",
              "2  ENTERTAINMENT  ...  The actor and his longtime girlfriend Anna Ebe...\n",
              "3  ENTERTAINMENT  ...  The actor gives Dems an ass-kicking for not fi...\n",
              "4  ENTERTAINMENT  ...  The \"Dietland\" actress said using the bags is ...\n",
              "\n",
              "[5 rows x 3 columns]"
            ]
          },
          "metadata": {
            "tags": []
          },
          "execution_count": 8
        }
      ]
    },
    {
      "cell_type": "code",
      "metadata": {
        "colab": {
          "base_uri": "https://localhost:8080/"
        },
        "id": "BO-j3mOrMbsF",
        "outputId": "02ee728f-2730-4cc0-c38b-23067e2c9ed8"
      },
      "source": [
        "df.isnull().sum()"
      ],
      "execution_count": 9,
      "outputs": [
        {
          "output_type": "execute_result",
          "data": {
            "text/plain": [
              "category             0\n",
              "headline             0\n",
              "short_description    0\n",
              "dtype: int64"
            ]
          },
          "metadata": {
            "tags": []
          },
          "execution_count": 9
        }
      ]
    },
    {
      "cell_type": "code",
      "metadata": {
        "colab": {
          "base_uri": "https://localhost:8080/"
        },
        "id": "WiKh-1xtGvt3",
        "outputId": "bd627ba7-5773-4793-ca0d-f37fc155f899"
      },
      "source": [
        "df['category'].value_counts()"
      ],
      "execution_count": 10,
      "outputs": [
        {
          "output_type": "execute_result",
          "data": {
            "text/plain": [
              "POLITICS          32739\n",
              "WELLNESS          17827\n",
              "ENTERTAINMENT     16058\n",
              "TRAVEL             9887\n",
              "STYLE & BEAUTY     9649\n",
              "PARENTING          8677\n",
              "HEALTHY LIVING     6694\n",
              "QUEER VOICES       6314\n",
              "FOOD & DRINK       6226\n",
              "BUSINESS           5937\n",
              "COMEDY             5175\n",
              "SPORTS             4884\n",
              "BLACK VOICES       4528\n",
              "HOME & LIVING      4195\n",
              "PARENTS            3955\n",
              "THE WORLDPOST      3664\n",
              "WEDDINGS           3651\n",
              "WOMEN              3490\n",
              "IMPACT             3459\n",
              "DIVORCE            3426\n",
              "CRIME              3405\n",
              "MEDIA              2815\n",
              "WEIRD NEWS         2670\n",
              "GREEN              2622\n",
              "WORLDPOST          2579\n",
              "RELIGION           2556\n",
              "STYLE              2254\n",
              "SCIENCE            2178\n",
              "WORLD NEWS         2177\n",
              "TASTE              2096\n",
              "TECH               2082\n",
              "MONEY              1707\n",
              "ARTS               1509\n",
              "FIFTY              1401\n",
              "GOOD NEWS          1398\n",
              "ARTS & CULTURE     1339\n",
              "ENVIRONMENT        1323\n",
              "COLLEGE            1144\n",
              "LATINO VOICES      1129\n",
              "CULTURE & ARTS     1030\n",
              "EDUCATION          1004\n",
              "Name: category, dtype: int64"
            ]
          },
          "metadata": {
            "tags": []
          },
          "execution_count": 10
        }
      ]
    },
    {
      "cell_type": "code",
      "metadata": {
        "colab": {
          "base_uri": "https://localhost:8080/"
        },
        "id": "uOOX_ZbIG6P7",
        "outputId": "8dcaa602-c83f-43af-c2f8-2a547c49cdd4"
      },
      "source": [
        "df['category'].nunique()"
      ],
      "execution_count": 11,
      "outputs": [
        {
          "output_type": "execute_result",
          "data": {
            "text/plain": [
              "41"
            ]
          },
          "metadata": {
            "tags": []
          },
          "execution_count": 11
        }
      ]
    },
    {
      "cell_type": "code",
      "metadata": {
        "colab": {
          "base_uri": "https://localhost:8080/",
          "height": 35
        },
        "id": "02mgvAFcHEca",
        "outputId": "01569778-9dce-4a72-9e4d-8cb714d7821a"
      },
      "source": [
        "df['headline'][0]"
      ],
      "execution_count": 12,
      "outputs": [
        {
          "output_type": "execute_result",
          "data": {
            "application/vnd.google.colaboratory.intrinsic+json": {
              "type": "string"
            },
            "text/plain": [
              "'There Were 2 Mass Shootings In Texas Last Week, But Only 1 On TV'"
            ]
          },
          "metadata": {
            "tags": []
          },
          "execution_count": 12
        }
      ]
    },
    {
      "cell_type": "code",
      "metadata": {
        "colab": {
          "base_uri": "https://localhost:8080/",
          "height": 35
        },
        "id": "q3WLY4LsHVLX",
        "outputId": "0131cf5e-a9ab-4f9e-f6e2-f6e089eb4468"
      },
      "source": [
        "df['category'][0]"
      ],
      "execution_count": 13,
      "outputs": [
        {
          "output_type": "execute_result",
          "data": {
            "application/vnd.google.colaboratory.intrinsic+json": {
              "type": "string"
            },
            "text/plain": [
              "'CRIME'"
            ]
          },
          "metadata": {
            "tags": []
          },
          "execution_count": 13
        }
      ]
    },
    {
      "cell_type": "code",
      "metadata": {
        "colab": {
          "base_uri": "https://localhost:8080/",
          "height": 35
        },
        "id": "Sza51vDQHcv9",
        "outputId": "df38aa8e-5147-450c-c475-9fcc69695e18"
      },
      "source": [
        "df['short_description'][0]"
      ],
      "execution_count": 14,
      "outputs": [
        {
          "output_type": "execute_result",
          "data": {
            "application/vnd.google.colaboratory.intrinsic+json": {
              "type": "string"
            },
            "text/plain": [
              "'She left her husband. He killed their children. Just another day in America.'"
            ]
          },
          "metadata": {
            "tags": []
          },
          "execution_count": 14
        }
      ]
    },
    {
      "cell_type": "code",
      "metadata": {
        "colab": {
          "base_uri": "https://localhost:8080/",
          "height": 80
        },
        "id": "Ka9WzTLiHh7V",
        "outputId": "c5f94f1c-517d-4744-adec-80d2c482e764"
      },
      "source": [
        "df[0:1]"
      ],
      "execution_count": 15,
      "outputs": [
        {
          "output_type": "execute_result",
          "data": {
            "text/html": [
              "<div>\n",
              "<style scoped>\n",
              "    .dataframe tbody tr th:only-of-type {\n",
              "        vertical-align: middle;\n",
              "    }\n",
              "\n",
              "    .dataframe tbody tr th {\n",
              "        vertical-align: top;\n",
              "    }\n",
              "\n",
              "    .dataframe thead th {\n",
              "        text-align: right;\n",
              "    }\n",
              "</style>\n",
              "<table border=\"1\" class=\"dataframe\">\n",
              "  <thead>\n",
              "    <tr style=\"text-align: right;\">\n",
              "      <th></th>\n",
              "      <th>category</th>\n",
              "      <th>headline</th>\n",
              "      <th>short_description</th>\n",
              "    </tr>\n",
              "  </thead>\n",
              "  <tbody>\n",
              "    <tr>\n",
              "      <th>0</th>\n",
              "      <td>CRIME</td>\n",
              "      <td>There Were 2 Mass Shootings In Texas Last Week...</td>\n",
              "      <td>She left her husband. He killed their children...</td>\n",
              "    </tr>\n",
              "  </tbody>\n",
              "</table>\n",
              "</div>"
            ],
            "text/plain": [
              "  category  ...                                  short_description\n",
              "0    CRIME  ...  She left her husband. He killed their children...\n",
              "\n",
              "[1 rows x 3 columns]"
            ]
          },
          "metadata": {
            "tags": []
          },
          "execution_count": 15
        }
      ]
    },
    {
      "cell_type": "code",
      "metadata": {
        "id": "pIpmYpWxHkm9"
      },
      "source": [
        "import nltk\n",
        "import re"
      ],
      "execution_count": 16,
      "outputs": []
    },
    {
      "cell_type": "code",
      "metadata": {
        "colab": {
          "base_uri": "https://localhost:8080/"
        },
        "id": "9ktoYMalKOlh",
        "outputId": "183c8417-1f28-49d4-9eda-e219043bcc5e"
      },
      "source": [
        "nltk.download('punkt')"
      ],
      "execution_count": 17,
      "outputs": [
        {
          "output_type": "stream",
          "text": [
            "[nltk_data] Downloading package punkt to /root/nltk_data...\n",
            "[nltk_data]   Unzipping tokenizers/punkt.zip.\n"
          ],
          "name": "stdout"
        },
        {
          "output_type": "execute_result",
          "data": {
            "text/plain": [
              "True"
            ]
          },
          "metadata": {
            "tags": []
          },
          "execution_count": 17
        }
      ]
    },
    {
      "cell_type": "code",
      "metadata": {
        "id": "4ANJvlFOKRTv"
      },
      "source": [
        "words = nltk.word_tokenize(df['short_description'][0])"
      ],
      "execution_count": 18,
      "outputs": []
    },
    {
      "cell_type": "code",
      "metadata": {
        "id": "WkiQOdXkKcxG"
      },
      "source": [
        "bigrams = nltk.bigrams(words)"
      ],
      "execution_count": 19,
      "outputs": []
    },
    {
      "cell_type": "code",
      "metadata": {
        "colab": {
          "base_uri": "https://localhost:8080/"
        },
        "id": "UogWwLP0Kovx",
        "outputId": "6c9df2ec-6b31-4172-f269-7d3a35f46557"
      },
      "source": [
        "bigrams"
      ],
      "execution_count": 20,
      "outputs": [
        {
          "output_type": "execute_result",
          "data": {
            "text/plain": [
              "<generator object bigrams at 0x7f7cb5004e08>"
            ]
          },
          "metadata": {
            "tags": []
          },
          "execution_count": 20
        }
      ]
    },
    {
      "cell_type": "code",
      "metadata": {
        "colab": {
          "base_uri": "https://localhost:8080/"
        },
        "id": "ufvetQ5vKqba",
        "outputId": "51a2a1f9-cade-4805-ef3b-64243be5ee03"
      },
      "source": [
        "for bgram in bigrams:\n",
        "  print(bgram)"
      ],
      "execution_count": 21,
      "outputs": [
        {
          "output_type": "stream",
          "text": [
            "('She', 'left')\n",
            "('left', 'her')\n",
            "('her', 'husband')\n",
            "('husband', '.')\n",
            "('.', 'He')\n",
            "('He', 'killed')\n",
            "('killed', 'their')\n",
            "('their', 'children')\n",
            "('children', '.')\n",
            "('.', 'Just')\n",
            "('Just', 'another')\n",
            "('another', 'day')\n",
            "('day', 'in')\n",
            "('in', 'America')\n",
            "('America', '.')\n"
          ],
          "name": "stdout"
        }
      ]
    },
    {
      "cell_type": "code",
      "metadata": {
        "colab": {
          "base_uri": "https://localhost:8080/"
        },
        "id": "4xag5uO6Ktmq",
        "outputId": "e0338c3d-aa25-4a6b-e68b-d3d895373e2a"
      },
      "source": [
        "nltk.download('stopwords')"
      ],
      "execution_count": 22,
      "outputs": [
        {
          "output_type": "stream",
          "text": [
            "[nltk_data] Downloading package stopwords to /root/nltk_data...\n",
            "[nltk_data]   Unzipping corpora/stopwords.zip.\n"
          ],
          "name": "stdout"
        },
        {
          "output_type": "execute_result",
          "data": {
            "text/plain": [
              "True"
            ]
          },
          "metadata": {
            "tags": []
          },
          "execution_count": 22
        }
      ]
    },
    {
      "cell_type": "code",
      "metadata": {
        "colab": {
          "base_uri": "https://localhost:8080/"
        },
        "id": "hVFdfotMLh0R",
        "outputId": "4d0fa2d1-84fd-4bca-f2ac-b437ceb89ef6"
      },
      "source": [
        "nltk.download('wordnet')"
      ],
      "execution_count": 23,
      "outputs": [
        {
          "output_type": "stream",
          "text": [
            "[nltk_data] Downloading package wordnet to /root/nltk_data...\n",
            "[nltk_data]   Unzipping corpora/wordnet.zip.\n"
          ],
          "name": "stdout"
        },
        {
          "output_type": "execute_result",
          "data": {
            "text/plain": [
              "True"
            ]
          },
          "metadata": {
            "tags": []
          },
          "execution_count": 23
        }
      ]
    },
    {
      "cell_type": "code",
      "metadata": {
        "id": "fS192SY3Lm63"
      },
      "source": [
        "from nltk.corpus import stopwords"
      ],
      "execution_count": 24,
      "outputs": []
    },
    {
      "cell_type": "code",
      "metadata": {
        "id": "3jqrZwFmNC2_"
      },
      "source": [
        "df['headline_length'] = df['headline'].apply(lambda x : len(x))\n",
        "df['description_length'] = df['short_description'].apply(lambda x : len(x))"
      ],
      "execution_count": 25,
      "outputs": []
    },
    {
      "cell_type": "code",
      "metadata": {
        "colab": {
          "base_uri": "https://localhost:8080/",
          "height": 289
        },
        "id": "tlX96wtqWdxt",
        "outputId": "b18a393c-63d5-4e95-cde5-1121e632daf6"
      },
      "source": [
        "df.head()"
      ],
      "execution_count": 26,
      "outputs": [
        {
          "output_type": "execute_result",
          "data": {
            "text/html": [
              "<div>\n",
              "<style scoped>\n",
              "    .dataframe tbody tr th:only-of-type {\n",
              "        vertical-align: middle;\n",
              "    }\n",
              "\n",
              "    .dataframe tbody tr th {\n",
              "        vertical-align: top;\n",
              "    }\n",
              "\n",
              "    .dataframe thead th {\n",
              "        text-align: right;\n",
              "    }\n",
              "</style>\n",
              "<table border=\"1\" class=\"dataframe\">\n",
              "  <thead>\n",
              "    <tr style=\"text-align: right;\">\n",
              "      <th></th>\n",
              "      <th>category</th>\n",
              "      <th>headline</th>\n",
              "      <th>short_description</th>\n",
              "      <th>headline_length</th>\n",
              "      <th>description_length</th>\n",
              "    </tr>\n",
              "  </thead>\n",
              "  <tbody>\n",
              "    <tr>\n",
              "      <th>0</th>\n",
              "      <td>CRIME</td>\n",
              "      <td>There Were 2 Mass Shootings In Texas Last Week...</td>\n",
              "      <td>She left her husband. He killed their children...</td>\n",
              "      <td>64</td>\n",
              "      <td>76</td>\n",
              "    </tr>\n",
              "    <tr>\n",
              "      <th>1</th>\n",
              "      <td>ENTERTAINMENT</td>\n",
              "      <td>Will Smith Joins Diplo And Nicky Jam For The 2...</td>\n",
              "      <td>Of course it has a song.</td>\n",
              "      <td>75</td>\n",
              "      <td>24</td>\n",
              "    </tr>\n",
              "    <tr>\n",
              "      <th>2</th>\n",
              "      <td>ENTERTAINMENT</td>\n",
              "      <td>Hugh Grant Marries For The First Time At Age 57</td>\n",
              "      <td>The actor and his longtime girlfriend Anna Ebe...</td>\n",
              "      <td>47</td>\n",
              "      <td>87</td>\n",
              "    </tr>\n",
              "    <tr>\n",
              "      <th>3</th>\n",
              "      <td>ENTERTAINMENT</td>\n",
              "      <td>Jim Carrey Blasts 'Castrato' Adam Schiff And D...</td>\n",
              "      <td>The actor gives Dems an ass-kicking for not fi...</td>\n",
              "      <td>69</td>\n",
              "      <td>86</td>\n",
              "    </tr>\n",
              "    <tr>\n",
              "      <th>4</th>\n",
              "      <td>ENTERTAINMENT</td>\n",
              "      <td>Julianna Margulies Uses Donald Trump Poop Bags...</td>\n",
              "      <td>The \"Dietland\" actress said using the bags is ...</td>\n",
              "      <td>71</td>\n",
              "      <td>87</td>\n",
              "    </tr>\n",
              "  </tbody>\n",
              "</table>\n",
              "</div>"
            ],
            "text/plain": [
              "        category  ... description_length\n",
              "0          CRIME  ...                 76\n",
              "1  ENTERTAINMENT  ...                 24\n",
              "2  ENTERTAINMENT  ...                 87\n",
              "3  ENTERTAINMENT  ...                 86\n",
              "4  ENTERTAINMENT  ...                 87\n",
              "\n",
              "[5 rows x 5 columns]"
            ]
          },
          "metadata": {
            "tags": []
          },
          "execution_count": 26
        }
      ]
    },
    {
      "cell_type": "code",
      "metadata": {
        "colab": {
          "base_uri": "https://localhost:8080/",
          "height": 282
        },
        "id": "4Z8HBJf3Wes-",
        "outputId": "b036f725-bb55-432f-d66d-06fcae1f2c61"
      },
      "source": [
        "df['headline_length'].hist()"
      ],
      "execution_count": 27,
      "outputs": [
        {
          "output_type": "execute_result",
          "data": {
            "text/plain": [
              "<matplotlib.axes._subplots.AxesSubplot at 0x7f7cb9988518>"
            ]
          },
          "metadata": {
            "tags": []
          },
          "execution_count": 27
        },
        {
          "output_type": "display_data",
          "data": {
            "image/png": "[encoded data removed]",
            "text/plain": [
              "<Figure size 432x288 with 1 Axes>"
            ]
          },
          "metadata": {
            "tags": [],
            "needs_background": "light"
          }
        }
      ]
    },
    {
      "cell_type": "code",
      "metadata": {
        "colab": {
          "base_uri": "https://localhost:8080/",
          "height": 297
        },
        "id": "09Uvx46aWlSl",
        "outputId": "70d87d88-7736-416f-8d92-e494a4362aaa"
      },
      "source": [
        "df.describe()"
      ],
      "execution_count": 28,
      "outputs": [
        {
          "output_type": "execute_result",
          "data": {
            "text/html": [
              "<div>\n",
              "<style scoped>\n",
              "    .dataframe tbody tr th:only-of-type {\n",
              "        vertical-align: middle;\n",
              "    }\n",
              "\n",
              "    .dataframe tbody tr th {\n",
              "        vertical-align: top;\n",
              "    }\n",
              "\n",
              "    .dataframe thead th {\n",
              "        text-align: right;\n",
              "    }\n",
              "</style>\n",
              "<table border=\"1\" class=\"dataframe\">\n",
              "  <thead>\n",
              "    <tr style=\"text-align: right;\">\n",
              "      <th></th>\n",
              "      <th>headline_length</th>\n",
              "      <th>description_length</th>\n",
              "    </tr>\n",
              "  </thead>\n",
              "  <tbody>\n",
              "    <tr>\n",
              "      <th>count</th>\n",
              "      <td>200853.000000</td>\n",
              "      <td>200853.000000</td>\n",
              "    </tr>\n",
              "    <tr>\n",
              "      <th>mean</th>\n",
              "      <td>57.940305</td>\n",
              "      <td>114.312686</td>\n",
              "    </tr>\n",
              "    <tr>\n",
              "      <th>std</th>\n",
              "      <td>18.913850</td>\n",
              "      <td>82.288156</td>\n",
              "    </tr>\n",
              "    <tr>\n",
              "      <th>min</th>\n",
              "      <td>0.000000</td>\n",
              "      <td>0.000000</td>\n",
              "    </tr>\n",
              "    <tr>\n",
              "      <th>25%</th>\n",
              "      <td>45.000000</td>\n",
              "      <td>57.000000</td>\n",
              "    </tr>\n",
              "    <tr>\n",
              "      <th>50%</th>\n",
              "      <td>59.000000</td>\n",
              "      <td>120.000000</td>\n",
              "    </tr>\n",
              "    <tr>\n",
              "      <th>75%</th>\n",
              "      <td>71.000000</td>\n",
              "      <td>133.000000</td>\n",
              "    </tr>\n",
              "    <tr>\n",
              "      <th>max</th>\n",
              "      <td>320.000000</td>\n",
              "      <td>1472.000000</td>\n",
              "    </tr>\n",
              "  </tbody>\n",
              "</table>\n",
              "</div>"
            ],
            "text/plain": [
              "       headline_length  description_length\n",
              "count    200853.000000       200853.000000\n",
              "mean         57.940305          114.312686\n",
              "std          18.913850           82.288156\n",
              "min           0.000000            0.000000\n",
              "25%          45.000000           57.000000\n",
              "50%          59.000000          120.000000\n",
              "75%          71.000000          133.000000\n",
              "max         320.000000         1472.000000"
            ]
          },
          "metadata": {
            "tags": []
          },
          "execution_count": 28
        }
      ]
    },
    {
      "cell_type": "code",
      "metadata": {
        "colab": {
          "base_uri": "https://localhost:8080/"
        },
        "id": "gS8B_XWIWuAE",
        "outputId": "313c3d0b-4942-429a-d695-9298c12c05d3"
      },
      "source": [
        "df[df['description_length'] == 1472]['short_description']"
      ],
      "execution_count": 29,
      "outputs": [
        {
          "output_type": "execute_result",
          "data": {
            "text/plain": [
              "58142    This week the nation watched as the #NeverTrum...\n",
              "Name: short_description, dtype: object"
            ]
          },
          "metadata": {
            "tags": []
          },
          "execution_count": 29
        }
      ]
    },
    {
      "cell_type": "code",
      "metadata": {
        "id": "z0VHBcvCW9Ro"
      },
      "source": [
        "stopwords = set(stopwords.words('english'))"
      ],
      "execution_count": 30,
      "outputs": []
    },
    {
      "cell_type": "code",
      "metadata": {
        "id": "EokGd00faiYj"
      },
      "source": [
        "def preprocess_text(df, column_name=''):\n",
        "  # Select only alphabets\n",
        "  df[column_name] = df[column_name].apply(lambda x: re.sub('[^A-Za-z0-9]+', ' ', x))\n",
        "\n",
        "  # Convert text to lowercase\n",
        "  df[column_name] = df[column_name].apply(lambda x: x.lower())\n",
        "\n",
        "  # Strip unwanted spaces\n",
        "  df[column_name] = df[column_name].apply(lambda x: x.strip())\n",
        "\n",
        "  # Remove stopwords\n",
        "  df[column_name] = df[column_name].apply(lambda x: ' '.join([word for word in x.split() if word not in stopwords]))\n",
        "\n",
        "  # Replace empty strings with Null\n",
        "  df[column_name].replace('', np.nan, inplace = True)\n",
        "\n",
        "  # Drop Null values\n",
        "  df = df.dropna()\n",
        "\n",
        "  return df"
      ],
      "execution_count": 31,
      "outputs": []
    },
    {
      "cell_type": "code",
      "metadata": {
        "id": "WE6zGePsa2Lj"
      },
      "source": [
        "df = preprocess_text(df, column_name='headline')"
      ],
      "execution_count": 32,
      "outputs": []
    },
    {
      "cell_type": "code",
      "metadata": {
        "id": "5EuoD9LobDGT"
      },
      "source": [
        "df = preprocess_text(df, column_name='short_description')"
      ],
      "execution_count": 33,
      "outputs": []
    },
    {
      "cell_type": "code",
      "metadata": {
        "colab": {
          "base_uri": "https://localhost:8080/",
          "height": 289
        },
        "id": "Yofm4bDVbV-9",
        "outputId": "e8880b62-1370-42b7-cecf-e0e2cff06abe"
      },
      "source": [
        "df.head()"
      ],
      "execution_count": 34,
      "outputs": [
        {
          "output_type": "execute_result",
          "data": {
            "text/html": [
              "<div>\n",
              "<style scoped>\n",
              "    .dataframe tbody tr th:only-of-type {\n",
              "        vertical-align: middle;\n",
              "    }\n",
              "\n",
              "    .dataframe tbody tr th {\n",
              "        vertical-align: top;\n",
              "    }\n",
              "\n",
              "    .dataframe thead th {\n",
              "        text-align: right;\n",
              "    }\n",
              "</style>\n",
              "<table border=\"1\" class=\"dataframe\">\n",
              "  <thead>\n",
              "    <tr style=\"text-align: right;\">\n",
              "      <th></th>\n",
              "      <th>category</th>\n",
              "      <th>headline</th>\n",
              "      <th>short_description</th>\n",
              "      <th>headline_length</th>\n",
              "      <th>description_length</th>\n",
              "    </tr>\n",
              "  </thead>\n",
              "  <tbody>\n",
              "    <tr>\n",
              "      <th>0</th>\n",
              "      <td>CRIME</td>\n",
              "      <td>2 mass shootings texas last week 1 tv</td>\n",
              "      <td>left husband killed children another day america</td>\n",
              "      <td>64</td>\n",
              "      <td>76</td>\n",
              "    </tr>\n",
              "    <tr>\n",
              "      <th>1</th>\n",
              "      <td>ENTERTAINMENT</td>\n",
              "      <td>smith joins diplo nicky jam 2018 world cup off...</td>\n",
              "      <td>course song</td>\n",
              "      <td>75</td>\n",
              "      <td>24</td>\n",
              "    </tr>\n",
              "    <tr>\n",
              "      <th>2</th>\n",
              "      <td>ENTERTAINMENT</td>\n",
              "      <td>hugh grant marries first time age 57</td>\n",
              "      <td>actor longtime girlfriend anna eberstein tied ...</td>\n",
              "      <td>47</td>\n",
              "      <td>87</td>\n",
              "    </tr>\n",
              "    <tr>\n",
              "      <th>3</th>\n",
              "      <td>ENTERTAINMENT</td>\n",
              "      <td>jim carrey blasts castrato adam schiff democra...</td>\n",
              "      <td>actor gives dems ass kicking fighting hard eno...</td>\n",
              "      <td>69</td>\n",
              "      <td>86</td>\n",
              "    </tr>\n",
              "    <tr>\n",
              "      <th>4</th>\n",
              "      <td>ENTERTAINMENT</td>\n",
              "      <td>julianna margulies uses donald trump poop bags...</td>\n",
              "      <td>dietland actress said using bags really cathar...</td>\n",
              "      <td>71</td>\n",
              "      <td>87</td>\n",
              "    </tr>\n",
              "  </tbody>\n",
              "</table>\n",
              "</div>"
            ],
            "text/plain": [
              "        category  ... description_length\n",
              "0          CRIME  ...                 76\n",
              "1  ENTERTAINMENT  ...                 24\n",
              "2  ENTERTAINMENT  ...                 87\n",
              "3  ENTERTAINMENT  ...                 86\n",
              "4  ENTERTAINMENT  ...                 87\n",
              "\n",
              "[5 rows x 5 columns]"
            ]
          },
          "metadata": {
            "tags": []
          },
          "execution_count": 34
        }
      ]
    },
    {
      "cell_type": "code",
      "metadata": {
        "id": "uhpSuslPbYaw"
      },
      "source": [
        "df['headline_length'] = df['headline'].apply(lambda x : len(x))\n",
        "df['description_length'] = df['short_description'].apply(lambda x : len(x))"
      ],
      "execution_count": 35,
      "outputs": []
    },
    {
      "cell_type": "code",
      "metadata": {
        "colab": {
          "base_uri": "https://localhost:8080/",
          "height": 289
        },
        "id": "1NvjEGswbe03",
        "outputId": "00a57192-6ba3-4c3b-e3a5-03df79cea9fc"
      },
      "source": [
        "df.head()"
      ],
      "execution_count": 36,
      "outputs": [
        {
          "output_type": "execute_result",
          "data": {
            "text/html": [
              "<div>\n",
              "<style scoped>\n",
              "    .dataframe tbody tr th:only-of-type {\n",
              "        vertical-align: middle;\n",
              "    }\n",
              "\n",
              "    .dataframe tbody tr th {\n",
              "        vertical-align: top;\n",
              "    }\n",
              "\n",
              "    .dataframe thead th {\n",
              "        text-align: right;\n",
              "    }\n",
              "</style>\n",
              "<table border=\"1\" class=\"dataframe\">\n",
              "  <thead>\n",
              "    <tr style=\"text-align: right;\">\n",
              "      <th></th>\n",
              "      <th>category</th>\n",
              "      <th>headline</th>\n",
              "      <th>short_description</th>\n",
              "      <th>headline_length</th>\n",
              "      <th>description_length</th>\n",
              "    </tr>\n",
              "  </thead>\n",
              "  <tbody>\n",
              "    <tr>\n",
              "      <th>0</th>\n",
              "      <td>CRIME</td>\n",
              "      <td>2 mass shootings texas last week 1 tv</td>\n",
              "      <td>left husband killed children another day america</td>\n",
              "      <td>37</td>\n",
              "      <td>48</td>\n",
              "    </tr>\n",
              "    <tr>\n",
              "      <th>1</th>\n",
              "      <td>ENTERTAINMENT</td>\n",
              "      <td>smith joins diplo nicky jam 2018 world cup off...</td>\n",
              "      <td>course song</td>\n",
              "      <td>56</td>\n",
              "      <td>11</td>\n",
              "    </tr>\n",
              "    <tr>\n",
              "      <th>2</th>\n",
              "      <td>ENTERTAINMENT</td>\n",
              "      <td>hugh grant marries first time age 57</td>\n",
              "      <td>actor longtime girlfriend anna eberstein tied ...</td>\n",
              "      <td>36</td>\n",
              "      <td>65</td>\n",
              "    </tr>\n",
              "    <tr>\n",
              "      <th>3</th>\n",
              "      <td>ENTERTAINMENT</td>\n",
              "      <td>jim carrey blasts castrato adam schiff democra...</td>\n",
              "      <td>actor gives dems ass kicking fighting hard eno...</td>\n",
              "      <td>60</td>\n",
              "      <td>62</td>\n",
              "    </tr>\n",
              "    <tr>\n",
              "      <th>4</th>\n",
              "      <td>ENTERTAINMENT</td>\n",
              "      <td>julianna margulies uses donald trump poop bags...</td>\n",
              "      <td>dietland actress said using bags really cathar...</td>\n",
              "      <td>55</td>\n",
              "      <td>68</td>\n",
              "    </tr>\n",
              "  </tbody>\n",
              "</table>\n",
              "</div>"
            ],
            "text/plain": [
              "        category  ... description_length\n",
              "0          CRIME  ...                 48\n",
              "1  ENTERTAINMENT  ...                 11\n",
              "2  ENTERTAINMENT  ...                 65\n",
              "3  ENTERTAINMENT  ...                 62\n",
              "4  ENTERTAINMENT  ...                 68\n",
              "\n",
              "[5 rows x 5 columns]"
            ]
          },
          "metadata": {
            "tags": []
          },
          "execution_count": 36
        }
      ]
    },
    {
      "cell_type": "code",
      "metadata": {
        "colab": {
          "base_uri": "https://localhost:8080/",
          "height": 297
        },
        "id": "86PytxY8hD0c",
        "outputId": "30da788c-d281-4be6-f40a-82c7b90589a5"
      },
      "source": [
        "df.describe()"
      ],
      "execution_count": 37,
      "outputs": [
        {
          "output_type": "execute_result",
          "data": {
            "text/html": [
              "<div>\n",
              "<style scoped>\n",
              "    .dataframe tbody tr th:only-of-type {\n",
              "        vertical-align: middle;\n",
              "    }\n",
              "\n",
              "    .dataframe tbody tr th {\n",
              "        vertical-align: top;\n",
              "    }\n",
              "\n",
              "    .dataframe thead th {\n",
              "        text-align: right;\n",
              "    }\n",
              "</style>\n",
              "<table border=\"1\" class=\"dataframe\">\n",
              "  <thead>\n",
              "    <tr style=\"text-align: right;\">\n",
              "      <th></th>\n",
              "      <th>headline_length</th>\n",
              "      <th>description_length</th>\n",
              "    </tr>\n",
              "  </thead>\n",
              "  <tbody>\n",
              "    <tr>\n",
              "      <th>count</th>\n",
              "      <td>180622.000000</td>\n",
              "      <td>180622.000000</td>\n",
              "    </tr>\n",
              "    <tr>\n",
              "      <th>mean</th>\n",
              "      <td>45.383591</td>\n",
              "      <td>84.456041</td>\n",
              "    </tr>\n",
              "    <tr>\n",
              "      <th>std</th>\n",
              "      <td>16.989724</td>\n",
              "      <td>51.597459</td>\n",
              "    </tr>\n",
              "    <tr>\n",
              "      <th>min</th>\n",
              "      <td>1.000000</td>\n",
              "      <td>1.000000</td>\n",
              "    </tr>\n",
              "    <tr>\n",
              "      <th>25%</th>\n",
              "      <td>33.000000</td>\n",
              "      <td>50.000000</td>\n",
              "    </tr>\n",
              "    <tr>\n",
              "      <th>50%</th>\n",
              "      <td>46.000000</td>\n",
              "      <td>80.000000</td>\n",
              "    </tr>\n",
              "    <tr>\n",
              "      <th>75%</th>\n",
              "      <td>57.000000</td>\n",
              "      <td>103.000000</td>\n",
              "    </tr>\n",
              "    <tr>\n",
              "      <th>max</th>\n",
              "      <td>274.000000</td>\n",
              "      <td>1002.000000</td>\n",
              "    </tr>\n",
              "  </tbody>\n",
              "</table>\n",
              "</div>"
            ],
            "text/plain": [
              "       headline_length  description_length\n",
              "count    180622.000000       180622.000000\n",
              "mean         45.383591           84.456041\n",
              "std          16.989724           51.597459\n",
              "min           1.000000            1.000000\n",
              "25%          33.000000           50.000000\n",
              "50%          46.000000           80.000000\n",
              "75%          57.000000          103.000000\n",
              "max         274.000000         1002.000000"
            ]
          },
          "metadata": {
            "tags": []
          },
          "execution_count": 37
        }
      ]
    },
    {
      "cell_type": "code",
      "metadata": {
        "colab": {
          "base_uri": "https://localhost:8080/"
        },
        "id": "GfPhIbBEhJY9",
        "outputId": "0c704866-2509-4efe-9888-0346338e4032"
      },
      "source": [
        "df.shape"
      ],
      "execution_count": 38,
      "outputs": [
        {
          "output_type": "execute_result",
          "data": {
            "text/plain": [
              "(180622, 5)"
            ]
          },
          "metadata": {
            "tags": []
          },
          "execution_count": 38
        }
      ]
    },
    {
      "cell_type": "code",
      "metadata": {
        "id": "9Gz5jihGf42t"
      },
      "source": [
        "max_features = 10000\n",
        "maxlen = 300\n",
        "embedding_size = 200\n",
        "trunc_type = \"pre\" \n",
        "padding_type = \"pre\""
      ],
      "execution_count": 39,
      "outputs": []
    },
    {
      "cell_type": "code",
      "metadata": {
        "id": "Zned6By3h36p"
      },
      "source": [
        "le = LabelEncoder()\n",
        "df['category'] = le.fit_transform(df['category'])"
      ],
      "execution_count": 40,
      "outputs": []
    },
    {
      "cell_type": "code",
      "metadata": {
        "colab": {
          "base_uri": "https://localhost:8080/"
        },
        "id": "3nK3v70krXdf",
        "outputId": "48f8de41-118a-498f-e080-17d4ee598803"
      },
      "source": [
        "df['category'].value_counts()"
      ],
      "execution_count": 41,
      "outputs": [
        {
          "output_type": "execute_result",
          "data": {
            "text/plain": [
              "24    29485\n",
              "37    17801\n",
              "10    13381\n",
              "30     9634\n",
              "34     9397\n",
              "22     8666\n",
              "13     6213\n",
              "25     5515\n",
              "16     5254\n",
              "3      5073\n",
              "5      4389\n",
              "28     4205\n",
              "17     4189\n",
              "2      4111\n",
              "33     3662\n",
              "35     3651\n",
              "23     3544\n",
              "8      3423\n",
              "38     3075\n",
              "18     3059\n",
              "6      2674\n",
              "20     2268\n",
              "36     2198\n",
              "39     2172\n",
              "32     2075\n",
              "15     2045\n",
              "31     1930\n",
              "26     1849\n",
              "27     1773\n",
              "21     1706\n",
              "29     1528\n",
              "1      1334\n",
              "11     1321\n",
              "40     1242\n",
              "12     1042\n",
              "14     1029\n",
              "7      1019\n",
              "19     1018\n",
              "4       918\n",
              "9       892\n",
              "0       862\n",
              "Name: category, dtype: int64"
            ]
          },
          "metadata": {
            "tags": []
          },
          "execution_count": 41
        }
      ]
    },
    {
      "cell_type": "code",
      "metadata": {
        "colab": {
          "base_uri": "https://localhost:8080/"
        },
        "id": "U_lTdEVWgoGe",
        "outputId": "293c97df-8f2a-4c28-9818-3fd866cfba56"
      },
      "source": [
        "tokenizer = Tokenizer(num_words=max_features)\n",
        "tokenizer.fit_on_texts(list(df['short_description']))\n",
        "X = tokenizer.texts_to_sequences(df['short_description'])\n",
        "\n",
        "print(\"Number of Samples:\", len(X))       \n",
        "print(X[0])"
      ],
      "execution_count": 42,
      "outputs": [
        {
          "output_type": "stream",
          "text": [
            "Number of Samples: 180622\n",
            "[256, 379, 561, 50, 83, 9, 101]\n"
          ],
          "name": "stdout"
        }
      ]
    },
    {
      "cell_type": "code",
      "metadata": {
        "colab": {
          "base_uri": "https://localhost:8080/"
        },
        "id": "CoVj1xJmhYI7",
        "outputId": "d1deedf1-f053-4796-8398-5f2354fa4eeb"
      },
      "source": [
        "X = pad_sequences(X, maxlen = maxlen, padding = padding_type, truncating = trunc_type)     \n",
        "y = tensorflow.keras.utils.to_categorical(df['category'])\n",
        "\n",
        "print(\"Number of Labels: \", len(y))     \n",
        "print(y[0])"
      ],
      "execution_count": 43,
      "outputs": [
        {
          "output_type": "stream",
          "text": [
            "Number of Labels:  180622\n",
            "[0. 0. 0. 0. 0. 0. 1. 0. 0. 0. 0. 0. 0. 0. 0. 0. 0. 0. 0. 0. 0. 0. 0. 0.\n",
            " 0. 0. 0. 0. 0. 0. 0. 0. 0. 0. 0. 0. 0. 0. 0. 0. 0.]\n"
          ],
          "name": "stdout"
        }
      ]
    },
    {
      "cell_type": "code",
      "metadata": {
        "id": "DCxcGQMRiySd"
      },
      "source": [
        "#tokenizer.word_index"
      ],
      "execution_count": 44,
      "outputs": []
    },
    {
      "cell_type": "code",
      "metadata": {
        "colab": {
          "base_uri": "https://localhost:8080/"
        },
        "id": "2O7AU__Bizau",
        "outputId": "fe03aeff-ee1a-4d3c-9a3d-130da448e310"
      },
      "source": [
        "X.shape"
      ],
      "execution_count": 45,
      "outputs": [
        {
          "output_type": "execute_result",
          "data": {
            "text/plain": [
              "(180622, 300)"
            ]
          },
          "metadata": {
            "tags": []
          },
          "execution_count": 45
        }
      ]
    },
    {
      "cell_type": "code",
      "metadata": {
        "colab": {
          "base_uri": "https://localhost:8080/"
        },
        "id": "jtOUa8ZHjPkq",
        "outputId": "c03d0afd-912a-4ea8-cf2f-04addf94906e"
      },
      "source": [
        "X[0]"
      ],
      "execution_count": 46,
      "outputs": [
        {
          "output_type": "execute_result",
          "data": {
            "text/plain": [
              "array([  0,   0,   0,   0,   0,   0,   0,   0,   0,   0,   0,   0,   0,\n",
              "         0,   0,   0,   0,   0,   0,   0,   0,   0,   0,   0,   0,   0,\n",
              "         0,   0,   0,   0,   0,   0,   0,   0,   0,   0,   0,   0,   0,\n",
              "         0,   0,   0,   0,   0,   0,   0,   0,   0,   0,   0,   0,   0,\n",
              "         0,   0,   0,   0,   0,   0,   0,   0,   0,   0,   0,   0,   0,\n",
              "         0,   0,   0,   0,   0,   0,   0,   0,   0,   0,   0,   0,   0,\n",
              "         0,   0,   0,   0,   0,   0,   0,   0,   0,   0,   0,   0,   0,\n",
              "         0,   0,   0,   0,   0,   0,   0,   0,   0,   0,   0,   0,   0,\n",
              "         0,   0,   0,   0,   0,   0,   0,   0,   0,   0,   0,   0,   0,\n",
              "         0,   0,   0,   0,   0,   0,   0,   0,   0,   0,   0,   0,   0,\n",
              "         0,   0,   0,   0,   0,   0,   0,   0,   0,   0,   0,   0,   0,\n",
              "         0,   0,   0,   0,   0,   0,   0,   0,   0,   0,   0,   0,   0,\n",
              "         0,   0,   0,   0,   0,   0,   0,   0,   0,   0,   0,   0,   0,\n",
              "         0,   0,   0,   0,   0,   0,   0,   0,   0,   0,   0,   0,   0,\n",
              "         0,   0,   0,   0,   0,   0,   0,   0,   0,   0,   0,   0,   0,\n",
              "         0,   0,   0,   0,   0,   0,   0,   0,   0,   0,   0,   0,   0,\n",
              "         0,   0,   0,   0,   0,   0,   0,   0,   0,   0,   0,   0,   0,\n",
              "         0,   0,   0,   0,   0,   0,   0,   0,   0,   0,   0,   0,   0,\n",
              "         0,   0,   0,   0,   0,   0,   0,   0,   0,   0,   0,   0,   0,\n",
              "         0,   0,   0,   0,   0,   0,   0,   0,   0,   0,   0,   0,   0,\n",
              "         0,   0,   0,   0,   0,   0,   0,   0,   0,   0,   0,   0,   0,\n",
              "         0,   0,   0,   0,   0,   0,   0,   0,   0,   0,   0,   0,   0,\n",
              "         0,   0,   0,   0,   0,   0,   0, 256, 379, 561,  50,  83,   9,\n",
              "       101], dtype=int32)"
            ]
          },
          "metadata": {
            "tags": []
          },
          "execution_count": 46
        }
      ]
    },
    {
      "cell_type": "code",
      "metadata": {
        "colab": {
          "base_uri": "https://localhost:8080/"
        },
        "id": "tfriRbVMj4UY",
        "outputId": "a629dfdf-95c8-41b5-eb64-bc5c697a8e20"
      },
      "source": [
        "num_words = len(tokenizer.word_index) + 1\n",
        "print(num_words)"
      ],
      "execution_count": 47,
      "outputs": [
        {
          "output_type": "stream",
          "text": [
            "73658\n"
          ],
          "name": "stdout"
        }
      ]
    },
    {
      "cell_type": "code",
      "metadata": {
        "id": "h1Yv4yCAjZ2V"
      },
      "source": [
        "from sklearn.model_selection import train_test_split\n",
        "X_train, X_test, y_train, y_test = train_test_split(X, y, random_state = 50, stratify=y, test_size=0.2)"
      ],
      "execution_count": 48,
      "outputs": []
    },
    {
      "cell_type": "code",
      "metadata": {
        "colab": {
          "base_uri": "https://localhost:8080/"
        },
        "id": "3mBiGiyZkCXa",
        "outputId": "c3c4cc91-d8fd-42e6-a44e-057eebded035"
      },
      "source": [
        "print(X_train.shape)\n",
        "print(X_test.shape)\n",
        "print(y_train.shape)\n",
        "print(y_test.shape)"
      ],
      "execution_count": 49,
      "outputs": [
        {
          "output_type": "stream",
          "text": [
            "(144497, 300)\n",
            "(36125, 300)\n",
            "(144497, 41)\n",
            "(36125, 41)\n"
          ],
          "name": "stdout"
        }
      ]
    },
    {
      "cell_type": "code",
      "metadata": {
        "id": "NZ7mv_PIjrDU"
      },
      "source": [
        "model = Sequential()\n",
        "model.add(Embedding(num_words, embedding_size, input_length=maxlen))\n",
        "model.add(Bidirectional(LSTM(128, return_sequences = True)))\n",
        "model.add(Flatten())\n",
        "model.add(Dense(512, activation='relu'))\n",
        "model.add(Dense(256, activation = 'relu'))\n",
        "model.add(Dense(128, activation = 'relu'))\n",
        "model.add(Dense(64, activation= 'relu'))\n",
        "model.add(Dropout(0.5))\n",
        "model.add(Dense(41, activation=\"softmax\"))"
      ],
      "execution_count": 50,
      "outputs": []
    },
    {
      "cell_type": "code",
      "metadata": {
        "colab": {
          "base_uri": "https://localhost:8080/"
        },
        "id": "ElLd0u_9j8VI",
        "outputId": "0605594d-932f-4a9c-fff2-bdc8583013ef"
      },
      "source": [
        "model.summary()"
      ],
      "execution_count": 51,
      "outputs": [
        {
          "output_type": "stream",
          "text": [
            "Model: \"sequential\"\n",
            "_________________________________________________________________\n",
            "Layer (type)                 Output Shape              Param #   \n",
            "=================================================================\n",
            "embedding (Embedding)        (None, 300, 200)          14731600  \n",
            "_________________________________________________________________\n",
            "bidirectional (Bidirectional (None, 300, 256)          336896    \n",
            "_________________________________________________________________\n",
            "flatten (Flatten)            (None, 76800)             0         \n",
            "_________________________________________________________________\n",
            "dense (Dense)                (None, 512)               39322112  \n",
            "_________________________________________________________________\n",
            "dense_1 (Dense)              (None, 256)               131328    \n",
            "_________________________________________________________________\n",
            "dense_2 (Dense)              (None, 128)               32896     \n",
            "_________________________________________________________________\n",
            "dense_3 (Dense)              (None, 64)                8256      \n",
            "_________________________________________________________________\n",
            "dropout (Dropout)            (None, 64)                0         \n",
            "_________________________________________________________________\n",
            "dense_4 (Dense)              (None, 41)                2665      \n",
            "=================================================================\n",
            "Total params: 54,565,753\n",
            "Trainable params: 54,565,753\n",
            "Non-trainable params: 0\n",
            "_________________________________________________________________\n"
          ],
          "name": "stdout"
        }
      ]
    },
    {
      "cell_type": "code",
      "metadata": {
        "id": "bkkVnLZRkUJj"
      },
      "source": [
        "\n",
        "model.compile(loss='categorical_crossentropy', optimizer='adam', metrics=['accuracy'])"
      ],
      "execution_count": 52,
      "outputs": []
    },
    {
      "cell_type": "code",
      "metadata": {
        "id": "gk1U7wOQkW-j"
      },
      "source": [
        "# simple early stopping\n",
        "es = EarlyStopping(monitor='val_loss', mode='min', verbose=1, patience=10, min_delta=0.01)\n",
        "mc = ModelCheckpoint('best_model1.h5', monitor='val_accuracy', mode='max', verbose=1, save_best_only=True)"
      ],
      "execution_count": 53,
      "outputs": []
    },
    {
      "cell_type": "code",
      "metadata": {
        "colab": {
          "base_uri": "https://localhost:8080/"
        },
        "id": "PkfrFh5vkdi8",
        "outputId": "15fce38f-b5f9-427e-fb5b-3694f0bc5642"
      },
      "source": [
        "batch_size = 100\n",
        "epochs = 20\n",
        "\n",
        "model_history = model.fit(X_train, y_train, batch_size=batch_size, epochs=epochs, \n",
        "                          validation_data=(X_test, y_test),\n",
        "                          callbacks=[es, mc])"
      ],
      "execution_count": 54,
      "outputs": [
        {
          "output_type": "stream",
          "text": [
            "Epoch 1/20\n",
            "1445/1445 [==============================] - ETA: 0s - loss: 2.7810 - accuracy: 0.3082\n",
            "Epoch 00001: val_accuracy improved from -inf to 0.40426, saving model to best_model1.h5\n",
            "1445/1445 [==============================] - 320s 222ms/step - loss: 2.7810 - accuracy: 0.3082 - val_loss: 2.3601 - val_accuracy: 0.4043\n",
            "Epoch 2/20\n",
            "1445/1445 [==============================] - ETA: 0s - loss: 2.3051 - accuracy: 0.4214\n",
            "Epoch 00002: val_accuracy improved from 0.40426 to 0.43668, saving model to best_model1.h5\n",
            "1445/1445 [==============================] - 317s 220ms/step - loss: 2.3051 - accuracy: 0.4214 - val_loss: 2.2026 - val_accuracy: 0.4367\n",
            "Epoch 3/20\n",
            "1445/1445 [==============================] - ETA: 0s - loss: 2.1170 - accuracy: 0.4598\n",
            "Epoch 00003: val_accuracy improved from 0.43668 to 0.44958, saving model to best_model1.h5\n",
            "1445/1445 [==============================] - 318s 220ms/step - loss: 2.1170 - accuracy: 0.4598 - val_loss: 2.1567 - val_accuracy: 0.4496\n",
            "Epoch 4/20\n",
            "1445/1445 [==============================] - ETA: 0s - loss: 1.9774 - accuracy: 0.4889\n",
            "Epoch 00004: val_accuracy did not improve from 0.44958\n",
            "1445/1445 [==============================] - 316s 219ms/step - loss: 1.9774 - accuracy: 0.4889 - val_loss: 2.1867 - val_accuracy: 0.4477\n",
            "Epoch 5/20\n",
            "1445/1445 [==============================] - ETA: 0s - loss: 1.8482 - accuracy: 0.5168\n",
            "Epoch 00005: val_accuracy did not improve from 0.44958\n",
            "1445/1445 [==============================] - 314s 217ms/step - loss: 1.8482 - accuracy: 0.5168 - val_loss: 2.2431 - val_accuracy: 0.4493\n",
            "Epoch 6/20\n",
            "1445/1445 [==============================] - ETA: 0s - loss: 1.7098 - accuracy: 0.5476\n",
            "Epoch 00006: val_accuracy did not improve from 0.44958\n",
            "1445/1445 [==============================] - 314s 217ms/step - loss: 1.7098 - accuracy: 0.5476 - val_loss: 2.3335 - val_accuracy: 0.4418\n",
            "Epoch 7/20\n",
            "1445/1445 [==============================] - ETA: 0s - loss: 1.5674 - accuracy: 0.5779\n",
            "Epoch 00007: val_accuracy did not improve from 0.44958\n",
            "1445/1445 [==============================] - 313s 217ms/step - loss: 1.5674 - accuracy: 0.5779 - val_loss: 2.5101 - val_accuracy: 0.4348\n",
            "Epoch 8/20\n",
            "1445/1445 [==============================] - ETA: 0s - loss: 1.4374 - accuracy: 0.6090\n",
            "Epoch 00008: val_accuracy did not improve from 0.44958\n",
            "1445/1445 [==============================] - 310s 214ms/step - loss: 1.4374 - accuracy: 0.6090 - val_loss: 2.6646 - val_accuracy: 0.4315\n",
            "Epoch 9/20\n",
            "1445/1445 [==============================] - ETA: 0s - loss: 1.3109 - accuracy: 0.6402\n",
            "Epoch 00009: val_accuracy did not improve from 0.44958\n",
            "1445/1445 [==============================] - 312s 216ms/step - loss: 1.3109 - accuracy: 0.6402 - val_loss: 2.9855 - val_accuracy: 0.4283\n",
            "Epoch 10/20\n",
            "1445/1445 [==============================] - ETA: 0s - loss: 1.1957 - accuracy: 0.6691\n",
            "Epoch 00010: val_accuracy did not improve from 0.44958\n",
            "1445/1445 [==============================] - 311s 215ms/step - loss: 1.1957 - accuracy: 0.6691 - val_loss: 3.2705 - val_accuracy: 0.4180\n",
            "Epoch 11/20\n",
            "1445/1445 [==============================] - ETA: 0s - loss: 1.0932 - accuracy: 0.6965\n",
            "Epoch 00011: val_accuracy did not improve from 0.44958\n",
            "1445/1445 [==============================] - 310s 215ms/step - loss: 1.0932 - accuracy: 0.6965 - val_loss: 3.6081 - val_accuracy: 0.4084\n",
            "Epoch 12/20\n",
            "1445/1445 [==============================] - ETA: 0s - loss: 1.0043 - accuracy: 0.7222\n",
            "Epoch 00012: val_accuracy did not improve from 0.44958\n",
            "1445/1445 [==============================] - 315s 218ms/step - loss: 1.0043 - accuracy: 0.7222 - val_loss: 3.8680 - val_accuracy: 0.4064\n",
            "Epoch 13/20\n",
            "1445/1445 [==============================] - ETA: 0s - loss: 0.9272 - accuracy: 0.7427\n",
            "Epoch 00013: val_accuracy did not improve from 0.44958\n",
            "1445/1445 [==============================] - 313s 217ms/step - loss: 0.9272 - accuracy: 0.7427 - val_loss: 4.0427 - val_accuracy: 0.4030\n",
            "Epoch 00013: early stopping\n"
          ],
          "name": "stdout"
        }
      ]
    },
    {
      "cell_type": "code",
      "metadata": {
        "colab": {
          "base_uri": "https://localhost:8080/"
        },
        "id": "I-MrVvpdktOW",
        "outputId": "797b50fb-9206-442e-a627-94c5bc436015"
      },
      "source": [
        "# load the saved model\n",
        "saved_model = load_model('best_model1.h5')\n",
        "\n",
        "# evaluate the model\n",
        "_, train_acc = saved_model.evaluate(X_train,  y_train, verbose=0)\n",
        "_, test_acc = saved_model.evaluate(X_test, y_test, verbose=0)\n",
        "print('Train: %.3f, Test: %.3f' % (train_acc, test_acc))"
      ],
      "execution_count": 55,
      "outputs": [
        {
          "output_type": "stream",
          "text": [
            "Train: 0.514, Test: 0.450\n"
          ],
          "name": "stdout"
        }
      ]
    },
    {
      "cell_type": "code",
      "metadata": {
        "colab": {
          "base_uri": "https://localhost:8080/",
          "height": 562
        },
        "id": "wGRksnYclTPS",
        "outputId": "81e16887-3d9f-43ee-c74c-527ccd7c1817"
      },
      "source": [
        "evaluation = pd.DataFrame(model_history.history)\n",
        "evaluation[['accuracy', 'val_accuracy']].plot()\n",
        "plt.title('Training and validation accuracy')\n",
        "evaluation[['loss', 'val_loss']].plot()\n",
        "plt.title('Training and validation loss')"
      ],
      "execution_count": 56,
      "outputs": [
        {
          "output_type": "execute_result",
          "data": {
            "text/plain": [
              "Text(0.5, 1.0, 'Training and validation loss')"
            ]
          },
          "metadata": {
            "tags": []
          },
          "execution_count": 56
        },
        {
          "output_type": "display_data",
          "data": {
            "image/png": "[encoded data removed]",
            "text/plain": [
              "<Figure size 432x288 with 1 Axes>"
            ]
          },
          "metadata": {
            "tags": [],
            "needs_background": "light"
          }
        },
        {
          "output_type": "display_data",
          "data": {
            "image/png": "[encoded data removed]",
            "text/plain": [
              "<Figure size 432x288 with 1 Axes>"
            ]
          },
          "metadata": {
            "tags": [],
            "needs_background": "light"
          }
        }
      ]
    },
    {
      "cell_type": "code",
      "metadata": {
        "id": "pQdHonQ_ktyx"
      },
      "source": [
        ""
      ],
      "execution_count": 56,
      "outputs": []
    },
    {
      "cell_type": "markdown",
      "metadata": {
        "id": "MjoY-ojcoEBx"
      },
      "source": [
        "### Pretrained weights"
      ]
    },
    {
      "cell_type": "code",
      "metadata": {
        "id": "qf8y77yQkt-t"
      },
      "source": [
        "EMBEDDING_FILE = './glove.6B.200d.txt'\n",
        "\n",
        "embeddings = {}\n",
        "for o in open(EMBEDDING_FILE):\n",
        "    word = o.split(\" \")[0]\n",
        "    # print(word)\n",
        "    embd = o.split(\" \")[1:]\n",
        "    embd = np.asarray(embd, dtype='float32')\n",
        "    # print(embd)\n",
        "    embeddings[word] = embd\n",
        "\n",
        "# create a weight matrix for words in training docs\n",
        "embedding_matrix = np.zeros((num_words, embedding_size))\n",
        "\n",
        "for word, i in tokenizer.word_index.items():\n",
        "\tembedding_vector = embeddings.get(word)\n",
        "\tif embedding_vector is not None:\n",
        "\t\tembedding_matrix[i] = embedding_vector"
      ],
      "execution_count": 57,
      "outputs": []
    },
    {
      "cell_type": "code",
      "metadata": {
        "id": "_-Iqk7ZikwD-"
      },
      "source": [
        "model2 = Sequential()\n",
        "model2.add(Embedding(num_words, embedding_size, weights = [embedding_matrix], input_length=maxlen))\n",
        "model2.add(Bidirectional(LSTM(128, return_sequences = True)))\n",
        "model2.add(Flatten())\n",
        "model2.add(Dense(512, activation='relu'))\n",
        "model2.add(Dense(256, activation = 'relu'))\n",
        "model2.add(Dense(128, activation = 'relu'))\n",
        "model2.add(Dense(64, activation= 'relu'))\n",
        "model2.add(Dropout(0.5))\n",
        "model2.add(Dense(41, activation=\"softmax\"))"
      ],
      "execution_count": 58,
      "outputs": []
    },
    {
      "cell_type": "code",
      "metadata": {
        "id": "XhnzzJEblE_B"
      },
      "source": [
        "model2.compile(loss='categorical_crossentropy', optimizer='adam', metrics=['accuracy'])"
      ],
      "execution_count": 59,
      "outputs": []
    },
    {
      "cell_type": "code",
      "metadata": {
        "id": "kcpMR5iglGcS"
      },
      "source": [
        "# simple early stopping\n",
        "es = EarlyStopping(monitor='val_loss', mode='min', verbose=1, patience=10, min_delta=0.01)\n",
        "mc = ModelCheckpoint('best_model2.h5', monitor='val_accuracy', mode='max', verbose=1, save_best_only=True)"
      ],
      "execution_count": 60,
      "outputs": []
    },
    {
      "cell_type": "code",
      "metadata": {
        "colab": {
          "base_uri": "https://localhost:8080/"
        },
        "id": "OaaCLOJnlKWU",
        "outputId": "81c60c61-d187-471e-80f1-52c7dbe9ed4d"
      },
      "source": [
        "batch_size = 100\n",
        "epochs = 20\n",
        "\n",
        "model2_history = model2.fit(X_train, y_train, batch_size=batch_size, epochs=epochs, \n",
        "                          validation_data=(X_test, y_test),\n",
        "                          callbacks=[es, mc])"
      ],
      "execution_count": 61,
      "outputs": [
        {
          "output_type": "stream",
          "text": [
            "Epoch 1/20\n",
            "1445/1445 [==============================] - ETA: 0s - loss: 2.4709 - accuracy: 0.3939\n",
            "Epoch 00001: val_accuracy improved from -inf to 0.45451, saving model to best_model2.h5\n",
            "1445/1445 [==============================] - 328s 227ms/step - loss: 2.4709 - accuracy: 0.3939 - val_loss: 2.0953 - val_accuracy: 0.4545\n",
            "Epoch 2/20\n",
            "1445/1445 [==============================] - ETA: 0s - loss: 2.1151 - accuracy: 0.4681\n",
            "Epoch 00002: val_accuracy improved from 0.45451 to 0.47471, saving model to best_model2.h5\n",
            "1445/1445 [==============================] - 332s 230ms/step - loss: 2.1151 - accuracy: 0.4681 - val_loss: 2.0160 - val_accuracy: 0.4747\n",
            "Epoch 3/20\n",
            "1445/1445 [==============================] - ETA: 0s - loss: 1.9693 - accuracy: 0.4969\n",
            "Epoch 00003: val_accuracy improved from 0.47471 to 0.48185, saving model to best_model2.h5\n",
            "1445/1445 [==============================] - 334s 231ms/step - loss: 1.9693 - accuracy: 0.4969 - val_loss: 2.0142 - val_accuracy: 0.4819\n",
            "Epoch 4/20\n",
            "1445/1445 [==============================] - ETA: 0s - loss: 1.8285 - accuracy: 0.5263\n",
            "Epoch 00004: val_accuracy did not improve from 0.48185\n",
            "1445/1445 [==============================] - 331s 229ms/step - loss: 1.8285 - accuracy: 0.5263 - val_loss: 2.0728 - val_accuracy: 0.4731\n",
            "Epoch 5/20\n",
            "1445/1445 [==============================] - ETA: 0s - loss: 1.6767 - accuracy: 0.5583\n",
            "Epoch 00005: val_accuracy did not improve from 0.48185\n",
            "1445/1445 [==============================] - 331s 229ms/step - loss: 1.6767 - accuracy: 0.5583 - val_loss: 2.1267 - val_accuracy: 0.4777\n",
            "Epoch 6/20\n",
            "1445/1445 [==============================] - ETA: 0s - loss: 1.5107 - accuracy: 0.5964\n",
            "Epoch 00006: val_accuracy did not improve from 0.48185\n",
            "1445/1445 [==============================] - 331s 229ms/step - loss: 1.5107 - accuracy: 0.5964 - val_loss: 2.3110 - val_accuracy: 0.4687\n",
            "Epoch 7/20\n",
            "1445/1445 [==============================] - ETA: 0s - loss: 1.3477 - accuracy: 0.6345\n",
            "Epoch 00007: val_accuracy did not improve from 0.48185\n",
            "1445/1445 [==============================] - 331s 229ms/step - loss: 1.3477 - accuracy: 0.6345 - val_loss: 2.5005 - val_accuracy: 0.4649\n",
            "Epoch 8/20\n",
            "1445/1445 [==============================] - ETA: 0s - loss: 1.1946 - accuracy: 0.6711\n",
            "Epoch 00008: val_accuracy did not improve from 0.48185\n",
            "1445/1445 [==============================] - 331s 229ms/step - loss: 1.1946 - accuracy: 0.6711 - val_loss: 2.7466 - val_accuracy: 0.4576\n",
            "Epoch 9/20\n",
            "1445/1445 [==============================] - ETA: 0s - loss: 1.0706 - accuracy: 0.7033\n",
            "Epoch 00009: val_accuracy did not improve from 0.48185\n",
            "1445/1445 [==============================] - 325s 225ms/step - loss: 1.0706 - accuracy: 0.7033 - val_loss: 3.0189 - val_accuracy: 0.4448\n",
            "Epoch 10/20\n",
            "1445/1445 [==============================] - ETA: 0s - loss: 0.9563 - accuracy: 0.7328\n",
            "Epoch 00010: val_accuracy did not improve from 0.48185\n",
            "1445/1445 [==============================] - 321s 222ms/step - loss: 0.9563 - accuracy: 0.7328 - val_loss: 3.4095 - val_accuracy: 0.4447\n",
            "Epoch 11/20\n",
            "1445/1445 [==============================] - ETA: 0s - loss: 0.8631 - accuracy: 0.7575\n",
            "Epoch 00011: val_accuracy did not improve from 0.48185\n",
            "1445/1445 [==============================] - 320s 221ms/step - loss: 0.8631 - accuracy: 0.7575 - val_loss: 3.7247 - val_accuracy: 0.4410\n",
            "Epoch 12/20\n",
            "1445/1445 [==============================] - ETA: 0s - loss: 0.7850 - accuracy: 0.7797\n",
            "Epoch 00012: val_accuracy did not improve from 0.48185\n",
            "1445/1445 [==============================] - 318s 220ms/step - loss: 0.7850 - accuracy: 0.7797 - val_loss: 3.8545 - val_accuracy: 0.4342\n",
            "Epoch 00012: early stopping\n"
          ],
          "name": "stdout"
        }
      ]
    },
    {
      "cell_type": "code",
      "metadata": {
        "colab": {
          "base_uri": "https://localhost:8080/"
        },
        "id": "YbueDhBvqRl-",
        "outputId": "c495aa9f-0f63-4f08-929c-c4197a464270"
      },
      "source": [
        "# load the saved model\n",
        "saved_model = load_model('best_model2.h5')\n",
        "\n",
        "# evaluate the model\n",
        "_, train_acc = saved_model.evaluate(X_train,  y_train, verbose=0)\n",
        "_, test_acc = saved_model.evaluate(X_test, y_test, verbose=0)\n",
        "print('Train: %.3f, Test: %.3f' % (train_acc, test_acc))"
      ],
      "execution_count": 62,
      "outputs": [
        {
          "output_type": "stream",
          "text": [
            "Train: 0.545, Test: 0.482\n"
          ],
          "name": "stdout"
        }
      ]
    },
    {
      "cell_type": "code",
      "metadata": {
        "colab": {
          "base_uri": "https://localhost:8080/",
          "height": 562
        },
        "id": "9zZbUgE5qWmd",
        "outputId": "7b08d7d5-3907-4620-dd18-7ba4372ecbaa"
      },
      "source": [
        "evaluation = pd.DataFrame(model2_history.history)\n",
        "evaluation[['accuracy', 'val_accuracy']].plot()\n",
        "plt.title('Training and validation accuracy')\n",
        "evaluation[['loss', 'val_loss']].plot()\n",
        "plt.title('Training and validation loss')"
      ],
      "execution_count": 63,
      "outputs": [
        {
          "output_type": "execute_result",
          "data": {
            "text/plain": [
              "Text(0.5, 1.0, 'Training and validation loss')"
            ]
          },
          "metadata": {
            "tags": []
          },
          "execution_count": 63
        },
        {
          "output_type": "display_data",
          "data": {
            "image/png": "[encoded data removed]",
            "text/plain": [
              "<Figure size 432x288 with 1 Axes>"
            ]
          },
          "metadata": {
            "tags": [],
            "needs_background": "light"
          }
        },
        {
          "output_type": "display_data",
          "data": {
            "image/png": "[encoded data removed]",
            "text/plain": [
              "<Figure size 432x288 with 1 Axes>"
            ]
          },
          "metadata": {
            "tags": [],
            "needs_background": "light"
          }
        }
      ]
    },
    {
      "cell_type": "code",
      "metadata": {
        "colab": {
          "base_uri": "https://localhost:8080/"
        },
        "id": "jdUsPQidpwhk",
        "outputId": "773fc2fe-b93d-4594-d1d0-5d709235111e"
      },
      "source": [
        "# reviews on which we need to predict\n",
        "sentence = [\"The movie was very touching and heart whelming\", \n",
        "            \"I have never seen a terrible movie like this\"]\n",
        "\n",
        "# convert to a sequence\n",
        "sequences = tokenizer.texts_to_sequences(sentence)\n",
        "\n",
        "# pad the sequence\n",
        "padded = pad_sequences(sequences, maxlen=maxlen, padding=padding_type, truncating=trunc_type)\n",
        "\n",
        "# preict the label\n",
        "print(model.predict(padded))\n",
        "print(np.argmax(model.predict(padded), axis = -1))\n"
      ],
      "execution_count": 70,
      "outputs": [
        {
          "output_type": "stream",
          "text": [
            "[[9.2868031e-06 1.7885670e-02 4.4583857e-02 3.3305127e-03 8.7293878e-04\n",
            "  6.4740747e-02 4.3331613e-03 2.5641712e-05 6.6023182e-05 4.5876768e-05\n",
            "  4.2517665e-01 9.4478046e-06 3.4882919e-06 9.3514856e-04 5.6538982e-03\n",
            "  1.0239761e-03 6.4702416e-03 1.1784084e-03 1.7185112e-03 1.6083021e-02\n",
            "  1.7550396e-02 7.3890260e-06 1.7024062e-04 9.3622627e-03 1.4542910e-01\n",
            "  5.3367678e-02 3.9879456e-03 7.7976298e-04 8.5539192e-02 6.1347936e-03\n",
            "  4.4974377e-03 1.6090153e-03 3.1116763e-03 3.0357039e-03 1.9679542e-03\n",
            "  1.4361902e-04 3.6993396e-02 1.2328509e-04 2.9750057e-02 2.2830083e-03\n",
            "  9.5956893e-06]\n",
            " [2.5954114e-07 9.2950190e-04 7.7013271e-03 4.2489269e-06 2.0236867e-07\n",
            "  1.5672369e-02 1.1991537e-07 5.5059900e-07 9.2923369e-07 1.9500117e-09\n",
            "  9.6024716e-01 2.5067028e-09 2.4432250e-08 2.6782830e-06 7.6072058e-05\n",
            "  4.0844427e-08 2.1138374e-05 2.4927002e-05 1.9865342e-06 5.3998682e-04\n",
            "  1.7809531e-05 8.5735818e-09 6.3838174e-06 7.4913783e-04 3.0358606e-05\n",
            "  1.0358313e-02 6.1704723e-06 1.0559282e-06 4.3615614e-04 3.9883779e-04\n",
            "  1.0094615e-03 9.4835218e-07 1.2699071e-06 2.2773708e-08 4.9598471e-05\n",
            "  6.8442396e-06 4.2516956e-04 1.3856795e-06 1.2774961e-03 1.7061534e-08\n",
            "  4.9657532e-11]]\n",
            "[10 10]\n"
          ],
          "name": "stdout"
        }
      ]
    },
    {
      "cell_type": "markdown",
      "metadata": {
        "id": "pWdjDoLRqbFj"
      },
      "source": [
        "### **Testing**"
      ]
    },
    {
      "cell_type": "code",
      "metadata": {
        "colab": {
          "base_uri": "https://localhost:8080/"
        },
        "id": "yDpXOlrHp5Ot",
        "outputId": "80b35215-946d-485a-ca30-5283a191854f"
      },
      "source": [
        "# reviews on which we need to predict\n",
        "sentence = [\"The movie was very touching and heart whelming\", \n",
        "            \"I have never seen a terrible movie like this\"]\n",
        "\n",
        "# convert to a sequence\n",
        "sequences = tokenizer.texts_to_sequences(sentence)\n",
        "\n",
        "# pad the sequence\n",
        "padded = pad_sequences(sequences, maxlen=maxlen, padding=padding_type, truncating=trunc_type)\n",
        "\n",
        "# preict the label\n",
        "print(model2.predict(padded))\n",
        "print(np.argmax(model2.predict(padded), axis = -1))"
      ],
      "execution_count": 68,
      "outputs": [
        {
          "output_type": "stream",
          "text": [
            "[[2.8547682e-04 3.8038522e-02 8.6457305e-02 3.5039838e-03 1.0289797e-03\n",
            "  4.7120128e-02 6.2446292e-03 3.6823220e-04 1.6863273e-03 9.7494521e-05\n",
            "  4.1782624e-01 2.1998741e-04 2.6281356e-04 2.2721279e-03 1.6682586e-02\n",
            "  1.1382068e-03 7.4414713e-03 5.9592463e-03 3.4564119e-03 2.5946958e-02\n",
            "  1.1005123e-02 1.4132478e-04 3.2955988e-03 3.3100493e-02 2.5048345e-02\n",
            "  8.4795818e-02 9.3566952e-03 2.1588034e-03 3.7103713e-02 1.1587601e-02\n",
            "  1.5484780e-02 1.6625003e-03 5.2497964e-03 4.0596924e-03 1.0910969e-02\n",
            "  1.5665615e-03 2.1843476e-02 7.3408370e-04 5.2099559e-02 2.7330450e-03\n",
            "  2.4836800e-05]\n",
            " [1.5151021e-07 3.9245342e-03 7.2599729e-03 9.6582156e-04 2.1194272e-05\n",
            "  1.7139122e-01 4.9397694e-03 6.4811246e-07 4.3539876e-06 6.4436097e-07\n",
            "  1.4516281e-01 3.1953536e-05 2.0465792e-07 1.2135697e-02 6.5683968e-02\n",
            "  7.1667307e-03 1.4973309e-02 9.7898012e-03 3.7260319e-04 1.5502253e-03\n",
            "  2.3561581e-03 1.5930150e-06 1.4484498e-04 2.7812995e-02 4.4218089e-02\n",
            "  9.1288611e-03 1.2257147e-03 9.9948021e-03 4.7001172e-02 1.1500067e-02\n",
            "  5.2294866e-03 2.0343592e-02 1.2606753e-02 5.6184842e-03 6.4697298e-03\n",
            "  2.0992686e-05 3.4524754e-01 1.2947176e-05 4.3504080e-03 1.3399126e-03\n",
            "  1.8093891e-07]]\n",
            "[10 36]\n"
          ],
          "name": "stdout"
        }
      ]
    },
    {
      "cell_type": "code",
      "metadata": {
        "colab": {
          "base_uri": "https://localhost:8080/"
        },
        "id": "EltgUxBkp_bj",
        "outputId": "5564acaa-a533-49b4-a8cc-61a519204817"
      },
      "source": [
        "sentence = [\"Rojer federer is into the wimbledon finals\", \n",
        "            \"NASA to launch two more satellites this year\"]\n",
        "# convert to a sequence\n",
        "sequences = tokenizer.texts_to_sequences(sentence)\n",
        "\n",
        "# pad the sequence\n",
        "padded = pad_sequences(sequences, maxlen=maxlen, padding=padding_type, truncating=trunc_type)\n",
        "\n",
        "# preict the label\n",
        "print(model.predict(padded))\n",
        "print(np.argmax(model.predict(padded), axis = -1))"
      ],
      "execution_count": 71,
      "outputs": [
        {
          "output_type": "stream",
          "text": [
            "[[4.2978750e-06 2.9260605e-03 2.5786096e-02 8.0612605e-04 2.4652557e-04\n",
            "  1.2612604e-02 6.2643546e-03 4.6339314e-06 7.2819562e-06 2.2253329e-05\n",
            "  5.9166253e-02 4.7921940e-06 2.9148276e-07 2.2022323e-05 9.7398479e-03\n",
            "  5.9379160e-04 1.5477169e-03 3.4442583e-05 9.1772777e-04 3.4228805e-03\n",
            "  2.8801055e-03 3.2075766e-07 1.3497038e-04 3.5087806e-03 1.4125418e-02\n",
            "  1.9858208e-02 1.8044539e-03 6.9291028e-04 7.9149342e-01 5.8116457e-05\n",
            "  1.3482178e-04 3.1294720e-05 4.3017074e-04 2.8185561e-04 1.4688999e-03\n",
            "  1.7314327e-05 3.3630855e-02 2.1694643e-04 4.8123617e-03 2.8639252e-04\n",
            "  2.3994071e-06]\n",
            " [1.1613707e-07 1.3365359e-04 1.5596352e-03 2.8815240e-01 5.5898988e-04\n",
            "  1.1411916e-01 4.3719614e-04 4.6065014e-07 1.6668496e-06 2.6708765e-05\n",
            "  3.4879795e-03 6.2192310e-05 5.0661760e-07 8.1427384e-04 6.8640839e-03\n",
            "  1.3051587e-02 1.2497400e-01 1.2712018e-03 2.7077325e-02 1.7842212e-03\n",
            "  1.0409479e-02 3.1140360e-05 3.7828613e-05 2.5923168e-03 2.2751343e-01\n",
            "  1.3783311e-03 1.0434666e-03 1.7365023e-02 3.2318877e-03 8.9962641e-04\n",
            "  4.6202666e-04 1.6997820e-04 1.2601309e-01 2.1412645e-03 6.6226292e-03\n",
            "  7.7338746e-06 3.5594900e-03 7.0838745e-05 9.9200336e-03 2.1480417e-03\n",
            "  5.0340550e-06]]\n",
            "[28  3]\n"
          ],
          "name": "stdout"
        }
      ]
    },
    {
      "cell_type": "code",
      "metadata": {
        "colab": {
          "base_uri": "https://localhost:8080/"
        },
        "id": "pnbqTJ7sqLfJ",
        "outputId": "720cfeef-6526-4492-e38e-f68792d59a32"
      },
      "source": [
        "sentence = [\"Rojer federer is into the wimbledon finals\", \n",
        "            \"NASA to launch two more satellites this year\"]\n",
        "# convert to a sequence\n",
        "sequences = tokenizer.texts_to_sequences(sentence)\n",
        "\n",
        "# pad the sequence\n",
        "padded = pad_sequences(sequences, maxlen=maxlen, padding=padding_type, truncating=trunc_type)\n",
        "\n",
        "# preict the label\n",
        "print(model2.predict(padded))\n",
        "print(np.argmax(model2.predict(padded), axis = -1))"
      ],
      "execution_count": 72,
      "outputs": [
        {
          "output_type": "stream",
          "text": [
            "[[3.89450037e-08 1.97774061e-04 8.41041282e-03 8.15760868e-04\n",
            "  1.19738528e-04 5.51654352e-03 1.99023765e-04 1.10700057e-07\n",
            "  5.71020735e-07 1.23306435e-07 8.95304698e-03 8.57764988e-08\n",
            "  3.93475190e-08 1.80230199e-05 1.32165995e-04 1.24220687e-05\n",
            "  8.54932878e-04 3.76069656e-05 1.10328394e-04 6.55526295e-04\n",
            "  1.06053788e-03 3.56494553e-07 4.10556595e-06 1.41717843e-04\n",
            "  1.77526474e-02 2.58478755e-03 1.57518254e-04 2.33035258e-04\n",
            "  9.48143423e-01 2.62914000e-05 1.65380101e-04 3.58625266e-06\n",
            "  1.96039313e-04 4.28059138e-05 1.33677124e-04 2.03283480e-06\n",
            "  1.40676205e-03 1.79316085e-05 1.86148286e-03 3.15385514e-05\n",
            "  2.72635514e-08]\n",
            " [4.80861266e-18 3.76227827e-10 3.56522784e-10 8.05756645e-05\n",
            "  1.88929719e-10 1.35560725e-07 3.39485329e-10 4.94468778e-13\n",
            "  1.03834462e-13 1.60772437e-11 5.19606788e-11 1.45821593e-06\n",
            "  2.64967152e-16 1.44335550e-11 4.31290985e-08 2.75212486e-04\n",
            "  1.48668609e-04 1.54578555e-11 2.70178189e-05 6.91573838e-12\n",
            "  2.27466307e-06 5.17284653e-12 8.47412002e-11 3.80350222e-12\n",
            "  2.03893046e-06 6.98725433e-09 5.70209879e-10 9.99193966e-01\n",
            "  3.93452915e-08 7.97408675e-15 2.97712549e-11 6.19183592e-14\n",
            "  2.43477145e-04 2.07618759e-05 2.44703045e-07 1.05873784e-12\n",
            "  1.13029770e-07 2.75950043e-07 3.38627820e-10 3.75830177e-06\n",
            "  1.72602362e-12]]\n",
            "[28 27]\n"
          ],
          "name": "stdout"
        }
      ]
    },
    {
      "cell_type": "code",
      "metadata": {
        "colab": {
          "base_uri": "https://localhost:8080/"
        },
        "id": "7FeJe8-YrlTW",
        "outputId": "d3ec8d49-f99b-4abd-aade-d1776d0af054"
      },
      "source": [
        "sentence = [\"today sachin played really well but others didnt support him well\", \n",
        "            \"need to work on know issues and get ready for next match\"]\n",
        "# convert to a sequence\n",
        "sequences = tokenizer.texts_to_sequences(sentence)\n",
        "\n",
        "# pad the sequence\n",
        "padded = pad_sequences(sequences, maxlen=maxlen, padding=padding_type, truncating=trunc_type)\n",
        "\n",
        "# preict the label\n",
        "# preict the label\n",
        "print(model.predict(padded))\n",
        "print(np.argmax(model.predict(padded), axis = -1))"
      ],
      "execution_count": 73,
      "outputs": [
        {
          "output_type": "stream",
          "text": [
            "[[9.19657992e-04 2.54321620e-02 5.72277680e-02 4.86927712e-03\n",
            "  1.32369075e-03 5.08332141e-02 1.31492864e-03 1.30181236e-03\n",
            "  2.47328402e-03 1.12467998e-04 5.12511075e-01 1.12882881e-04\n",
            "  4.58873110e-04 6.46752072e-04 6.03824575e-03 3.56312026e-04\n",
            "  5.76499104e-03 1.72338064e-03 3.65387229e-03 1.45243518e-02\n",
            "  6.71004783e-03 2.56976491e-04 3.36297136e-03 1.16168205e-02\n",
            "  1.21417409e-02 1.35001138e-01 6.54361723e-03 1.20788754e-03\n",
            "  3.30989286e-02 3.90199362e-03 1.05579961e-02 3.92487476e-04\n",
            "  1.80331909e-03 4.05678496e-04 5.94896963e-03 2.96897534e-03\n",
            "  9.73537657e-03 3.46501032e-03 5.88249080e-02 4.22258279e-04\n",
            "  3.38515310e-05]\n",
            " [8.31508834e-04 1.71767529e-02 3.19475718e-02 2.83994712e-02\n",
            "  5.39120194e-03 7.96848908e-02 1.44779366e-02 1.43090100e-03\n",
            "  2.55333702e-03 1.72410579e-03 1.14764497e-01 1.87641464e-03\n",
            "  7.45520054e-04 1.50913056e-02 1.44040491e-02 1.15814973e-02\n",
            "  2.65661292e-02 1.05237374e-02 1.77766196e-02 2.08837762e-02\n",
            "  2.88255569e-02 1.54002209e-03 6.68210443e-03 2.21402533e-02\n",
            "  2.14075759e-01 4.81848828e-02 1.48351286e-02 7.25780101e-03\n",
            "  5.20105697e-02 1.17090242e-02 1.84586290e-02 7.56595470e-03\n",
            "  1.88982580e-02 1.66080762e-02 2.34188475e-02 4.59236745e-03\n",
            "  2.77380459e-02 6.67913491e-03 3.75415832e-02 1.22800302e-02\n",
            "  1.12678274e-03]]\n",
            "[10 24]\n"
          ],
          "name": "stdout"
        }
      ]
    },
    {
      "cell_type": "code",
      "metadata": {
        "colab": {
          "base_uri": "https://localhost:8080/"
        },
        "id": "e6m8gFRNr1eb",
        "outputId": "46293bb4-7b82-43f0-8e96-5786896861ed"
      },
      "source": [
        "sentence = [\"today sachin played really well but others didnt support him well\", \n",
        "            \"need to work on know issues and get ready for next match\"]\n",
        "# convert to a sequence\n",
        "sequences = tokenizer.texts_to_sequences(sentence)\n",
        "\n",
        "# pad the sequence\n",
        "padded = pad_sequences(sequences, maxlen=maxlen, padding=padding_type, truncating=trunc_type)\n",
        "\n",
        "# preict the label\n",
        "# preict the label\n",
        "print(model2.predict(padded))\n",
        "print(np.argmax(model2.predict(padded), axis = -1))"
      ],
      "execution_count": 74,
      "outputs": [
        {
          "output_type": "stream",
          "text": [
            "[[0.00213995 0.00996457 0.03084903 0.00949936 0.00402413 0.04234464\n",
            "  0.01332505 0.00287133 0.02505419 0.00480694 0.05750351 0.00761113\n",
            "  0.01016065 0.00869536 0.05352272 0.00717532 0.024057   0.01079843\n",
            "  0.02534252 0.00891678 0.00462233 0.00663449 0.13431385 0.16616182\n",
            "  0.02975897 0.07452665 0.02352703 0.00858729 0.02232074 0.00445277\n",
            "  0.0150567  0.00400775 0.00951518 0.00583386 0.0390139  0.01512346\n",
            "  0.02023813 0.02071586 0.03244879 0.00399999 0.00047774]\n",
            " [0.01566639 0.01944919 0.02397567 0.02765877 0.00690377 0.04408582\n",
            "  0.00703773 0.02922743 0.01874274 0.00412372 0.04524993 0.01661833\n",
            "  0.01144615 0.05019616 0.02009026 0.00842471 0.0205242  0.09727342\n",
            "  0.02216196 0.00657297 0.00871582 0.01914426 0.03196461 0.0177695\n",
            "  0.02418148 0.02820581 0.01415633 0.01358464 0.01061092 0.02931739\n",
            "  0.07559256 0.01427114 0.02556559 0.00657887 0.06779664 0.0319558\n",
            "  0.02169385 0.03506409 0.02176435 0.00394593 0.00269106]]\n",
            "[23 17]\n"
          ],
          "name": "stdout"
        }
      ]
    },
    {
      "cell_type": "code",
      "metadata": {
        "colab": {
          "base_uri": "https://localhost:8080/"
        },
        "id": "g5mdkDzfATKy",
        "outputId": "1cad258e-45ef-48ce-b7f8-c84ae4a3dc0d"
      },
      "source": [
        "sentence = [\"A. R. Rahman, is an Indian composer.\"]\n",
        "# convert to a sequence\n",
        "sequences = tokenizer.texts_to_sequences(sentence)\n",
        "\n",
        "# pad the sequence\n",
        "padded = pad_sequences(sequences, maxlen=maxlen, padding=padding_type, truncating=trunc_type)\n",
        "\n",
        "# preict the label\n",
        "# preict the label\n",
        "print(model2.predict(padded))\n",
        "print(np.argmax(model2.predict(padded), axis = -1))\n",
        "# preict the label\n",
        "print(model.predict(padded))\n",
        "print(np.argmax(model.predict(padded), axis = -1))"
      ],
      "execution_count": 77,
      "outputs": [
        {
          "output_type": "stream",
          "text": [
            "[[4.3201766e-05 1.6052879e-02 2.3358963e-02 4.9121100e-03 6.9506315e-04\n",
            "  9.9317975e-02 5.7430719e-03 7.3413648e-05 1.2952981e-04 3.3652374e-05\n",
            "  2.4471560e-01 6.7795459e-05 1.8895082e-05 3.0732507e-02 2.1139510e-02\n",
            "  2.6044224e-03 1.9312993e-02 2.0939330e-02 1.7532470e-03 9.2488043e-03\n",
            "  7.9606492e-03 4.8233720e-05 5.5739278e-04 3.2558855e-02 8.8542618e-02\n",
            "  2.1744069e-02 3.7590568e-03 6.8227099e-03 1.0510191e-01 4.5238648e-02\n",
            "  2.2404719e-02 2.7458569e-02 1.1597000e-02 5.1035974e-03 1.1953292e-02\n",
            "  4.3653796e-04 8.7281682e-02 2.9345026e-04 1.7863572e-02 2.3595802e-03\n",
            "  2.0867928e-05]]\n",
            "[10]\n",
            "[[8.7991630e-08 6.5511060e-03 1.6532594e-02 8.7482086e-04 8.7356821e-05\n",
            "  8.1886820e-02 6.8720328e-03 4.6302605e-07 1.2970563e-06 5.6360855e-06\n",
            "  1.8510284e-01 2.9527159e-06 3.6054917e-08 6.2693735e-03 4.8123255e-02\n",
            "  3.2775654e-03 1.7978771e-02 5.1139607e-03 4.3974788e-04 4.6813888e-03\n",
            "  4.3985024e-03 1.2498504e-07 3.4825905e-05 5.7776302e-02 1.0195652e-01\n",
            "  1.0859169e-02 1.1089129e-03 4.4144480e-03 9.7553007e-02 1.5365178e-02\n",
            "  2.4649466e-03 1.1397913e-02 6.2947110e-03 4.6490040e-03 3.3983209e-03\n",
            "  7.2103890e-06 2.8418007e-01 9.7480670e-06 8.2668392e-03 2.0617952e-03\n",
            "  2.7919717e-07]]\n",
            "[36]\n"
          ],
          "name": "stdout"
        }
      ]
    }
  ]
}