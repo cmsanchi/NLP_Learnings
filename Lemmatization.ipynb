{
  "nbformat": 4,
  "nbformat_minor": 0,
  "metadata": {
    "colab": {
      "name": "Untitled1.ipynb",
      "provenance": [],
      "authorship_tag": "ABX9TyNpUh9yoiL2j4qjXJCZ9xTN",
      "include_colab_link": true
    },
    "kernelspec": {
      "name": "python3",
      "display_name": "Python 3"
    }
  },
  "cells": [
    {
      "cell_type": "markdown",
      "metadata": {
        "id": "view-in-github",
        "colab_type": "text"
      },
      "source": [
        "<a href=\"https://colab.research.google.com/github/jyotishsanchi/NLP_Learnings/blob/main/Lemmatization.ipynb\" target=\"_parent\"><img src=\"https://colab.research.google.com/assets/colab-badge.svg\" alt=\"Open In Colab\"/></a>"
      ]
    },
    {
      "cell_type": "code",
      "metadata": {
        "id": "nLB3Zy1i4-ue"
      },
      "source": [
        "# Tokenization of paragraphs/sentences\n",
        "import nltk\n",
        "from nltk.stem import PorterStemmer\n",
        "from nltk.stem import WordNetLemmatizer\n",
        "from nltk.corpus import stopwords"
      ],
      "execution_count": 64,
      "outputs": []
    },
    {
      "cell_type": "code",
      "metadata": {
        "id": "EsJEBH5r5JXW",
        "outputId": "a7f315b3-9b27-4065-9ee7-af72dcb691a1",
        "colab": {
          "base_uri": "https://localhost:8080/"
        }
      },
      "source": [
        "nltk.download('punkt')"
      ],
      "execution_count": 66,
      "outputs": [
        {
          "output_type": "stream",
          "text": [
            "[nltk_data] Downloading package punkt to /root/nltk_data...\n",
            "[nltk_data]   Package punkt is already up-to-date!\n"
          ],
          "name": "stdout"
        },
        {
          "output_type": "execute_result",
          "data": {
            "text/plain": [
              "True"
            ]
          },
          "metadata": {
            "tags": []
          },
          "execution_count": 66
        }
      ]
    },
    {
      "cell_type": "code",
      "metadata": {
        "id": "eas-krtLlvDU",
        "outputId": "ed9bc106-575b-4132-aff7-00716c8f9e53",
        "colab": {
          "base_uri": "https://localhost:8080/"
        }
      },
      "source": [
        "nltk.download('stopwords')"
      ],
      "execution_count": 65,
      "outputs": [
        {
          "output_type": "stream",
          "text": [
            "[nltk_data] Downloading package stopwords to /root/nltk_data...\n",
            "[nltk_data]   Package stopwords is already up-to-date!\n"
          ],
          "name": "stdout"
        },
        {
          "output_type": "execute_result",
          "data": {
            "text/plain": [
              "True"
            ]
          },
          "metadata": {
            "tags": []
          },
          "execution_count": 65
        }
      ]
    },
    {
      "cell_type": "code",
      "metadata": {
        "id": "Zl1oidT-_WXr",
        "outputId": "75c80592-71bf-4ab2-8f90-214bd24cf8c5",
        "colab": {
          "base_uri": "https://localhost:8080/"
        }
      },
      "source": [
        "nltk.download('wordnet')"
      ],
      "execution_count": 71,
      "outputs": [
        {
          "output_type": "stream",
          "text": [
            "[nltk_data] Downloading package wordnet to /root/nltk_data...\n",
            "[nltk_data]   Unzipping corpora/wordnet.zip.\n"
          ],
          "name": "stdout"
        },
        {
          "output_type": "execute_result",
          "data": {
            "text/plain": [
              "True"
            ]
          },
          "metadata": {
            "tags": []
          },
          "execution_count": 71
        }
      ]
    },
    {
      "cell_type": "code",
      "metadata": {
        "id": "9RkAGZ1M5NoS"
      },
      "source": [
        "paragraph = \"\"\"I have three visions for India. In 3000 years of our history, people from all over \n",
        "               the world have come and invaded us, captured our lands!! conquered our minds. \n",
        "               From Alexander onwards, the Greeks, the Turks, the Moguls, the Portuguese, the British,\n",
        "               the French, the Dutch, all of them came and looted us, took over what was ours. \n",
        "               Yet we have not done this to any other nation. We have not conquered anyone. \n",
        "               We have not grabbed their land, their culture, \n",
        "               their history and tried to enforce our way of life on them. \n",
        "               Why? Because we respect the freedom of others.That is why my \n",
        "               first vision is that of freedom. I believe that India got its first vision of \n",
        "               this in 1857, when we started the War of Independence. It is this freedom that\n",
        "               we must protect and nurture and build on. If we are not free, no one will respect us.\n",
        "               My second vision for India’s development. For fifty years we have been a developing nation.\n",
        "               It is time we see ourselves as a developed nation. We are among the top 5 nations of the world\n",
        "               in terms of GDP. We have a 10 percent growth rate in most areas. Our poverty levels are falling.\n",
        "               Our achievements are being globally recognised today. Yet we lack the self-confidence to\n",
        "               see ourselves as a developed nation, self-reliant and self-assured. Isn’t this incorrect?\n",
        "               I have a third vision. India must stand up to the world. Because I believe that unless India \n",
        "               stands up to the world, no one will respect us. Only strength respects strength. We must be \n",
        "               strong not only as a military power but also as an economic power. Both must go hand-in-hand. \n",
        "               My good fortune was to have worked with three great minds. Dr. Vikram Sarabhai of the Dept. of \n",
        "               space, Professor Satish Dhawan, who succeeded him and Dr. Brahm Prakash, father of nuclear material.\n",
        "               I was lucky to have worked with all three of them closely and consider this the great opportunity of my life. \n",
        "               I see four milestones in my career\"\"\""
      ],
      "execution_count": 67,
      "outputs": []
    },
    {
      "cell_type": "code",
      "metadata": {
        "id": "heVmVAz76HbI"
      },
      "source": [
        "# Tokenizing sentences\n",
        "sentences = nltk.sent_tokenize(paragraph)"
      ],
      "execution_count": 12,
      "outputs": []
    },
    {
      "cell_type": "code",
      "metadata": {
        "id": "dqRYmB14k9lP"
      },
      "source": [
        "stemmer = PorterStemmer()\n",
        "lemmatizer = WordNetLemmatizer()"
      ],
      "execution_count": 69,
      "outputs": []
    },
    {
      "cell_type": "code",
      "metadata": {
        "id": "bKZiimCW7OQN",
        "outputId": "d7bc561b-8948-4659-dcb1-f176072b0976",
        "colab": {
          "base_uri": "https://localhost:8080/"
        }
      },
      "source": [
        "sentences"
      ],
      "execution_count": 40,
      "outputs": [
        {
          "output_type": "execute_result",
          "data": {
            "text/plain": [
              "['I have three visions for India.',\n",
              " 'In 3000 years of our history, people from all over \\n               the world have come and invaded us, captured our lands!!',\n",
              " 'conquered our minds.',\n",
              " 'From Alexander onwards, the Greeks, the Turks, the Moguls, the Portuguese, the British,\\n               the French, the Dutch, all of them came and looted us, took over what was ours.',\n",
              " 'Yet we have not done this to any other nation.',\n",
              " 'We have not conquered anyone.',\n",
              " 'We have not grabbed their land, their culture, \\n               their history and tried to enforce our way of life on them.',\n",
              " 'Why?',\n",
              " 'Because we respect the freedom of others.That is why my \\n               first vision is that of freedom.',\n",
              " 'I believe that India got its first vision of \\n               this in 1857, when we started the War of Independence.',\n",
              " 'It is this freedom that\\n               we must protect and nurture and build on.',\n",
              " 'If we are not free, no one will respect us.',\n",
              " 'My second vision for India’s development.',\n",
              " 'For fifty years we have been a developing nation.',\n",
              " 'It is time we see ourselves as a developed nation.',\n",
              " 'We are among the top 5 nations of the world\\n               in terms of GDP.',\n",
              " 'We have a 10 percent growth rate in most areas.',\n",
              " 'Our poverty levels are falling.',\n",
              " 'Our achievements are being globally recognised today.',\n",
              " 'Yet we lack the self-confidence to\\n               see ourselves as a developed nation, self-reliant and self-assured.',\n",
              " 'Isn’t this incorrect?',\n",
              " 'I have a third vision.',\n",
              " 'India must stand up to the world.',\n",
              " 'Because I believe that unless India \\n               stands up to the world, no one will respect us.',\n",
              " 'Only strength respects strength.',\n",
              " 'We must be \\n               strong not only as a military power but also as an economic power.',\n",
              " 'Both must go hand-in-hand.',\n",
              " 'My good fortune was to have worked with three great minds.',\n",
              " 'Dr. Vikram Sarabhai of the Dept.',\n",
              " 'of \\n               space, Professor Satish Dhawan, who succeeded him and Dr. Brahm Prakash, father of nuclear material.',\n",
              " 'I was lucky to have worked with all three of them closely and consider this the great opportunity of my life.',\n",
              " 'I see four milestones in my career']"
            ]
          },
          "metadata": {
            "tags": []
          },
          "execution_count": 40
        }
      ]
    },
    {
      "cell_type": "code",
      "metadata": {
        "id": "8triYleO6M5m",
        "outputId": "f45f0132-6f70-40d8-c45e-dbddfe766272",
        "colab": {
          "base_uri": "https://localhost:8080/"
        }
      },
      "source": [
        "len(sentences)"
      ],
      "execution_count": 41,
      "outputs": [
        {
          "output_type": "execute_result",
          "data": {
            "text/plain": [
              "32"
            ]
          },
          "metadata": {
            "tags": []
          },
          "execution_count": 41
        }
      ]
    },
    {
      "cell_type": "code",
      "metadata": {
        "id": "JToWO3JRptkB"
      },
      "source": [
        "stop = stopwords.words('english')"
      ],
      "execution_count": 49,
      "outputs": []
    },
    {
      "cell_type": "code",
      "metadata": {
        "id": "mN2TQy5epu4I",
        "outputId": "cc9d79d1-9bc1-45a3-cd0d-7c4fe2f699d7",
        "colab": {
          "base_uri": "https://localhost:8080/"
        }
      },
      "source": [
        "stop[:10]"
      ],
      "execution_count": 50,
      "outputs": [
        {
          "output_type": "execute_result",
          "data": {
            "text/plain": [
              "['i', 'me', 'my', 'myself', 'we', 'our', 'ours', 'ourselves', 'you', \"you're\"]"
            ]
          },
          "metadata": {
            "tags": []
          },
          "execution_count": 50
        }
      ]
    },
    {
      "cell_type": "code",
      "metadata": {
        "id": "UAbv4gg4pzdq",
        "outputId": "dcbda581-4971-4d2c-d1ed-e83e13b526ce",
        "colab": {
          "base_uri": "https://localhost:8080/"
        }
      },
      "source": [
        "len(stop)"
      ],
      "execution_count": 51,
      "outputs": [
        {
          "output_type": "execute_result",
          "data": {
            "text/plain": [
              "179"
            ]
          },
          "metadata": {
            "tags": []
          },
          "execution_count": 51
        }
      ]
    },
    {
      "cell_type": "code",
      "metadata": {
        "id": "d2JRIGWsD0uX",
        "outputId": "8bf83bd5-8fc5-4ca1-e9e0-07b132ed6d36",
        "colab": {
          "base_uri": "https://localhost:8080/"
        }
      },
      "source": [
        "#lemmatization\n",
        "lemma_sentences = []\n",
        "\n",
        "for sentence in sentences:\n",
        "  words = nltk.word_tokenize(sentence.lower())\n",
        "  final_sentence = []\n",
        "  for word in words:\n",
        "    if (word not in stop) :\n",
        "      lema_word = lemmatizer.lemmatize(word)\n",
        "      final_sentence.append(lema_word)\n",
        "  print(final_sentence)      \n",
        "  lemma_sentences.append(\" \".join(final_sentence))"
      ],
      "execution_count": 74,
      "outputs": [
        {
          "output_type": "stream",
          "text": [
            "['three', 'vision', 'india', '.']\n",
            "['3000', 'year', 'history', ',', 'people', 'world', 'come', 'invaded', 'u', ',', 'captured', 'land', '!', '!']\n",
            "['conquered', 'mind', '.']\n",
            "['alexander', 'onwards', ',', 'greek', ',', 'turk', ',', 'mogul', ',', 'portuguese', ',', 'british', ',', 'french', ',', 'dutch', ',', 'came', 'looted', 'u', ',', 'took', '.']\n",
            "['yet', 'done', 'nation', '.']\n",
            "['conquered', 'anyone', '.']\n",
            "['grabbed', 'land', ',', 'culture', ',', 'history', 'tried', 'enforce', 'way', 'life', '.']\n",
            "['?']\n",
            "['respect', 'freedom', 'others.that', 'first', 'vision', 'freedom', '.']\n",
            "['believe', 'india', 'got', 'first', 'vision', '1857', ',', 'started', 'war', 'independence', '.']\n",
            "['freedom', 'must', 'protect', 'nurture', 'build', '.']\n",
            "['free', ',', 'one', 'respect', 'u', '.']\n",
            "['second', 'vision', 'india', '’', 'development', '.']\n",
            "['fifty', 'year', 'developing', 'nation', '.']\n",
            "['time', 'see', 'developed', 'nation', '.']\n",
            "['among', 'top', '5', 'nation', 'world', 'term', 'gdp', '.']\n",
            "['10', 'percent', 'growth', 'rate', 'area', '.']\n",
            "['poverty', 'level', 'falling', '.']\n",
            "['achievement', 'globally', 'recognised', 'today', '.']\n",
            "['yet', 'lack', 'self-confidence', 'see', 'developed', 'nation', ',', 'self-reliant', 'self-assured', '.']\n",
            "['’', 'incorrect', '?']\n",
            "['third', 'vision', '.']\n",
            "['india', 'must', 'stand', 'world', '.']\n",
            "['believe', 'unless', 'india', 'stand', 'world', ',', 'one', 'respect', 'u', '.']\n",
            "['strength', 'respect', 'strength', '.']\n",
            "['must', 'strong', 'military', 'power', 'also', 'economic', 'power', '.']\n",
            "['must', 'go', 'hand-in-hand', '.']\n",
            "['good', 'fortune', 'worked', 'three', 'great', 'mind', '.']\n",
            "['dr.', 'vikram', 'sarabhai', 'dept', '.']\n",
            "['space', ',', 'professor', 'satish', 'dhawan', ',', 'succeeded', 'dr.', 'brahm', 'prakash', ',', 'father', 'nuclear', 'material', '.']\n",
            "['lucky', 'worked', 'three', 'closely', 'consider', 'great', 'opportunity', 'life', '.']\n",
            "['see', 'four', 'milestone', 'career']\n"
          ],
          "name": "stdout"
        }
      ]
    },
    {
      "cell_type": "code",
      "metadata": {
        "id": "LuwQYoAWlVkS",
        "outputId": "2c0c0269-9eb2-41a8-f503-6f54b48efa2b",
        "colab": {
          "base_uri": "https://localhost:8080/"
        }
      },
      "source": [
        "lemma_sentences"
      ],
      "execution_count": 75,
      "outputs": [
        {
          "output_type": "execute_result",
          "data": {
            "text/plain": [
              "['three vision india .',\n",
              " '3000 year history , people world come invaded u , captured land ! !',\n",
              " 'conquered mind .',\n",
              " 'alexander onwards , greek , turk , mogul , portuguese , british , french , dutch , came looted u , took .',\n",
              " 'yet done nation .',\n",
              " 'conquered anyone .',\n",
              " 'grabbed land , culture , history tried enforce way life .',\n",
              " '?',\n",
              " 'respect freedom others.that first vision freedom .',\n",
              " 'believe india got first vision 1857 , started war independence .',\n",
              " 'freedom must protect nurture build .',\n",
              " 'free , one respect u .',\n",
              " 'second vision india ’ development .',\n",
              " 'fifty year developing nation .',\n",
              " 'time see developed nation .',\n",
              " 'among top 5 nation world term gdp .',\n",
              " '10 percent growth rate area .',\n",
              " 'poverty level falling .',\n",
              " 'achievement globally recognised today .',\n",
              " 'yet lack self-confidence see developed nation , self-reliant self-assured .',\n",
              " '’ incorrect ?',\n",
              " 'third vision .',\n",
              " 'india must stand world .',\n",
              " 'believe unless india stand world , one respect u .',\n",
              " 'strength respect strength .',\n",
              " 'must strong military power also economic power .',\n",
              " 'must go hand-in-hand .',\n",
              " 'good fortune worked three great mind .',\n",
              " 'dr. vikram sarabhai dept .',\n",
              " 'space , professor satish dhawan , succeeded dr. brahm prakash , father nuclear material .',\n",
              " 'lucky worked three closely consider great opportunity life .',\n",
              " 'see four milestone career']"
            ]
          },
          "metadata": {
            "tags": []
          },
          "execution_count": 75
        }
      ]
    },
    {
      "cell_type": "code",
      "metadata": {
        "id": "2jR2o_proI9v"
      },
      "source": [
        "# Lemmatization\n",
        "#for i in range(len(sentences)):\n",
        "#    words = nltk.word_tokenize(sentences[i])\n",
        "#    words = [lemmatizer.lemmatize(word) for word in words if word not in set(stopwords.words('english'))]\n",
        "#    sentences[i] = ' '.join(words)   "
      ],
      "execution_count": 76,
      "outputs": []
    },
    {
      "cell_type": "code",
      "metadata": {
        "id": "wSj9Y-wRr8v1"
      },
      "source": [
        ""
      ],
      "execution_count": null,
      "outputs": []
    }
  ]
}