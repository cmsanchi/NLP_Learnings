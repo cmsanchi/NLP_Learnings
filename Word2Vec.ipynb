{
  "nbformat": 4,
  "nbformat_minor": 0,
  "metadata": {
    "colab": {
      "name": "Untitled1.ipynb",
      "provenance": [],
      "authorship_tag": "ABX9TyO9GbCHcdZq6jsnaihG8veB",
      "include_colab_link": true
    },
    "kernelspec": {
      "name": "python3",
      "display_name": "Python 3"
    }
  },
  "cells": [
    {
      "cell_type": "markdown",
      "metadata": {
        "id": "view-in-github",
        "colab_type": "text"
      },
      "source": [
        "<a href=\"https://colab.research.google.com/github/jyotishsanchi/NLP_Learnings/blob/main/Word2Vec.ipynb\" target=\"_parent\"><img src=\"https://colab.research.google.com/assets/colab-badge.svg\" alt=\"Open In Colab\"/></a>"
      ]
    },
    {
      "cell_type": "code",
      "metadata": {
        "id": "nLB3Zy1i4-ue"
      },
      "source": [
        "# Tokenization of paragraphs/sentences\n",
        "import nltk\n",
        "import re\n",
        "from nltk.corpus import stopwords\n",
        "from gensim.models import Word2Vec"
      ],
      "execution_count": 1,
      "outputs": []
    },
    {
      "cell_type": "code",
      "metadata": {
        "id": "EsJEBH5r5JXW",
        "outputId": "245e6a01-2a9b-4769-c9bd-faa844a47695",
        "colab": {
          "base_uri": "https://localhost:8080/"
        }
      },
      "source": [
        "nltk.download('punkt')"
      ],
      "execution_count": 2,
      "outputs": [
        {
          "output_type": "stream",
          "text": [
            "[nltk_data] Downloading package punkt to /root/nltk_data...\n",
            "[nltk_data]   Unzipping tokenizers/punkt.zip.\n"
          ],
          "name": "stdout"
        },
        {
          "output_type": "execute_result",
          "data": {
            "text/plain": [
              "True"
            ]
          },
          "metadata": {
            "tags": []
          },
          "execution_count": 2
        }
      ]
    },
    {
      "cell_type": "code",
      "metadata": {
        "id": "eas-krtLlvDU",
        "outputId": "c73d5221-6d5e-481b-ef41-ae9d6c528bf4",
        "colab": {
          "base_uri": "https://localhost:8080/"
        }
      },
      "source": [
        "nltk.download('stopwords')"
      ],
      "execution_count": 3,
      "outputs": [
        {
          "output_type": "stream",
          "text": [
            "[nltk_data] Downloading package stopwords to /root/nltk_data...\n",
            "[nltk_data]   Unzipping corpora/stopwords.zip.\n"
          ],
          "name": "stdout"
        },
        {
          "output_type": "execute_result",
          "data": {
            "text/plain": [
              "True"
            ]
          },
          "metadata": {
            "tags": []
          },
          "execution_count": 3
        }
      ]
    },
    {
      "cell_type": "code",
      "metadata": {
        "id": "Zl1oidT-_WXr",
        "outputId": "a3349991-7c50-4a62-9348-98a83ac9f665",
        "colab": {
          "base_uri": "https://localhost:8080/"
        }
      },
      "source": [
        "nltk.download('wordnet')"
      ],
      "execution_count": 4,
      "outputs": [
        {
          "output_type": "stream",
          "text": [
            "[nltk_data] Downloading package wordnet to /root/nltk_data...\n",
            "[nltk_data]   Unzipping corpora/wordnet.zip.\n"
          ],
          "name": "stdout"
        },
        {
          "output_type": "execute_result",
          "data": {
            "text/plain": [
              "True"
            ]
          },
          "metadata": {
            "tags": []
          },
          "execution_count": 4
        }
      ]
    },
    {
      "cell_type": "code",
      "metadata": {
        "id": "9RkAGZ1M5NoS"
      },
      "source": [
        "paragraph = \"\"\"I have three visions for India. In 3000 years of our history, people from all over \n",
        "               the world have come and invaded us, captured our lands!! conquered our minds. \n",
        "               From Alexander onwards, the Greeks, the Turks, the Moguls, the Portuguese, the British,\n",
        "               the French, the Dutch, all of them came and looted us, took over what was ours. \n",
        "               Yet we have not done this to any other nation. We have not conquered anyone. \n",
        "               We have not grabbed their land, their culture, \n",
        "               their history and tried to enforce our way of life on them. \n",
        "               Why? Because we respect the freedom of others.That is why my \n",
        "               first vision is that of freedom. I believe that India got its first vision of \n",
        "               this in 1857, when we started the War of Independence. It is this freedom that\n",
        "               we must protect and nurture and build on. If we are not free, no one will respect us.\n",
        "               My second vision for India’s development. For fifty years we have been a developing nation.\n",
        "               It is time we see ourselves as a developed nation. We are among the top 5 nations of the world\n",
        "               in terms of GDP. We have a 10 percent growth rate in most areas. Our poverty levels are falling.\n",
        "               Our achievements are being globally recognised today. Yet we lack the self-confidence to\n",
        "               see ourselves as a developed nation, self-reliant and self-assured. Isn’t this incorrect?\n",
        "               I have a third vision. India must stand up to the world. Because I believe that unless India \n",
        "               stands up to the world, no one will respect us. Only strength respects strength. We must be \n",
        "               strong not only as a military power but also as an economic power. Both must go hand-in-hand. \n",
        "               My good fortune was to have worked with three great minds. Dr. Vikram Sarabhai of the Dept. of \n",
        "               space, Professor Satish Dhawan, who succeeded him and Dr. Brahm Prakash, father of nuclear material.\n",
        "               I was lucky to have worked with all three of them closely and consider this the great opportunity of my life. \n",
        "               I see four milestones in my career\"\"\""
      ],
      "execution_count": 5,
      "outputs": []
    },
    {
      "cell_type": "code",
      "metadata": {
        "id": "m5Bsdyy6PkDn",
        "outputId": "e1583cdc-8aad-4d25-b9b6-00536befbe8d",
        "colab": {
          "base_uri": "https://localhost:8080/",
          "height": 239
        }
      },
      "source": [
        "# Preprocessing the data\n",
        "text = re.sub(r'\\[[0-9]*\\]',' ',paragraph) #this will remove special characters\n",
        "text = re.sub(r'\\s+',' ',text) #remove extra spaces\n",
        "text = text.lower()\n",
        "text = re.sub(r'\\d',' ',text) # replace digits with spaces\n",
        "text = re.sub(r'\\s+',' ',text)\n",
        "text"
      ],
      "execution_count": 6,
      "outputs": [
        {
          "output_type": "execute_result",
          "data": {
            "application/vnd.google.colaboratory.intrinsic+json": {
              "type": "string"
            },
            "text/plain": [
              "'i have three visions for india. in years of our history, people from all over the world have come and invaded us, captured our lands!! conquered our minds. from alexander onwards, the greeks, the turks, the moguls, the portuguese, the british, the french, the dutch, all of them came and looted us, took over what was ours. yet we have not done this to any other nation. we have not conquered anyone. we have not grabbed their land, their culture, their history and tried to enforce our way of life on them. why? because we respect the freedom of others.that is why my first vision is that of freedom. i believe that india got its first vision of this in , when we started the war of independence. it is this freedom that we must protect and nurture and build on. if we are not free, no one will respect us. my second vision for india’s development. for fifty years we have been a developing nation. it is time we see ourselves as a developed nation. we are among the top nations of the world in terms of gdp. we have a percent growth rate in most areas. our poverty levels are falling. our achievements are being globally recognised today. yet we lack the self-confidence to see ourselves as a developed nation, self-reliant and self-assured. isn’t this incorrect? i have a third vision. india must stand up to the world. because i believe that unless india stands up to the world, no one will respect us. only strength respects strength. we must be strong not only as a military power but also as an economic power. both must go hand-in-hand. my good fortune was to have worked with three great minds. dr. vikram sarabhai of the dept. of space, professor satish dhawan, who succeeded him and dr. brahm prakash, father of nuclear material. i was lucky to have worked with all three of them closely and consider this the great opportunity of my life. i see four milestones in my career'"
            ]
          },
          "metadata": {
            "tags": []
          },
          "execution_count": 6
        }
      ]
    },
    {
      "cell_type": "code",
      "metadata": {
        "id": "heVmVAz76HbI"
      },
      "source": [
        "# Tokenizing sentences\n",
        "sentences = nltk.sent_tokenize(text)"
      ],
      "execution_count": 10,
      "outputs": []
    },
    {
      "cell_type": "code",
      "metadata": {
        "id": "wH_iEaMRxD48",
        "outputId": "b91cdb22-59cf-4da4-c7b2-f5496b78a6d2",
        "colab": {
          "base_uri": "https://localhost:8080/"
        }
      },
      "source": [
        "sentences"
      ],
      "execution_count": 11,
      "outputs": [
        {
          "output_type": "execute_result",
          "data": {
            "text/plain": [
              "['i have three visions for india.',\n",
              " 'in years of our history, people from all over the world have come and invaded us, captured our lands!!',\n",
              " 'conquered our minds.',\n",
              " 'from alexander onwards, the greeks, the turks, the moguls, the portuguese, the british, the french, the dutch, all of them came and looted us, took over what was ours.',\n",
              " 'yet we have not done this to any other nation.',\n",
              " 'we have not conquered anyone.',\n",
              " 'we have not grabbed their land, their culture, their history and tried to enforce our way of life on them.',\n",
              " 'why?',\n",
              " 'because we respect the freedom of others.that is why my first vision is that of freedom.',\n",
              " 'i believe that india got its first vision of this in , when we started the war of independence.',\n",
              " 'it is this freedom that we must protect and nurture and build on.',\n",
              " 'if we are not free, no one will respect us.',\n",
              " 'my second vision for india’s development.',\n",
              " 'for fifty years we have been a developing nation.',\n",
              " 'it is time we see ourselves as a developed nation.',\n",
              " 'we are among the top nations of the world in terms of gdp.',\n",
              " 'we have a percent growth rate in most areas.',\n",
              " 'our poverty levels are falling.',\n",
              " 'our achievements are being globally recognised today.',\n",
              " 'yet we lack the self-confidence to see ourselves as a developed nation, self-reliant and self-assured.',\n",
              " 'isn’t this incorrect?',\n",
              " 'i have a third vision.',\n",
              " 'india must stand up to the world.',\n",
              " 'because i believe that unless india stands up to the world, no one will respect us.',\n",
              " 'only strength respects strength.',\n",
              " 'we must be strong not only as a military power but also as an economic power.',\n",
              " 'both must go hand-in-hand.',\n",
              " 'my good fortune was to have worked with three great minds.',\n",
              " 'dr. vikram sarabhai of the dept.',\n",
              " 'of space, professor satish dhawan, who succeeded him and dr. brahm prakash, father of nuclear material.',\n",
              " 'i was lucky to have worked with all three of them closely and consider this the great opportunity of my life.',\n",
              " 'i see four milestones in my career']"
            ]
          },
          "metadata": {
            "tags": []
          },
          "execution_count": 11
        }
      ]
    },
    {
      "cell_type": "code",
      "metadata": {
        "id": "dqRYmB14k9lP"
      },
      "source": [
        "sentences = [nltk.word_tokenize(sentence) for sentence in sentences]"
      ],
      "execution_count": 12,
      "outputs": []
    },
    {
      "cell_type": "code",
      "metadata": {
        "id": "JToWO3JRptkB"
      },
      "source": [
        "for i in range(len(sentences)):\n",
        "    sentences[i] = [word for word in sentences[i] if word not in stopwords.words('english')]"
      ],
      "execution_count": 13,
      "outputs": []
    },
    {
      "cell_type": "code",
      "metadata": {
        "id": "gAWhxioFwv6Z",
        "outputId": "4fc688a3-5aa0-4414-f467-5fa7a600cbfd",
        "colab": {
          "base_uri": "https://localhost:8080/"
        }
      },
      "source": [
        "sentences"
      ],
      "execution_count": 14,
      "outputs": [
        {
          "output_type": "execute_result",
          "data": {
            "text/plain": [
              "[['three', 'visions', 'india', '.'],\n",
              " ['years',\n",
              "  'history',\n",
              "  ',',\n",
              "  'people',\n",
              "  'world',\n",
              "  'come',\n",
              "  'invaded',\n",
              "  'us',\n",
              "  ',',\n",
              "  'captured',\n",
              "  'lands',\n",
              "  '!',\n",
              "  '!'],\n",
              " ['conquered', 'minds', '.'],\n",
              " ['alexander',\n",
              "  'onwards',\n",
              "  ',',\n",
              "  'greeks',\n",
              "  ',',\n",
              "  'turks',\n",
              "  ',',\n",
              "  'moguls',\n",
              "  ',',\n",
              "  'portuguese',\n",
              "  ',',\n",
              "  'british',\n",
              "  ',',\n",
              "  'french',\n",
              "  ',',\n",
              "  'dutch',\n",
              "  ',',\n",
              "  'came',\n",
              "  'looted',\n",
              "  'us',\n",
              "  ',',\n",
              "  'took',\n",
              "  '.'],\n",
              " ['yet', 'done', 'nation', '.'],\n",
              " ['conquered', 'anyone', '.'],\n",
              " ['grabbed',\n",
              "  'land',\n",
              "  ',',\n",
              "  'culture',\n",
              "  ',',\n",
              "  'history',\n",
              "  'tried',\n",
              "  'enforce',\n",
              "  'way',\n",
              "  'life',\n",
              "  '.'],\n",
              " ['?'],\n",
              " ['respect', 'freedom', 'others.that', 'first', 'vision', 'freedom', '.'],\n",
              " ['believe',\n",
              "  'india',\n",
              "  'got',\n",
              "  'first',\n",
              "  'vision',\n",
              "  ',',\n",
              "  'started',\n",
              "  'war',\n",
              "  'independence',\n",
              "  '.'],\n",
              " ['freedom', 'must', 'protect', 'nurture', 'build', '.'],\n",
              " ['free', ',', 'one', 'respect', 'us', '.'],\n",
              " ['second', 'vision', 'india', '’', 'development', '.'],\n",
              " ['fifty', 'years', 'developing', 'nation', '.'],\n",
              " ['time', 'see', 'developed', 'nation', '.'],\n",
              " ['among', 'top', 'nations', 'world', 'terms', 'gdp', '.'],\n",
              " ['percent', 'growth', 'rate', 'areas', '.'],\n",
              " ['poverty', 'levels', 'falling', '.'],\n",
              " ['achievements', 'globally', 'recognised', 'today', '.'],\n",
              " ['yet',\n",
              "  'lack',\n",
              "  'self-confidence',\n",
              "  'see',\n",
              "  'developed',\n",
              "  'nation',\n",
              "  ',',\n",
              "  'self-reliant',\n",
              "  'self-assured',\n",
              "  '.'],\n",
              " ['’', 'incorrect', '?'],\n",
              " ['third', 'vision', '.'],\n",
              " ['india', 'must', 'stand', 'world', '.'],\n",
              " ['believe',\n",
              "  'unless',\n",
              "  'india',\n",
              "  'stands',\n",
              "  'world',\n",
              "  ',',\n",
              "  'one',\n",
              "  'respect',\n",
              "  'us',\n",
              "  '.'],\n",
              " ['strength', 'respects', 'strength', '.'],\n",
              " ['must', 'strong', 'military', 'power', 'also', 'economic', 'power', '.'],\n",
              " ['must', 'go', 'hand-in-hand', '.'],\n",
              " ['good', 'fortune', 'worked', 'three', 'great', 'minds', '.'],\n",
              " ['dr.', 'vikram', 'sarabhai', 'dept', '.'],\n",
              " ['space',\n",
              "  ',',\n",
              "  'professor',\n",
              "  'satish',\n",
              "  'dhawan',\n",
              "  ',',\n",
              "  'succeeded',\n",
              "  'dr.',\n",
              "  'brahm',\n",
              "  'prakash',\n",
              "  ',',\n",
              "  'father',\n",
              "  'nuclear',\n",
              "  'material',\n",
              "  '.'],\n",
              " ['lucky',\n",
              "  'worked',\n",
              "  'three',\n",
              "  'closely',\n",
              "  'consider',\n",
              "  'great',\n",
              "  'opportunity',\n",
              "  'life',\n",
              "  '.'],\n",
              " ['see', 'four', 'milestones', 'career']]"
            ]
          },
          "metadata": {
            "tags": []
          },
          "execution_count": 14
        }
      ]
    },
    {
      "cell_type": "code",
      "metadata": {
        "id": "BSh4p1vt0E4C"
      },
      "source": [
        "# Training the Word2Vec model\n",
        "model = Word2Vec(sentences, min_count=1)"
      ],
      "execution_count": 15,
      "outputs": []
    },
    {
      "cell_type": "code",
      "metadata": {
        "id": "_YqMgsw-dk0U"
      },
      "source": [
        "words = model.wv.vocab"
      ],
      "execution_count": 16,
      "outputs": []
    },
    {
      "cell_type": "code",
      "metadata": {
        "id": "SsRIiBG8to5H",
        "outputId": "495eb644-01aa-40b9-caf9-48ed3cebb4f7",
        "colab": {
          "base_uri": "https://localhost:8080/"
        }
      },
      "source": [
        "words"
      ],
      "execution_count": 17,
      "outputs": [
        {
          "output_type": "execute_result",
          "data": {
            "text/plain": [
              "{'!': <gensim.models.keyedvectors.Vocab at 0x7fbe4ec64c88>,\n",
              " ',': <gensim.models.keyedvectors.Vocab at 0x7fbe4ec64438>,\n",
              " '.': <gensim.models.keyedvectors.Vocab at 0x7fbe4ec64c50>,\n",
              " '?': <gensim.models.keyedvectors.Vocab at 0x7fbe4ec63fd0>,\n",
              " 'achievements': <gensim.models.keyedvectors.Vocab at 0x7fbe4ec65358>,\n",
              " 'alexander': <gensim.models.keyedvectors.Vocab at 0x7fbe4ec63be0>,\n",
              " 'also': <gensim.models.keyedvectors.Vocab at 0x7fbe4ec658d0>,\n",
              " 'among': <gensim.models.keyedvectors.Vocab at 0x7fbe4ec65588>,\n",
              " 'anyone': <gensim.models.keyedvectors.Vocab at 0x7fbe4ec63b00>,\n",
              " 'areas': <gensim.models.keyedvectors.Vocab at 0x7fbe4ec65240>,\n",
              " 'believe': <gensim.models.keyedvectors.Vocab at 0x7fbe4ec63c18>,\n",
              " 'brahm': <gensim.models.keyedvectors.Vocab at 0x7fbe4ec68860>,\n",
              " 'british': <gensim.models.keyedvectors.Vocab at 0x7fbe4ec63ef0>,\n",
              " 'build': <gensim.models.keyedvectors.Vocab at 0x7fbe4ec63e10>,\n",
              " 'came': <gensim.models.keyedvectors.Vocab at 0x7fbe4ec63da0>,\n",
              " 'captured': <gensim.models.keyedvectors.Vocab at 0x7fbe4ec64978>,\n",
              " 'career': <gensim.models.keyedvectors.Vocab at 0x7fbe4ec687f0>,\n",
              " 'closely': <gensim.models.keyedvectors.Vocab at 0x7fbe4ec68a90>,\n",
              " 'come': <gensim.models.keyedvectors.Vocab at 0x7fbe4ec64550>,\n",
              " 'conquered': <gensim.models.keyedvectors.Vocab at 0x7fbe4ec633c8>,\n",
              " 'consider': <gensim.models.keyedvectors.Vocab at 0x7fbe4ec68550>,\n",
              " 'culture': <gensim.models.keyedvectors.Vocab at 0x7fbe4ec639b0>,\n",
              " 'dept': <gensim.models.keyedvectors.Vocab at 0x7fbe4ec686d8>,\n",
              " 'developed': <gensim.models.keyedvectors.Vocab at 0x7fbe4ec65a20>,\n",
              " 'developing': <gensim.models.keyedvectors.Vocab at 0x7fbe4ec656a0>,\n",
              " 'development': <gensim.models.keyedvectors.Vocab at 0x7fbe4ec652b0>,\n",
              " 'dhawan': <gensim.models.keyedvectors.Vocab at 0x7fbe4ec687b8>,\n",
              " 'done': <gensim.models.keyedvectors.Vocab at 0x7fbe4ec63860>,\n",
              " 'dr.': <gensim.models.keyedvectors.Vocab at 0x7fbe4ec685f8>,\n",
              " 'dutch': <gensim.models.keyedvectors.Vocab at 0x7fbe4ec63cc0>,\n",
              " 'economic': <gensim.models.keyedvectors.Vocab at 0x7fbe4ec65e10>,\n",
              " 'enforce': <gensim.models.keyedvectors.Vocab at 0x7fbe4ec631d0>,\n",
              " 'falling': <gensim.models.keyedvectors.Vocab at 0x7fbe4ec65780>,\n",
              " 'father': <gensim.models.keyedvectors.Vocab at 0x7fbe4ec68710>,\n",
              " 'fifty': <gensim.models.keyedvectors.Vocab at 0x7fbe4ec65828>,\n",
              " 'first': <gensim.models.keyedvectors.Vocab at 0x7fbe4ec63128>,\n",
              " 'fortune': <gensim.models.keyedvectors.Vocab at 0x7fbe4ec68780>,\n",
              " 'four': <gensim.models.keyedvectors.Vocab at 0x7fbe4ec683c8>,\n",
              " 'free': <gensim.models.keyedvectors.Vocab at 0x7fbe4ec639e8>,\n",
              " 'freedom': <gensim.models.keyedvectors.Vocab at 0x7fbe4ec63ba8>,\n",
              " 'french': <gensim.models.keyedvectors.Vocab at 0x7fbe4ec63f60>,\n",
              " 'gdp': <gensim.models.keyedvectors.Vocab at 0x7fbe4ec65a58>,\n",
              " 'globally': <gensim.models.keyedvectors.Vocab at 0x7fbe4ec65160>,\n",
              " 'go': <gensim.models.keyedvectors.Vocab at 0x7fbe4ec65f98>,\n",
              " 'good': <gensim.models.keyedvectors.Vocab at 0x7fbe4ec685c0>,\n",
              " 'got': <gensim.models.keyedvectors.Vocab at 0x7fbe4ec63710>,\n",
              " 'grabbed': <gensim.models.keyedvectors.Vocab at 0x7fbe4ec63a58>,\n",
              " 'great': <gensim.models.keyedvectors.Vocab at 0x7fbe4ec68518>,\n",
              " 'greeks': <gensim.models.keyedvectors.Vocab at 0x7fbe4ec636a0>,\n",
              " 'growth': <gensim.models.keyedvectors.Vocab at 0x7fbe4ec655c0>,\n",
              " 'hand-in-hand': <gensim.models.keyedvectors.Vocab at 0x7fbe4ec68390>,\n",
              " 'history': <gensim.models.keyedvectors.Vocab at 0x7fbe4ec64898>,\n",
              " 'incorrect': <gensim.models.keyedvectors.Vocab at 0x7fbe4ec65e80>,\n",
              " 'independence': <gensim.models.keyedvectors.Vocab at 0x7fbe4ec634a8>,\n",
              " 'india': <gensim.models.keyedvectors.Vocab at 0x7fbe709efa20>,\n",
              " 'invaded': <gensim.models.keyedvectors.Vocab at 0x7fbe4ec64080>,\n",
              " 'lack': <gensim.models.keyedvectors.Vocab at 0x7fbe4ec65400>,\n",
              " 'land': <gensim.models.keyedvectors.Vocab at 0x7fbe4ec63828>,\n",
              " 'lands': <gensim.models.keyedvectors.Vocab at 0x7fbe4ec64208>,\n",
              " 'levels': <gensim.models.keyedvectors.Vocab at 0x7fbe4ec659b0>,\n",
              " 'life': <gensim.models.keyedvectors.Vocab at 0x7fbe4ec63320>,\n",
              " 'looted': <gensim.models.keyedvectors.Vocab at 0x7fbe4ec63d30>,\n",
              " 'lucky': <gensim.models.keyedvectors.Vocab at 0x7fbe4ec68080>,\n",
              " 'material': <gensim.models.keyedvectors.Vocab at 0x7fbe4ec68a58>,\n",
              " 'milestones': <gensim.models.keyedvectors.Vocab at 0x7fbe4ec684e0>,\n",
              " 'military': <gensim.models.keyedvectors.Vocab at 0x7fbe4ec65da0>,\n",
              " 'minds': <gensim.models.keyedvectors.Vocab at 0x7fbe4ec63668>,\n",
              " 'moguls': <gensim.models.keyedvectors.Vocab at 0x7fbe4ec63c50>,\n",
              " 'must': <gensim.models.keyedvectors.Vocab at 0x7fbe4ec63e80>,\n",
              " 'nation': <gensim.models.keyedvectors.Vocab at 0x7fbe4ec63dd8>,\n",
              " 'nations': <gensim.models.keyedvectors.Vocab at 0x7fbe4ec65ac8>,\n",
              " 'nuclear': <gensim.models.keyedvectors.Vocab at 0x7fbe4ec68940>,\n",
              " 'nurture': <gensim.models.keyedvectors.Vocab at 0x7fbe4ec63588>,\n",
              " 'one': <gensim.models.keyedvectors.Vocab at 0x7fbe4ec63240>,\n",
              " 'onwards': <gensim.models.keyedvectors.Vocab at 0x7fbe4ec63b38>,\n",
              " 'opportunity': <gensim.models.keyedvectors.Vocab at 0x7fbe4ec68978>,\n",
              " 'others.that': <gensim.models.keyedvectors.Vocab at 0x7fbe4ec63208>,\n",
              " 'people': <gensim.models.keyedvectors.Vocab at 0x7fbe4ec64278>,\n",
              " 'percent': <gensim.models.keyedvectors.Vocab at 0x7fbe4ec65f60>,\n",
              " 'portuguese': <gensim.models.keyedvectors.Vocab at 0x7fbe4ec63518>,\n",
              " 'poverty': <gensim.models.keyedvectors.Vocab at 0x7fbe4ec65898>,\n",
              " 'power': <gensim.models.keyedvectors.Vocab at 0x7fbe4ec65b70>,\n",
              " 'prakash': <gensim.models.keyedvectors.Vocab at 0x7fbe4ec68588>,\n",
              " 'professor': <gensim.models.keyedvectors.Vocab at 0x7fbe4ec68748>,\n",
              " 'protect': <gensim.models.keyedvectors.Vocab at 0x7fbe4ec630f0>,\n",
              " 'rate': <gensim.models.keyedvectors.Vocab at 0x7fbe4ec654a8>,\n",
              " 'recognised': <gensim.models.keyedvectors.Vocab at 0x7fbe4ec65080>,\n",
              " 'respect': <gensim.models.keyedvectors.Vocab at 0x7fbe4ec638d0>,\n",
              " 'respects': <gensim.models.keyedvectors.Vocab at 0x7fbe4ec65128>,\n",
              " 'sarabhai': <gensim.models.keyedvectors.Vocab at 0x7fbe4ec68668>,\n",
              " 'satish': <gensim.models.keyedvectors.Vocab at 0x7fbe4ec684a8>,\n",
              " 'second': <gensim.models.keyedvectors.Vocab at 0x7fbe4ec63cf8>,\n",
              " 'see': <gensim.models.keyedvectors.Vocab at 0x7fbe4ec652e8>,\n",
              " 'self-assured': <gensim.models.keyedvectors.Vocab at 0x7fbe4ec65be0>,\n",
              " 'self-confidence': <gensim.models.keyedvectors.Vocab at 0x7fbe4ec650b8>,\n",
              " 'self-reliant': <gensim.models.keyedvectors.Vocab at 0x7fbe4ec65048>,\n",
              " 'space': <gensim.models.keyedvectors.Vocab at 0x7fbe4ec68400>,\n",
              " 'stand': <gensim.models.keyedvectors.Vocab at 0x7fbe4ec656d8>,\n",
              " 'stands': <gensim.models.keyedvectors.Vocab at 0x7fbe4ec65518>,\n",
              " 'started': <gensim.models.keyedvectors.Vocab at 0x7fbe4ec63048>,\n",
              " 'strength': <gensim.models.keyedvectors.Vocab at 0x7fbe4ec65d30>,\n",
              " 'strong': <gensim.models.keyedvectors.Vocab at 0x7fbe4ec651d0>,\n",
              " 'succeeded': <gensim.models.keyedvectors.Vocab at 0x7fbe4ec68908>,\n",
              " 'terms': <gensim.models.keyedvectors.Vocab at 0x7fbe4ec65d68>,\n",
              " 'third': <gensim.models.keyedvectors.Vocab at 0x7fbe4ec65908>,\n",
              " 'three': <gensim.models.keyedvectors.Vocab at 0x7fbe709ef9b0>,\n",
              " 'time': <gensim.models.keyedvectors.Vocab at 0x7fbe4ec65b38>,\n",
              " 'today': <gensim.models.keyedvectors.Vocab at 0x7fbe4ec65438>,\n",
              " 'took': <gensim.models.keyedvectors.Vocab at 0x7fbe4ec63780>,\n",
              " 'top': <gensim.models.keyedvectors.Vocab at 0x7fbe4ec65ba8>,\n",
              " 'tried': <gensim.models.keyedvectors.Vocab at 0x7fbe4ec63a20>,\n",
              " 'turks': <gensim.models.keyedvectors.Vocab at 0x7fbe4ec63ac8>,\n",
              " 'unless': <gensim.models.keyedvectors.Vocab at 0x7fbe4ec65fd0>,\n",
              " 'us': <gensim.models.keyedvectors.Vocab at 0x7fbe4ec64d30>,\n",
              " 'vikram': <gensim.models.keyedvectors.Vocab at 0x7fbe4ec68470>,\n",
              " 'vision': <gensim.models.keyedvectors.Vocab at 0x7fbe4ec635f8>,\n",
              " 'visions': <gensim.models.keyedvectors.Vocab at 0x7fbe4f7d6940>,\n",
              " 'war': <gensim.models.keyedvectors.Vocab at 0x7fbe4ec63438>,\n",
              " 'way': <gensim.models.keyedvectors.Vocab at 0x7fbe4ec63160>,\n",
              " 'worked': <gensim.models.keyedvectors.Vocab at 0x7fbe4ec68f60>,\n",
              " 'world': <gensim.models.keyedvectors.Vocab at 0x7fbe4ec641d0>,\n",
              " 'years': <gensim.models.keyedvectors.Vocab at 0x7fbe4ec64390>,\n",
              " 'yet': <gensim.models.keyedvectors.Vocab at 0x7fbe4ec637f0>,\n",
              " '’': <gensim.models.keyedvectors.Vocab at 0x7fbe4ec632b0>}"
            ]
          },
          "metadata": {
            "tags": []
          },
          "execution_count": 17
        }
      ]
    },
    {
      "cell_type": "code",
      "metadata": {
        "id": "Ku3_CI80dliw",
        "outputId": "48c7cceb-11d4-44e3-8310-2ce029b60018",
        "colab": {
          "base_uri": "https://localhost:8080/"
        }
      },
      "source": [
        "model.corpus_count"
      ],
      "execution_count": 18,
      "outputs": [
        {
          "output_type": "execute_result",
          "data": {
            "text/plain": [
              "32"
            ]
          },
          "metadata": {
            "tags": []
          },
          "execution_count": 18
        }
      ]
    },
    {
      "cell_type": "code",
      "metadata": {
        "id": "90IsX17pdnaY",
        "outputId": "93e497bd-166b-49b8-b939-7ef844aa0deb",
        "colab": {
          "base_uri": "https://localhost:8080/"
        }
      },
      "source": [
        "# Finding Word Vectors\n",
        "vector = model.wv['war']\n",
        "vector.size"
      ],
      "execution_count": 20,
      "outputs": [
        {
          "output_type": "execute_result",
          "data": {
            "text/plain": [
              "100"
            ]
          },
          "metadata": {
            "tags": []
          },
          "execution_count": 20
        }
      ]
    },
    {
      "cell_type": "code",
      "metadata": {
        "id": "sGF4v_VXv3Wo",
        "outputId": "741e9266-f7b1-4719-d207-a5e0a3c706f0",
        "colab": {
          "base_uri": "https://localhost:8080/"
        }
      },
      "source": [
        "vector"
      ],
      "execution_count": 26,
      "outputs": [
        {
          "output_type": "execute_result",
          "data": {
            "text/plain": [
              "array([-2.32266681e-03, -1.72713492e-03,  2.54834071e-03,  2.39658309e-03,\n",
              "       -2.80525722e-03, -6.50015718e-05,  3.23330378e-03, -2.26969039e-03,\n",
              "       -2.51324545e-03, -2.78016669e-03,  1.34844659e-03,  1.41530193e-03,\n",
              "       -2.81997537e-03, -2.18939828e-03,  1.80308439e-03, -4.43078810e-03,\n",
              "        2.15235725e-03,  2.58287112e-03,  1.30262924e-03, -6.30489842e-04,\n",
              "       -3.41937086e-03,  3.95517796e-03,  4.64262348e-03, -4.13077301e-04,\n",
              "        3.85510456e-03, -1.26981526e-03, -2.40735104e-03, -3.74214578e-04,\n",
              "       -1.33432657e-03,  1.55852991e-03,  9.44710337e-04, -2.75651156e-03,\n",
              "        3.77002801e-03,  1.97979296e-03,  4.30990336e-03, -4.39537503e-03,\n",
              "        2.23129778e-03,  1.09300006e-03, -1.61995448e-03,  2.34243809e-03,\n",
              "        9.60552890e-04, -1.92650012e-03,  3.73128289e-03,  4.88763023e-03,\n",
              "       -2.00734916e-03,  2.76320195e-03,  3.20178247e-03, -6.80811296e-04,\n",
              "       -3.55795096e-03, -4.11419693e-04, -3.37389973e-03,  2.84126285e-03,\n",
              "        4.42868751e-03, -4.39919718e-03,  2.47469684e-03,  2.90206214e-03,\n",
              "        3.53160617e-03, -2.21107830e-03, -4.31142608e-03,  2.98180245e-03,\n",
              "        1.84342125e-03, -3.96693777e-03,  3.47526814e-03,  3.67682381e-03,\n",
              "        2.49513704e-03, -3.15953605e-03, -3.80246621e-03,  3.62326484e-03,\n",
              "       -2.66872579e-03,  4.74947086e-03, -4.60573100e-03,  6.74791983e-04,\n",
              "        1.03195210e-03,  8.19367648e-04,  1.44317583e-03, -4.02764929e-03,\n",
              "        1.16316916e-03, -2.36344128e-03, -1.16783274e-04, -4.95852809e-03,\n",
              "       -4.12934087e-03,  1.29042252e-03, -2.85961869e-04, -1.28462247e-03,\n",
              "        3.70522169e-03, -1.25234120e-03, -3.20789451e-03, -1.52934503e-04,\n",
              "        3.74423224e-03, -1.03794283e-03, -3.75608611e-03, -3.37995880e-04,\n",
              "       -4.89072921e-03,  3.79079324e-03,  2.91088829e-04,  2.35804240e-03,\n",
              "       -2.32345331e-03,  2.25773663e-03, -1.72431546e-03, -2.10755295e-03],\n",
              "      dtype=float32)"
            ]
          },
          "metadata": {
            "tags": []
          },
          "execution_count": 26
        }
      ]
    },
    {
      "cell_type": "code",
      "metadata": {
        "id": "lFJnSOCdklcV",
        "outputId": "97e11f03-f22c-4084-8c52-99e34581dd14",
        "colab": {
          "base_uri": "https://localhost:8080/"
        }
      },
      "source": [
        "# Most similar words\n",
        "similar = model.wv.most_similar('vikram')"
      ],
      "execution_count": 27,
      "outputs": [
        {
          "output_type": "stream",
          "text": [
            "/usr/local/lib/python3.6/dist-packages/gensim/matutils.py:737: FutureWarning: Conversion of the second argument of issubdtype from `int` to `np.signedinteger` is deprecated. In future, it will be treated as `np.int64 == np.dtype(int).type`.\n",
            "  if np.issubdtype(vec.dtype, np.int):\n"
          ],
          "name": "stderr"
        }
      ]
    },
    {
      "cell_type": "code",
      "metadata": {
        "id": "Z42iC3oFwVH_",
        "outputId": "886b7713-3328-46e0-bd0a-510bfca65ea7",
        "colab": {
          "base_uri": "https://localhost:8080/"
        }
      },
      "source": [
        "similar"
      ],
      "execution_count": 23,
      "outputs": [
        {
          "output_type": "execute_result",
          "data": {
            "text/plain": [
              "[('today', 0.19723260402679443),\n",
              " ('independence', 0.18583714962005615),\n",
              " ('also', 0.1798083484172821),\n",
              " ('nations', 0.1697784960269928),\n",
              " ('india', 0.15853582322597504),\n",
              " ('people', 0.15305420756340027),\n",
              " ('british', 0.14471875131130219),\n",
              " ('unless', 0.13962726294994354),\n",
              " ('must', 0.12844149768352509),\n",
              " ('incorrect', 0.12806108593940735)]"
            ]
          },
          "metadata": {
            "tags": []
          },
          "execution_count": 23
        }
      ]
    },
    {
      "cell_type": "code",
      "metadata": {
        "id": "o5uMTscKwV5A"
      },
      "source": [
        ""
      ],
      "execution_count": 17,
      "outputs": []
    }
  ]
}