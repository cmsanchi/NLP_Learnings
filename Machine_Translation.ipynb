{
  "nbformat": 4,
  "nbformat_minor": 0,
  "metadata": {
    "colab": {
      "name": "Machine_Translation.ipynb",
      "provenance": [],
      "toc_visible": true,
      "mount_file_id": "1Ehy1hHMkMlP5TfHE5S6Edugr5qRPxNaV",
      "authorship_tag": "ABX9TyPchPOZjAdvUkE3uRGXPTxV",
      "include_colab_link": true
    },
    "kernelspec": {
      "name": "python3",
      "display_name": "Python 3"
    },
    "accelerator": "GPU"
  },
  "cells": [
    {
      "cell_type": "markdown",
      "metadata": {
        "id": "view-in-github",
        "colab_type": "text"
      },
      "source": [
        "<a href=\"https://colab.research.google.com/github/jyotishsanchi/NLP_Learnings/blob/main/Machine_Translation.ipynb\" target=\"_parent\"><img src=\"https://colab.research.google.com/assets/colab-badge.svg\" alt=\"Open In Colab\"/></a>"
      ]
    },
    {
      "cell_type": "markdown",
      "metadata": {
        "id": "wSshzkGJXsHm"
      },
      "source": [
        "#Keras example for Machine Translation"
      ]
    },
    {
      "cell_type": "markdown",
      "metadata": {
        "id": "Zv6jclCeWTEH"
      },
      "source": [
        "A Keras example\n",
        "Let's illustrate these ideas with actual code.\n",
        "\n",
        "For our example implementation, we will use a dataset of pairs of English sentences and their French translation, which you can download from **manythings.org/anki**. The file to download is called **fra-eng.zip**. We will implement a character-level sequence-to-sequence model, processing the input character-by-character and generating the output character-by-character. Another option would be a word-level model, which tends to be more common for machine translation. At the end of this post, you will find some notes about turning our model into a word-level model using Embedding layers.\n",
        "\n",
        "Here's a summary of our process:\n",
        "\n",
        "- 1) Turn the sentences into 3 Numpy arrays, encoder_input_data, decoder_input_data, decoder_target_data:\n",
        "  - **encoder_input_data** is a 3D array of shape (num_pairs, max_english_sentence_length, num_english_characters) containing a one-hot vectorization of the English sentences.\n",
        " - **decoder_input_data** is a 3D array of shape (num_pairs, max_french_sentence_length, num_french_characters) containg a one-hot vectorization of the French sentences.\n",
        " - **decoder_target_data** is the same as decoder_input_data but offset by one timestep. decoder_target_data[:, t, :] will be the same as decoder_input_data[:, t + 1, :].\n",
        "- 2) Train a basic LSTM-based Seq2Seq model to predict decoder_target_data given encoder_input_data and decoder_input_data. Our model uses teacher forcing.\n",
        "- 3) Decode some sentences to check that the model is working (i.e. turn samples from encoder_input_data into corresponding samples from decoder_target_data).\n",
        "\n",
        "Because the training process and inference process (decoding sentences) are quite different, we use different models for both, albeit they all leverage the same inner layers.\n",
        "\n",
        "This is our training model. It leverages three key features of Keras RNNs:\n",
        "\n",
        "- The **return_state** contructor argument, configuring a RNN layer to return a list where the first entry is the outputs and the next entries are the internal RNN states. This is used to recover the states of the encoder.\n",
        "- The **inital_state** call argument, specifying the initial state(s) of a RNN. This is used to pass the encoder states to the decoder as initial states.\n",
        "- The **return_sequences** constructor argument, configuring a RNN to return its full sequence of outputs (instead of just the last output, which the defaults behavior). This is used in the decoder."
      ]
    },
    {
      "cell_type": "code",
      "metadata": {
        "id": "sq4UqedJZrQo"
      },
      "source": [
        ""
      ],
      "execution_count": null,
      "outputs": []
    },
    {
      "cell_type": "code",
      "metadata": {
        "colab": {
          "base_uri": "https://localhost:8080/"
        },
        "id": "0RpAmhd2ZX_b",
        "outputId": "54c81614-39bd-407a-b04f-2eb2e0488e16"
      },
      "source": [
        "import tensorflow\n",
        "print(tensorflow.__version__)"
      ],
      "execution_count": 1,
      "outputs": [
        {
          "output_type": "stream",
          "text": [
            "2.3.0\n"
          ],
          "name": "stdout"
        }
      ]
    },
    {
      "cell_type": "code",
      "metadata": {
        "id": "3qEPZREoWVTr"
      },
      "source": [
        "from tensorflow.keras.models import Model, load_model\n",
        "from tensorflow.keras.layers import Input, LSTM, Dense, Embedding\n",
        "import numpy as np\n",
        "import pandas as pd"
      ],
      "execution_count": 39,
      "outputs": []
    },
    {
      "cell_type": "code",
      "metadata": {
        "id": "VAVB-GTjaoQt"
      },
      "source": [
        "import os\n",
        "os.chdir('/content/drive/MyDrive/')"
      ],
      "execution_count": 3,
      "outputs": []
    },
    {
      "cell_type": "code",
      "metadata": {
        "id": "TY7xtskbaDes"
      },
      "source": [
        "batch_size = 64  # Batch size for training.\n",
        "epochs = 100  # Number of epochs to train for.\n",
        "latent_dim = 256  # Latent dimensionality of the encoding space.\n",
        "num_samples = 10000  # Number of samples to train on.\n",
        "# Path to the data txt file on disk.\n",
        "data_path = \"fra.txt\"\n"
      ],
      "execution_count": 4,
      "outputs": []
    },
    {
      "cell_type": "markdown",
      "metadata": {
        "id": "TQS3nRBcbI7-"
      },
      "source": [
        "### Prepare Data"
      ]
    },
    {
      "cell_type": "code",
      "metadata": {
        "id": "BFggx4yZa3tf"
      },
      "source": [
        "# Vectorize the data.\n",
        "input_texts = []\n",
        "target_texts = []\n",
        "input_characters = set()\n",
        "target_characters = set()\n",
        "\n",
        "with open(data_path, \"r\", encoding=\"utf-8\") as f:\n",
        "    lines = f.read().split(\"\\n\")"
      ],
      "execution_count": 5,
      "outputs": []
    },
    {
      "cell_type": "code",
      "metadata": {
        "colab": {
          "base_uri": "https://localhost:8080/"
        },
        "id": "ZtC-0knsa5Gc",
        "outputId": "a0375bec-57fe-4904-bac8-1928a0e222dc"
      },
      "source": [
        "lines[:5]"
      ],
      "execution_count": 6,
      "outputs": [
        {
          "output_type": "execute_result",
          "data": {
            "text/plain": [
              "['Go.\\tVa !\\tCC-BY 2.0 (France) Attribution: tatoeba.org #2877272 (CM) & #1158250 (Wittydev)',\n",
              " 'Hi.\\tSalut !\\tCC-BY 2.0 (France) Attribution: tatoeba.org #538123 (CM) & #509819 (Aiji)',\n",
              " 'Hi.\\tSalut.\\tCC-BY 2.0 (France) Attribution: tatoeba.org #538123 (CM) & #4320462 (gillux)',\n",
              " 'Run!\\tCours\\u202f!\\tCC-BY 2.0 (France) Attribution: tatoeba.org #906328 (papabear) & #906331 (sacredceltic)',\n",
              " 'Run!\\tCourez\\u202f!\\tCC-BY 2.0 (France) Attribution: tatoeba.org #906328 (papabear) & #906332 (sacredceltic)']"
            ]
          },
          "metadata": {
            "tags": []
          },
          "execution_count": 6
        }
      ]
    },
    {
      "cell_type": "code",
      "metadata": {
        "colab": {
          "base_uri": "https://localhost:8080/"
        },
        "id": "iedElhqZkMIr",
        "outputId": "bdb91412-959d-41ad-b458-0b9fbfaaf5c1"
      },
      "source": [
        "len(lines)"
      ],
      "execution_count": 7,
      "outputs": [
        {
          "output_type": "execute_result",
          "data": {
            "text/plain": [
              "179905"
            ]
          },
          "metadata": {
            "tags": []
          },
          "execution_count": 7
        }
      ]
    },
    {
      "cell_type": "code",
      "metadata": {
        "id": "-LvHSZaKhurL"
      },
      "source": [
        "for line in lines[: min(num_samples, len(lines) - 1)]:\n",
        "    input_text, target_text, _ = line.split(\"\\t\")\n",
        "    # We use \"tab\" as the \"start sequence\" character\n",
        "    # for the targets, and \"\\n\" as \"end sequence\" character.\n",
        "    target_text = \"\\t\" + target_text + \"\\n\"\n",
        "    input_texts.append(input_text)\n",
        "    target_texts.append(target_text)\n",
        "    for char in input_text:\n",
        "        if char not in input_characters:\n",
        "            input_characters.add(char)\n",
        "    for char in target_text:\n",
        "        if char not in target_characters:\n",
        "            target_characters.add(char)"
      ],
      "execution_count": 8,
      "outputs": []
    },
    {
      "cell_type": "code",
      "metadata": {
        "colab": {
          "base_uri": "https://localhost:8080/"
        },
        "id": "13191YSYij3C",
        "outputId": "f751b5ad-bce9-4eab-fb64-1daca64395e4"
      },
      "source": [
        "input_texts[:5]"
      ],
      "execution_count": 9,
      "outputs": [
        {
          "output_type": "execute_result",
          "data": {
            "text/plain": [
              "['Go.', 'Hi.', 'Hi.', 'Run!', 'Run!']"
            ]
          },
          "metadata": {
            "tags": []
          },
          "execution_count": 9
        }
      ]
    },
    {
      "cell_type": "code",
      "metadata": {
        "colab": {
          "base_uri": "https://localhost:8080/"
        },
        "id": "1vDrfYU6iosC",
        "outputId": "48053cdc-869f-44a8-8d3a-4e144aff2692"
      },
      "source": [
        "target_texts[:5]"
      ],
      "execution_count": 10,
      "outputs": [
        {
          "output_type": "execute_result",
          "data": {
            "text/plain": [
              "['\\tVa !\\n',\n",
              " '\\tSalut !\\n',\n",
              " '\\tSalut.\\n',\n",
              " '\\tCours\\u202f!\\n',\n",
              " '\\tCourez\\u202f!\\n']"
            ]
          },
          "metadata": {
            "tags": []
          },
          "execution_count": 10
        }
      ]
    },
    {
      "cell_type": "code",
      "metadata": {
        "id": "v6Ii_Qkqi3Hb"
      },
      "source": [
        "input_characters = sorted(list(input_characters))\n",
        "target_characters = sorted(list(target_characters))"
      ],
      "execution_count": 11,
      "outputs": []
    },
    {
      "cell_type": "code",
      "metadata": {
        "colab": {
          "base_uri": "https://localhost:8080/"
        },
        "id": "dNvS4_O4i7ei",
        "outputId": "0a774869-2c66-4a93-d8bf-389e13b0060f"
      },
      "source": [
        "print(input_characters)"
      ],
      "execution_count": 12,
      "outputs": [
        {
          "output_type": "stream",
          "text": [
            "[' ', '!', '$', '%', '&', \"'\", ',', '-', '.', '0', '1', '2', '3', '5', '6', '7', '8', '9', ':', '?', 'A', 'B', 'C', 'D', 'E', 'F', 'G', 'H', 'I', 'J', 'K', 'L', 'M', 'N', 'O', 'P', 'Q', 'R', 'S', 'T', 'U', 'V', 'W', 'Y', 'a', 'b', 'c', 'd', 'e', 'f', 'g', 'h', 'i', 'j', 'k', 'l', 'm', 'n', 'o', 'p', 'q', 'r', 's', 't', 'u', 'v', 'w', 'x', 'y', 'z', 'é']\n"
          ],
          "name": "stdout"
        }
      ]
    },
    {
      "cell_type": "code",
      "metadata": {
        "colab": {
          "base_uri": "https://localhost:8080/"
        },
        "id": "0RxbtT38jC38",
        "outputId": "3e860542-d13d-4dda-c11d-a83df9a36a3b"
      },
      "source": [
        "print(target_characters)"
      ],
      "execution_count": 13,
      "outputs": [
        {
          "output_type": "stream",
          "text": [
            "['\\t', '\\n', ' ', '!', '$', '%', '&', \"'\", '(', ')', ',', '-', '.', '0', '1', '2', '3', '5', '8', '9', ':', '?', 'A', 'B', 'C', 'D', 'E', 'F', 'G', 'H', 'I', 'J', 'K', 'L', 'M', 'N', 'O', 'P', 'Q', 'R', 'S', 'T', 'U', 'V', 'Y', 'a', 'b', 'c', 'd', 'e', 'f', 'g', 'h', 'i', 'j', 'k', 'l', 'm', 'n', 'o', 'p', 'q', 'r', 's', 't', 'u', 'v', 'w', 'x', 'y', 'z', '\\xa0', '«', '»', 'À', 'Ç', 'É', 'Ê', 'à', 'â', 'ç', 'è', 'é', 'ê', 'ë', 'î', 'ï', 'ô', 'ù', 'û', 'œ', '\\u2009', '’', '\\u202f']\n"
          ],
          "name": "stdout"
        }
      ]
    },
    {
      "cell_type": "code",
      "metadata": {
        "id": "N09JvglUjOTZ"
      },
      "source": [
        "num_encoder_tokens = len(input_characters)\n",
        "num_decoder_tokens = len(target_characters)"
      ],
      "execution_count": 14,
      "outputs": []
    },
    {
      "cell_type": "code",
      "metadata": {
        "colab": {
          "base_uri": "https://localhost:8080/"
        },
        "id": "O1EvCzwLjP89",
        "outputId": "059cf027-5df6-42ac-f4ee-1a1dd1e4caf5"
      },
      "source": [
        "print(num_encoder_tokens)\n",
        "print(num_decoder_tokens)"
      ],
      "execution_count": 15,
      "outputs": [
        {
          "output_type": "stream",
          "text": [
            "71\n",
            "94\n"
          ],
          "name": "stdout"
        }
      ]
    },
    {
      "cell_type": "code",
      "metadata": {
        "id": "Th_2v0BUjfCb"
      },
      "source": [
        "max_encoder_seq_length = max([len(txt) for txt in input_texts])\n",
        "max_decoder_seq_length = max([len(txt) for txt in target_texts])"
      ],
      "execution_count": 16,
      "outputs": []
    },
    {
      "cell_type": "code",
      "metadata": {
        "colab": {
          "base_uri": "https://localhost:8080/"
        },
        "id": "vRfNnm7tjgk7",
        "outputId": "de9c1eb1-9b3f-4d73-e9bd-49b1e63d8c82"
      },
      "source": [
        "print(max_encoder_seq_length)\n",
        "print(max_decoder_seq_length)"
      ],
      "execution_count": 17,
      "outputs": [
        {
          "output_type": "stream",
          "text": [
            "15\n",
            "59\n"
          ],
          "name": "stdout"
        }
      ]
    },
    {
      "cell_type": "code",
      "metadata": {
        "colab": {
          "base_uri": "https://localhost:8080/"
        },
        "id": "g1hGrmEobpez",
        "outputId": "7f179ba0-003a-45e0-cafa-ffa7eb008eba"
      },
      "source": [
        "print(\"Number of samples:\", len(input_texts))\n",
        "print(\"Number of unique input tokens:\", num_encoder_tokens)\n",
        "print(\"Number of unique output tokens:\", num_decoder_tokens)\n",
        "print(\"Max sequence length for inputs:\", max_encoder_seq_length)\n",
        "print(\"Max sequence length for outputs:\", max_decoder_seq_length)"
      ],
      "execution_count": 18,
      "outputs": [
        {
          "output_type": "stream",
          "text": [
            "Number of samples: 10000\n",
            "Number of unique input tokens: 71\n",
            "Number of unique output tokens: 94\n",
            "Max sequence length for inputs: 15\n",
            "Max sequence length for outputs: 59\n"
          ],
          "name": "stdout"
        }
      ]
    },
    {
      "cell_type": "markdown",
      "metadata": {
        "id": "W_pfcZYvkm7T"
      },
      "source": [
        "### Assign index to each character"
      ]
    },
    {
      "cell_type": "code",
      "metadata": {
        "id": "0Vzl96q7khml"
      },
      "source": [
        "input_token_index = dict([(char, i) for i, char in enumerate(input_characters)])\n",
        "target_token_index = dict([(char, i) for i, char in enumerate(target_characters)])"
      ],
      "execution_count": 19,
      "outputs": []
    },
    {
      "cell_type": "code",
      "metadata": {
        "colab": {
          "base_uri": "https://localhost:8080/"
        },
        "id": "Wpo2hQ0AkzI7",
        "outputId": "866ecd39-97b4-44ca-ae46-2aef67b734df"
      },
      "source": [
        "print(input_token_index)"
      ],
      "execution_count": 20,
      "outputs": [
        {
          "output_type": "stream",
          "text": [
            "{' ': 0, '!': 1, '$': 2, '%': 3, '&': 4, \"'\": 5, ',': 6, '-': 7, '.': 8, '0': 9, '1': 10, '2': 11, '3': 12, '5': 13, '6': 14, '7': 15, '8': 16, '9': 17, ':': 18, '?': 19, 'A': 20, 'B': 21, 'C': 22, 'D': 23, 'E': 24, 'F': 25, 'G': 26, 'H': 27, 'I': 28, 'J': 29, 'K': 30, 'L': 31, 'M': 32, 'N': 33, 'O': 34, 'P': 35, 'Q': 36, 'R': 37, 'S': 38, 'T': 39, 'U': 40, 'V': 41, 'W': 42, 'Y': 43, 'a': 44, 'b': 45, 'c': 46, 'd': 47, 'e': 48, 'f': 49, 'g': 50, 'h': 51, 'i': 52, 'j': 53, 'k': 54, 'l': 55, 'm': 56, 'n': 57, 'o': 58, 'p': 59, 'q': 60, 'r': 61, 's': 62, 't': 63, 'u': 64, 'v': 65, 'w': 66, 'x': 67, 'y': 68, 'z': 69, 'é': 70}\n"
          ],
          "name": "stdout"
        }
      ]
    },
    {
      "cell_type": "code",
      "metadata": {
        "colab": {
          "base_uri": "https://localhost:8080/"
        },
        "id": "0Ci0JAAJk2RJ",
        "outputId": "bc4196ad-2aaa-4264-ba59-6df3cdee308c"
      },
      "source": [
        "print(target_token_index)"
      ],
      "execution_count": 21,
      "outputs": [
        {
          "output_type": "stream",
          "text": [
            "{'\\t': 0, '\\n': 1, ' ': 2, '!': 3, '$': 4, '%': 5, '&': 6, \"'\": 7, '(': 8, ')': 9, ',': 10, '-': 11, '.': 12, '0': 13, '1': 14, '2': 15, '3': 16, '5': 17, '8': 18, '9': 19, ':': 20, '?': 21, 'A': 22, 'B': 23, 'C': 24, 'D': 25, 'E': 26, 'F': 27, 'G': 28, 'H': 29, 'I': 30, 'J': 31, 'K': 32, 'L': 33, 'M': 34, 'N': 35, 'O': 36, 'P': 37, 'Q': 38, 'R': 39, 'S': 40, 'T': 41, 'U': 42, 'V': 43, 'Y': 44, 'a': 45, 'b': 46, 'c': 47, 'd': 48, 'e': 49, 'f': 50, 'g': 51, 'h': 52, 'i': 53, 'j': 54, 'k': 55, 'l': 56, 'm': 57, 'n': 58, 'o': 59, 'p': 60, 'q': 61, 'r': 62, 's': 63, 't': 64, 'u': 65, 'v': 66, 'w': 67, 'x': 68, 'y': 69, 'z': 70, '\\xa0': 71, '«': 72, '»': 73, 'À': 74, 'Ç': 75, 'É': 76, 'Ê': 77, 'à': 78, 'â': 79, 'ç': 80, 'è': 81, 'é': 82, 'ê': 83, 'ë': 84, 'î': 85, 'ï': 86, 'ô': 87, 'ù': 88, 'û': 89, 'œ': 90, '\\u2009': 91, '’': 92, '\\u202f': 93}\n"
          ],
          "name": "stdout"
        }
      ]
    },
    {
      "cell_type": "markdown",
      "metadata": {
        "id": "iffdwBvplf1t"
      },
      "source": [
        "1) Turn the sentences into 3 Numpy arrays, encoder_input_data, decoder_input_data, decoder_target_data:\n",
        "- **encoder_input_data** is a 3D array of shape (num_pairs, max_english_sentence_length, num_english_characters) containing a one-hot vectorization of the English sentences.\n",
        "- **decoder_input_data** is a 3D array of shape (num_pairs, max_french_sentence_length, num_french_characters) containg a one-hot vectorization of the French sentences.\n",
        "- **decoder_target_data** is the same as decoder_input_data but offset by one timestep. decoder_target_data[:, t, :] will be the same as decoder_input_data[:, t + 1, :]."
      ]
    },
    {
      "cell_type": "code",
      "metadata": {
        "id": "AyHjYMRwlAvK"
      },
      "source": [
        "encoder_input_data = np.zeros(\n",
        "    (len(input_texts), max_encoder_seq_length, num_encoder_tokens), dtype=\"float32\"\n",
        ")\n",
        "decoder_input_data = np.zeros(\n",
        "    (len(input_texts), max_decoder_seq_length, num_decoder_tokens), dtype=\"float32\"\n",
        ")\n",
        "decoder_target_data = np.zeros(\n",
        "    (len(input_texts), max_decoder_seq_length, num_decoder_tokens), dtype=\"float32\"\n",
        ")"
      ],
      "execution_count": 22,
      "outputs": []
    },
    {
      "cell_type": "markdown",
      "metadata": {
        "id": "RR8kGqKYngyq"
      },
      "source": [
        "### One-hot representation for each character"
      ]
    },
    {
      "cell_type": "code",
      "metadata": {
        "id": "Y9kDTqvJmDEl"
      },
      "source": [
        "for i, (input_text, target_text) in enumerate(zip(input_texts, target_texts)):\n",
        "    \n",
        "    for t, char in enumerate(input_text):\n",
        "        encoder_input_data[i, t, input_token_index[char]] = 1.0\n",
        "    encoder_input_data[i, t + 1 :, input_token_index[\" \"]] = 1.0\n",
        "\n",
        "    for t, char in enumerate(target_text):\n",
        "        # decoder_target_data is ahead of decoder_input_data by one timestep\n",
        "        decoder_input_data[i, t, target_token_index[char]] = 1.0\n",
        "        if t > 0:\n",
        "            # decoder_target_data will be ahead by one timestep\n",
        "            # and will not include the start character.\n",
        "            decoder_target_data[i, t - 1, target_token_index[char]] = 1.0\n",
        "            \n",
        "    decoder_input_data[i, t + 1 :, target_token_index[\" \"]] = 1.0\n",
        "    decoder_target_data[i, t:, target_token_index[\" \"]] = 1.0"
      ],
      "execution_count": 23,
      "outputs": []
    },
    {
      "cell_type": "code",
      "metadata": {
        "colab": {
          "base_uri": "https://localhost:8080/"
        },
        "id": "6Lpbj4qxpxFb",
        "outputId": "6f1676c4-a8d2-4f9c-db71-c17851cc6f89"
      },
      "source": [
        "encoder_input_data[0].shape"
      ],
      "execution_count": 24,
      "outputs": [
        {
          "output_type": "execute_result",
          "data": {
            "text/plain": [
              "(15, 71)"
            ]
          },
          "metadata": {
            "tags": []
          },
          "execution_count": 24
        }
      ]
    },
    {
      "cell_type": "code",
      "metadata": {
        "colab": {
          "base_uri": "https://localhost:8080/"
        },
        "id": "7aBLwuJ1p04d",
        "outputId": "176b2498-8e42-4129-883f-6007b98df3e4"
      },
      "source": [
        "encoder_input_data.shape"
      ],
      "execution_count": 25,
      "outputs": [
        {
          "output_type": "execute_result",
          "data": {
            "text/plain": [
              "(10000, 15, 71)"
            ]
          },
          "metadata": {
            "tags": []
          },
          "execution_count": 25
        }
      ]
    },
    {
      "cell_type": "code",
      "metadata": {
        "colab": {
          "base_uri": "https://localhost:8080/"
        },
        "id": "Tirw1-GXoCRQ",
        "outputId": "bd7ee739-86af-49ae-d13f-fceecfa30b28"
      },
      "source": [
        "print(encoder_input_data[:1])"
      ],
      "execution_count": 26,
      "outputs": [
        {
          "output_type": "stream",
          "text": [
            "[[[0. 0. 0. ... 0. 0. 0.]\n",
            "  [0. 0. 0. ... 0. 0. 0.]\n",
            "  [0. 0. 0. ... 0. 0. 0.]\n",
            "  ...\n",
            "  [1. 0. 0. ... 0. 0. 0.]\n",
            "  [1. 0. 0. ... 0. 0. 0.]\n",
            "  [1. 0. 0. ... 0. 0. 0.]]]\n"
          ],
          "name": "stdout"
        }
      ]
    },
    {
      "cell_type": "code",
      "metadata": {
        "colab": {
          "base_uri": "https://localhost:8080/"
        },
        "id": "IcFkTOvooMPb",
        "outputId": "d5a935ce-27fa-43ae-c359-b7d61ad637c6"
      },
      "source": [
        "print(decoder_input_data[:1])"
      ],
      "execution_count": 27,
      "outputs": [
        {
          "output_type": "stream",
          "text": [
            "[[[1. 0. 0. ... 0. 0. 0.]\n",
            "  [0. 0. 0. ... 0. 0. 0.]\n",
            "  [0. 0. 0. ... 0. 0. 0.]\n",
            "  ...\n",
            "  [0. 0. 1. ... 0. 0. 0.]\n",
            "  [0. 0. 1. ... 0. 0. 0.]\n",
            "  [0. 0. 1. ... 0. 0. 0.]]]\n"
          ],
          "name": "stdout"
        }
      ]
    },
    {
      "cell_type": "code",
      "metadata": {
        "colab": {
          "base_uri": "https://localhost:8080/"
        },
        "id": "uQssrXHSol-0",
        "outputId": "5b4db897-ec44-43ae-e547-a4b44f7fb81a"
      },
      "source": [
        "print(decoder_target_data[:1])"
      ],
      "execution_count": 28,
      "outputs": [
        {
          "output_type": "stream",
          "text": [
            "[[[0. 0. 0. ... 0. 0. 0.]\n",
            "  [0. 0. 0. ... 0. 0. 0.]\n",
            "  [0. 0. 1. ... 0. 0. 0.]\n",
            "  ...\n",
            "  [0. 0. 1. ... 0. 0. 0.]\n",
            "  [0. 0. 1. ... 0. 0. 0.]\n",
            "  [0. 0. 1. ... 0. 0. 0.]]]\n"
          ],
          "name": "stdout"
        }
      ]
    },
    {
      "cell_type": "markdown",
      "metadata": {
        "id": "HhEI8BDtpcMt"
      },
      "source": [
        "### Build the model"
      ]
    },
    {
      "cell_type": "markdown",
      "metadata": {
        "id": "e5Ht75tSqJ08"
      },
      "source": [
        "#### Encoder"
      ]
    },
    {
      "cell_type": "code",
      "metadata": {
        "id": "Af-FAskrqJPw"
      },
      "source": [
        "# Define an input sequence and process it.\n",
        "encoder_inputs = Input(shape=(None, num_encoder_tokens))\n",
        "encoder_lstm = LSTM(latent_dim, return_state=True)\n",
        "encoder_outputs, state_h, state_c = encoder_lstm(encoder_inputs)\n",
        "\n",
        "# We discard `encoder_outputs` and only keep the states.\n",
        "encoder_states = [state_h, state_c]"
      ],
      "execution_count": 29,
      "outputs": []
    },
    {
      "cell_type": "markdown",
      "metadata": {
        "id": "GKR6eq2ysUzw"
      },
      "source": [
        "### Decoder"
      ]
    },
    {
      "cell_type": "code",
      "metadata": {
        "id": "TDAU1T-vorNN"
      },
      "source": [
        "# Set up the decoder, using `encoder_states` as initial state.\n",
        "decoder_inputs = Input(shape=(None, num_decoder_tokens))\n",
        "\n",
        "# We set up our decoder to return full output sequences,\n",
        "# and to return internal states as well. We don't use the\n",
        "# return states in the training model, but we will use them in inference.\n",
        "decoder_lstm = LSTM(latent_dim, return_sequences=True, return_state=True)\n",
        "\n",
        "decoder_outputs, _, _ = decoder_lstm(decoder_inputs, initial_state=encoder_states)\n",
        "\n",
        "decoder_dense = Dense(num_decoder_tokens, activation=\"softmax\")\n",
        "decoder_outputs = decoder_dense(decoder_outputs)"
      ],
      "execution_count": 30,
      "outputs": []
    },
    {
      "cell_type": "code",
      "metadata": {
        "id": "IZVvE061rmm_"
      },
      "source": [
        "# Define the model that will turn\n",
        "# `encoder_input_data` & `decoder_input_data` into `decoder_target_data`\n",
        "model = Model([encoder_inputs, decoder_inputs], decoder_outputs)"
      ],
      "execution_count": 31,
      "outputs": []
    },
    {
      "cell_type": "markdown",
      "metadata": {
        "id": "KIqQwv4isneW"
      },
      "source": [
        "### Train the model"
      ]
    },
    {
      "cell_type": "code",
      "metadata": {
        "colab": {
          "base_uri": "https://localhost:8080/"
        },
        "id": "9xGJi-Lfspf0",
        "outputId": "37e1fbf2-fb67-4b69-f811-1e7fb82a3b0f"
      },
      "source": [
        "model.compile(\n",
        "    optimizer=\"rmsprop\", loss=\"categorical_crossentropy\", metrics=[\"accuracy\"]\n",
        ")\n",
        "model.fit(\n",
        "    [encoder_input_data, decoder_input_data],\n",
        "    decoder_target_data,\n",
        "    batch_size=batch_size,\n",
        "    epochs=epochs,\n",
        "    validation_split=0.2,\n",
        ")\n",
        "# Save model\n",
        "model.save(\"s2s\")"
      ],
      "execution_count": 32,
      "outputs": [
        {
          "output_type": "stream",
          "text": [
            "Epoch 1/100\n",
            "125/125 [==============================] - 2s 18ms/step - loss: 1.1945 - accuracy: 0.7246 - val_loss: 1.0612 - val_accuracy: 0.7241\n",
            "Epoch 2/100\n",
            "125/125 [==============================] - 1s 12ms/step - loss: 0.8595 - accuracy: 0.7674 - val_loss: 0.8463 - val_accuracy: 0.7612\n",
            "Epoch 3/100\n",
            "125/125 [==============================] - 1s 12ms/step - loss: 0.6971 - accuracy: 0.8059 - val_loss: 0.7305 - val_accuracy: 0.7933\n",
            "Epoch 4/100\n",
            "125/125 [==============================] - 1s 12ms/step - loss: 0.5940 - accuracy: 0.8276 - val_loss: 0.6484 - val_accuracy: 0.8079\n",
            "Epoch 5/100\n",
            "125/125 [==============================] - 1s 12ms/step - loss: 0.5399 - accuracy: 0.8425 - val_loss: 0.6124 - val_accuracy: 0.8188\n",
            "Epoch 6/100\n",
            "125/125 [==============================] - 1s 11ms/step - loss: 0.5022 - accuracy: 0.8523 - val_loss: 0.5825 - val_accuracy: 0.8274\n",
            "Epoch 7/100\n",
            "125/125 [==============================] - 1s 11ms/step - loss: 0.4731 - accuracy: 0.8601 - val_loss: 0.5655 - val_accuracy: 0.8318\n",
            "Epoch 8/100\n",
            "125/125 [==============================] - 1s 12ms/step - loss: 0.4489 - accuracy: 0.8667 - val_loss: 0.5449 - val_accuracy: 0.8388\n",
            "Epoch 9/100\n",
            "125/125 [==============================] - 1s 11ms/step - loss: 0.4276 - accuracy: 0.8729 - val_loss: 0.5255 - val_accuracy: 0.8439\n",
            "Epoch 10/100\n",
            "125/125 [==============================] - 1s 12ms/step - loss: 0.4086 - accuracy: 0.8781 - val_loss: 0.5196 - val_accuracy: 0.8449\n",
            "Epoch 11/100\n",
            "125/125 [==============================] - 1s 12ms/step - loss: 0.3917 - accuracy: 0.8828 - val_loss: 0.4966 - val_accuracy: 0.8528\n",
            "Epoch 12/100\n",
            "125/125 [==============================] - 1s 12ms/step - loss: 0.3761 - accuracy: 0.8875 - val_loss: 0.4909 - val_accuracy: 0.8540\n",
            "Epoch 13/100\n",
            "125/125 [==============================] - 1s 12ms/step - loss: 0.3616 - accuracy: 0.8913 - val_loss: 0.4848 - val_accuracy: 0.8565\n",
            "Epoch 14/100\n",
            "125/125 [==============================] - 1s 12ms/step - loss: 0.3475 - accuracy: 0.8951 - val_loss: 0.4799 - val_accuracy: 0.8572\n",
            "Epoch 15/100\n",
            "125/125 [==============================] - 1s 12ms/step - loss: 0.3345 - accuracy: 0.8994 - val_loss: 0.4755 - val_accuracy: 0.8597\n",
            "Epoch 16/100\n",
            "125/125 [==============================] - 1s 12ms/step - loss: 0.3225 - accuracy: 0.9028 - val_loss: 0.4702 - val_accuracy: 0.8623\n",
            "Epoch 17/100\n",
            "125/125 [==============================] - 1s 12ms/step - loss: 0.3110 - accuracy: 0.9062 - val_loss: 0.4638 - val_accuracy: 0.8650\n",
            "Epoch 18/100\n",
            "125/125 [==============================] - 1s 12ms/step - loss: 0.2997 - accuracy: 0.9094 - val_loss: 0.4602 - val_accuracy: 0.8652\n",
            "Epoch 19/100\n",
            "125/125 [==============================] - 1s 12ms/step - loss: 0.2892 - accuracy: 0.9124 - val_loss: 0.4584 - val_accuracy: 0.8665\n",
            "Epoch 20/100\n",
            "125/125 [==============================] - 1s 12ms/step - loss: 0.2796 - accuracy: 0.9152 - val_loss: 0.4592 - val_accuracy: 0.8674\n",
            "Epoch 21/100\n",
            "125/125 [==============================] - 1s 12ms/step - loss: 0.2699 - accuracy: 0.9182 - val_loss: 0.4599 - val_accuracy: 0.8682\n",
            "Epoch 22/100\n",
            "125/125 [==============================] - 1s 12ms/step - loss: 0.2610 - accuracy: 0.9209 - val_loss: 0.4571 - val_accuracy: 0.8702\n",
            "Epoch 23/100\n",
            "125/125 [==============================] - 1s 12ms/step - loss: 0.2524 - accuracy: 0.9230 - val_loss: 0.4561 - val_accuracy: 0.8707\n",
            "Epoch 24/100\n",
            "125/125 [==============================] - 1s 12ms/step - loss: 0.2438 - accuracy: 0.9257 - val_loss: 0.4594 - val_accuracy: 0.8701\n",
            "Epoch 25/100\n",
            "125/125 [==============================] - 1s 12ms/step - loss: 0.2358 - accuracy: 0.9282 - val_loss: 0.4566 - val_accuracy: 0.8706\n",
            "Epoch 26/100\n",
            "125/125 [==============================] - 1s 12ms/step - loss: 0.2281 - accuracy: 0.9302 - val_loss: 0.4588 - val_accuracy: 0.8722\n",
            "Epoch 27/100\n",
            "125/125 [==============================] - 1s 12ms/step - loss: 0.2209 - accuracy: 0.9328 - val_loss: 0.4639 - val_accuracy: 0.8711\n",
            "Epoch 28/100\n",
            "125/125 [==============================] - 1s 12ms/step - loss: 0.2138 - accuracy: 0.9350 - val_loss: 0.4676 - val_accuracy: 0.8713\n",
            "Epoch 29/100\n",
            "125/125 [==============================] - 1s 12ms/step - loss: 0.2071 - accuracy: 0.9367 - val_loss: 0.4712 - val_accuracy: 0.8712\n",
            "Epoch 30/100\n",
            "125/125 [==============================] - 1s 12ms/step - loss: 0.2007 - accuracy: 0.9387 - val_loss: 0.4745 - val_accuracy: 0.8711\n",
            "Epoch 31/100\n",
            "125/125 [==============================] - 1s 12ms/step - loss: 0.1948 - accuracy: 0.9402 - val_loss: 0.4735 - val_accuracy: 0.8738\n",
            "Epoch 32/100\n",
            "125/125 [==============================] - 1s 12ms/step - loss: 0.1888 - accuracy: 0.9422 - val_loss: 0.4738 - val_accuracy: 0.8729\n",
            "Epoch 33/100\n",
            "125/125 [==============================] - 1s 12ms/step - loss: 0.1832 - accuracy: 0.9440 - val_loss: 0.4835 - val_accuracy: 0.8721\n",
            "Epoch 34/100\n",
            "125/125 [==============================] - 1s 12ms/step - loss: 0.1776 - accuracy: 0.9454 - val_loss: 0.4792 - val_accuracy: 0.8741\n",
            "Epoch 35/100\n",
            "125/125 [==============================] - 1s 12ms/step - loss: 0.1723 - accuracy: 0.9473 - val_loss: 0.4832 - val_accuracy: 0.8729\n",
            "Epoch 36/100\n",
            "125/125 [==============================] - 1s 12ms/step - loss: 0.1674 - accuracy: 0.9488 - val_loss: 0.4908 - val_accuracy: 0.8732\n",
            "Epoch 37/100\n",
            "125/125 [==============================] - 1s 12ms/step - loss: 0.1627 - accuracy: 0.9501 - val_loss: 0.4908 - val_accuracy: 0.8731\n",
            "Epoch 38/100\n",
            "125/125 [==============================] - 1s 12ms/step - loss: 0.1579 - accuracy: 0.9514 - val_loss: 0.5015 - val_accuracy: 0.8727\n",
            "Epoch 39/100\n",
            "125/125 [==============================] - 1s 12ms/step - loss: 0.1535 - accuracy: 0.9530 - val_loss: 0.5007 - val_accuracy: 0.8733\n",
            "Epoch 40/100\n",
            "125/125 [==============================] - 1s 12ms/step - loss: 0.1496 - accuracy: 0.9541 - val_loss: 0.5092 - val_accuracy: 0.8721\n",
            "Epoch 41/100\n",
            "125/125 [==============================] - 1s 12ms/step - loss: 0.1450 - accuracy: 0.9555 - val_loss: 0.5125 - val_accuracy: 0.8724\n",
            "Epoch 42/100\n",
            "125/125 [==============================] - 1s 12ms/step - loss: 0.1415 - accuracy: 0.9564 - val_loss: 0.5172 - val_accuracy: 0.8726\n",
            "Epoch 43/100\n",
            "125/125 [==============================] - 1s 12ms/step - loss: 0.1378 - accuracy: 0.9575 - val_loss: 0.5187 - val_accuracy: 0.8731\n",
            "Epoch 44/100\n",
            "125/125 [==============================] - 1s 12ms/step - loss: 0.1342 - accuracy: 0.9587 - val_loss: 0.5244 - val_accuracy: 0.8730\n",
            "Epoch 45/100\n",
            "125/125 [==============================] - 1s 12ms/step - loss: 0.1305 - accuracy: 0.9597 - val_loss: 0.5305 - val_accuracy: 0.8718\n",
            "Epoch 46/100\n",
            "125/125 [==============================] - 1s 12ms/step - loss: 0.1269 - accuracy: 0.9608 - val_loss: 0.5366 - val_accuracy: 0.8733\n",
            "Epoch 47/100\n",
            "125/125 [==============================] - 1s 12ms/step - loss: 0.1243 - accuracy: 0.9614 - val_loss: 0.5450 - val_accuracy: 0.8725\n",
            "Epoch 48/100\n",
            "125/125 [==============================] - 1s 12ms/step - loss: 0.1211 - accuracy: 0.9624 - val_loss: 0.5398 - val_accuracy: 0.8734\n",
            "Epoch 49/100\n",
            "125/125 [==============================] - 1s 12ms/step - loss: 0.1182 - accuracy: 0.9634 - val_loss: 0.5485 - val_accuracy: 0.8725\n",
            "Epoch 50/100\n",
            "125/125 [==============================] - 1s 12ms/step - loss: 0.1149 - accuracy: 0.9642 - val_loss: 0.5542 - val_accuracy: 0.8722\n",
            "Epoch 51/100\n",
            "125/125 [==============================] - 2s 12ms/step - loss: 0.1124 - accuracy: 0.9650 - val_loss: 0.5541 - val_accuracy: 0.8723\n",
            "Epoch 52/100\n",
            "125/125 [==============================] - 1s 12ms/step - loss: 0.1098 - accuracy: 0.9656 - val_loss: 0.5606 - val_accuracy: 0.8723\n",
            "Epoch 53/100\n",
            "125/125 [==============================] - 2s 12ms/step - loss: 0.1071 - accuracy: 0.9666 - val_loss: 0.5659 - val_accuracy: 0.8725\n",
            "Epoch 54/100\n",
            "125/125 [==============================] - 1s 12ms/step - loss: 0.1048 - accuracy: 0.9672 - val_loss: 0.5739 - val_accuracy: 0.8719\n",
            "Epoch 55/100\n",
            "125/125 [==============================] - 1s 12ms/step - loss: 0.1024 - accuracy: 0.9678 - val_loss: 0.5733 - val_accuracy: 0.8719\n",
            "Epoch 56/100\n",
            "125/125 [==============================] - 1s 12ms/step - loss: 0.0997 - accuracy: 0.9689 - val_loss: 0.5815 - val_accuracy: 0.8713\n",
            "Epoch 57/100\n",
            "125/125 [==============================] - 1s 12ms/step - loss: 0.0975 - accuracy: 0.9692 - val_loss: 0.5873 - val_accuracy: 0.8713\n",
            "Epoch 58/100\n",
            "125/125 [==============================] - 1s 12ms/step - loss: 0.0956 - accuracy: 0.9698 - val_loss: 0.5892 - val_accuracy: 0.8713\n",
            "Epoch 59/100\n",
            "125/125 [==============================] - 1s 12ms/step - loss: 0.0933 - accuracy: 0.9705 - val_loss: 0.5991 - val_accuracy: 0.8711\n",
            "Epoch 60/100\n",
            "125/125 [==============================] - 1s 12ms/step - loss: 0.0913 - accuracy: 0.9711 - val_loss: 0.6048 - val_accuracy: 0.8707\n",
            "Epoch 61/100\n",
            "125/125 [==============================] - 1s 12ms/step - loss: 0.0892 - accuracy: 0.9719 - val_loss: 0.6124 - val_accuracy: 0.8701\n",
            "Epoch 62/100\n",
            "125/125 [==============================] - 1s 12ms/step - loss: 0.0874 - accuracy: 0.9721 - val_loss: 0.6117 - val_accuracy: 0.8715\n",
            "Epoch 63/100\n",
            "125/125 [==============================] - 1s 12ms/step - loss: 0.0853 - accuracy: 0.9729 - val_loss: 0.6162 - val_accuracy: 0.8707\n",
            "Epoch 64/100\n",
            "125/125 [==============================] - 1s 12ms/step - loss: 0.0836 - accuracy: 0.9733 - val_loss: 0.6162 - val_accuracy: 0.8719\n",
            "Epoch 65/100\n",
            "125/125 [==============================] - 1s 12ms/step - loss: 0.0821 - accuracy: 0.9736 - val_loss: 0.6241 - val_accuracy: 0.8707\n",
            "Epoch 66/100\n",
            "125/125 [==============================] - 1s 11ms/step - loss: 0.0803 - accuracy: 0.9744 - val_loss: 0.6330 - val_accuracy: 0.8708\n",
            "Epoch 67/100\n",
            "125/125 [==============================] - 1s 12ms/step - loss: 0.0787 - accuracy: 0.9747 - val_loss: 0.6303 - val_accuracy: 0.8710\n",
            "Epoch 68/100\n",
            "125/125 [==============================] - 1s 12ms/step - loss: 0.0767 - accuracy: 0.9753 - val_loss: 0.6358 - val_accuracy: 0.8710\n",
            "Epoch 69/100\n",
            "125/125 [==============================] - 1s 12ms/step - loss: 0.0752 - accuracy: 0.9757 - val_loss: 0.6404 - val_accuracy: 0.8714\n",
            "Epoch 70/100\n",
            "125/125 [==============================] - 1s 12ms/step - loss: 0.0735 - accuracy: 0.9762 - val_loss: 0.6502 - val_accuracy: 0.8697\n",
            "Epoch 71/100\n",
            "125/125 [==============================] - 1s 12ms/step - loss: 0.0724 - accuracy: 0.9764 - val_loss: 0.6490 - val_accuracy: 0.8707\n",
            "Epoch 72/100\n",
            "125/125 [==============================] - 1s 12ms/step - loss: 0.0707 - accuracy: 0.9771 - val_loss: 0.6562 - val_accuracy: 0.8706\n",
            "Epoch 73/100\n",
            "125/125 [==============================] - 1s 12ms/step - loss: 0.0692 - accuracy: 0.9777 - val_loss: 0.6621 - val_accuracy: 0.8706\n",
            "Epoch 74/100\n",
            "125/125 [==============================] - 1s 12ms/step - loss: 0.0685 - accuracy: 0.9778 - val_loss: 0.6625 - val_accuracy: 0.8703\n",
            "Epoch 75/100\n",
            "125/125 [==============================] - 1s 12ms/step - loss: 0.0669 - accuracy: 0.9780 - val_loss: 0.6698 - val_accuracy: 0.8695\n",
            "Epoch 76/100\n",
            "125/125 [==============================] - 1s 12ms/step - loss: 0.0655 - accuracy: 0.9786 - val_loss: 0.6683 - val_accuracy: 0.8706\n",
            "Epoch 77/100\n",
            "125/125 [==============================] - 1s 12ms/step - loss: 0.0644 - accuracy: 0.9788 - val_loss: 0.6740 - val_accuracy: 0.8703\n",
            "Epoch 78/100\n",
            "125/125 [==============================] - 1s 12ms/step - loss: 0.0629 - accuracy: 0.9794 - val_loss: 0.6785 - val_accuracy: 0.8704\n",
            "Epoch 79/100\n",
            "125/125 [==============================] - 1s 12ms/step - loss: 0.0625 - accuracy: 0.9794 - val_loss: 0.6834 - val_accuracy: 0.8699\n",
            "Epoch 80/100\n",
            "125/125 [==============================] - 1s 12ms/step - loss: 0.0610 - accuracy: 0.9798 - val_loss: 0.6836 - val_accuracy: 0.8705\n",
            "Epoch 81/100\n",
            "125/125 [==============================] - 1s 12ms/step - loss: 0.0597 - accuracy: 0.9801 - val_loss: 0.6885 - val_accuracy: 0.8696\n",
            "Epoch 82/100\n",
            "125/125 [==============================] - 1s 12ms/step - loss: 0.0585 - accuracy: 0.9806 - val_loss: 0.6957 - val_accuracy: 0.8697\n",
            "Epoch 83/100\n",
            "125/125 [==============================] - 1s 12ms/step - loss: 0.0577 - accuracy: 0.9806 - val_loss: 0.6985 - val_accuracy: 0.8698\n",
            "Epoch 84/100\n",
            "125/125 [==============================] - 1s 12ms/step - loss: 0.0563 - accuracy: 0.9811 - val_loss: 0.7055 - val_accuracy: 0.8695\n",
            "Epoch 85/100\n",
            "125/125 [==============================] - 1s 12ms/step - loss: 0.0562 - accuracy: 0.9811 - val_loss: 0.7063 - val_accuracy: 0.8697\n",
            "Epoch 86/100\n",
            "125/125 [==============================] - 1s 12ms/step - loss: 0.0548 - accuracy: 0.9816 - val_loss: 0.7068 - val_accuracy: 0.8694\n",
            "Epoch 87/100\n",
            "125/125 [==============================] - 1s 12ms/step - loss: 0.0540 - accuracy: 0.9819 - val_loss: 0.7129 - val_accuracy: 0.8695\n",
            "Epoch 88/100\n",
            "125/125 [==============================] - 1s 12ms/step - loss: 0.0529 - accuracy: 0.9822 - val_loss: 0.7138 - val_accuracy: 0.8695\n",
            "Epoch 89/100\n",
            "125/125 [==============================] - 1s 12ms/step - loss: 0.0518 - accuracy: 0.9825 - val_loss: 0.7199 - val_accuracy: 0.8698\n",
            "Epoch 90/100\n",
            "125/125 [==============================] - 1s 12ms/step - loss: 0.0513 - accuracy: 0.9826 - val_loss: 0.7193 - val_accuracy: 0.8695\n",
            "Epoch 91/100\n",
            "125/125 [==============================] - 1s 12ms/step - loss: 0.0505 - accuracy: 0.9827 - val_loss: 0.7267 - val_accuracy: 0.8698\n",
            "Epoch 92/100\n",
            "125/125 [==============================] - 1s 12ms/step - loss: 0.0498 - accuracy: 0.9829 - val_loss: 0.7249 - val_accuracy: 0.8699\n",
            "Epoch 93/100\n",
            "125/125 [==============================] - 1s 12ms/step - loss: 0.0489 - accuracy: 0.9833 - val_loss: 0.7371 - val_accuracy: 0.8687\n",
            "Epoch 94/100\n",
            "125/125 [==============================] - 1s 12ms/step - loss: 0.0482 - accuracy: 0.9835 - val_loss: 0.7374 - val_accuracy: 0.8686\n",
            "Epoch 95/100\n",
            "125/125 [==============================] - 1s 12ms/step - loss: 0.0474 - accuracy: 0.9836 - val_loss: 0.7418 - val_accuracy: 0.8687\n",
            "Epoch 96/100\n",
            "125/125 [==============================] - 1s 12ms/step - loss: 0.0469 - accuracy: 0.9837 - val_loss: 0.7432 - val_accuracy: 0.8688\n",
            "Epoch 97/100\n",
            "125/125 [==============================] - 1s 12ms/step - loss: 0.0459 - accuracy: 0.9841 - val_loss: 0.7492 - val_accuracy: 0.8695\n",
            "Epoch 98/100\n",
            "125/125 [==============================] - 1s 12ms/step - loss: 0.0455 - accuracy: 0.9841 - val_loss: 0.7485 - val_accuracy: 0.8693\n",
            "Epoch 99/100\n",
            "125/125 [==============================] - 1s 12ms/step - loss: 0.0447 - accuracy: 0.9844 - val_loss: 0.7494 - val_accuracy: 0.8696\n",
            "Epoch 100/100\n",
            "125/125 [==============================] - 1s 12ms/step - loss: 0.0443 - accuracy: 0.9845 - val_loss: 0.7519 - val_accuracy: 0.8682\n",
            "WARNING:tensorflow:From /usr/local/lib/python3.6/dist-packages/tensorflow/python/training/tracking/tracking.py:111: Model.state_updates (from tensorflow.python.keras.engine.training) is deprecated and will be removed in a future version.\n",
            "Instructions for updating:\n",
            "This property should not be used in TensorFlow 2.0, as updates are applied automatically.\n",
            "WARNING:tensorflow:From /usr/local/lib/python3.6/dist-packages/tensorflow/python/training/tracking/tracking.py:111: Layer.updates (from tensorflow.python.keras.engine.base_layer) is deprecated and will be removed in a future version.\n",
            "Instructions for updating:\n",
            "This property should not be used in TensorFlow 2.0, as updates are applied automatically.\n",
            "INFO:tensorflow:Assets written to: s2s/assets\n"
          ],
          "name": "stdout"
        }
      ]
    },
    {
      "cell_type": "markdown",
      "metadata": {
        "id": "olY5KcOtuNNc"
      },
      "source": [
        "### Run inference (sampling)\n",
        " - encode input and retrieve initial decoder state\n",
        " - run one step of decoder with this initial state and a \"start of sequence\" token as target. Output will be the next target token.\n",
        " - Repeat with the current target token and current states\n",
        " **https://machinelearningmastery.com/define-encoder-decoder-sequence-sequence-model-neural-machine-translation-keras/*"
      ]
    },
    {
      "cell_type": "code",
      "metadata": {
        "id": "nfs8SS6WuW-E"
      },
      "source": [
        "# Define sampling models\n",
        "# Restore the model and construct the encoder and decoder.\n",
        "model = load_model(\"s2s\")\n",
        "\n",
        "encoder_inputs = model.input[0]  # input_1\n",
        "encoder_outputs, state_h_enc, state_c_enc = model.layers[2].output  # lstm_1\n",
        "encoder_states = [state_h_enc, state_c_enc]\n",
        "encoder_model = Model(encoder_inputs, encoder_states)\n",
        "\n",
        "decoder_inputs = model.input[1]  # input_2\n",
        "decoder_state_input_h = Input(shape=(latent_dim,), name=\"input_3\")\n",
        "decoder_state_input_c = Input(shape=(latent_dim,), name=\"input_4\")\n",
        "decoder_states_inputs = [decoder_state_input_h, decoder_state_input_c]\n",
        "\n",
        "decoder_lstm = model.layers[3]\n",
        "decoder_outputs, state_h_dec, state_c_dec = decoder_lstm(\n",
        "    decoder_inputs, initial_state=decoder_states_inputs\n",
        ")\n",
        "decoder_states = [state_h_dec, state_c_dec]\n",
        "decoder_dense = model.layers[4]\n",
        "decoder_outputs = decoder_dense(decoder_outputs)\n",
        "decoder_model = Model(\n",
        "    [decoder_inputs] + decoder_states_inputs, [decoder_outputs] + decoder_states\n",
        ")\n",
        "\n",
        "# Reverse-lookup token index to decode sequences back to\n",
        "# something readable.\n",
        "reverse_input_char_index = dict((i, char) for char, i in input_token_index.items())\n",
        "reverse_target_char_index = dict((i, char) for char, i in target_token_index.items())"
      ],
      "execution_count": 34,
      "outputs": []
    },
    {
      "cell_type": "code",
      "metadata": {
        "id": "-Fjnib4tvarS"
      },
      "source": [
        "def decode_sequence(input_seq):\n",
        "    # Encode the input as state vectors.\n",
        "    states_value = encoder_model.predict(input_seq)\n",
        "\n",
        "    # Generate empty target sequence of length 1.\n",
        "    target_seq = np.zeros((1, 1, num_decoder_tokens))\n",
        "    # Populate the first character of target sequence with the start character.\n",
        "    target_seq[0, 0, target_token_index[\"\\t\"]] = 1.0\n",
        "\n",
        "    # Sampling loop for a batch of sequences\n",
        "    # (to simplify, here we assume a batch of size 1).\n",
        "    stop_condition = False\n",
        "    decoded_sentence = \"\"\n",
        "    while not stop_condition:\n",
        "        output_tokens, h, c = decoder_model.predict([target_seq] + states_value)\n",
        "\n",
        "        # Sample a token\n",
        "        sampled_token_index = np.argmax(output_tokens[0, -1, :])\n",
        "        sampled_char = reverse_target_char_index[sampled_token_index]\n",
        "        decoded_sentence += sampled_char\n",
        "\n",
        "        # Exit condition: either hit max length\n",
        "        # or find stop character.\n",
        "        if sampled_char == \"\\n\" or len(decoded_sentence) > max_decoder_seq_length:\n",
        "            stop_condition = True\n",
        "\n",
        "        # Update the target sequence (of length 1).\n",
        "        target_seq = np.zeros((1, 1, num_decoder_tokens))\n",
        "        target_seq[0, 0, sampled_token_index] = 1.0\n",
        "\n",
        "        # Update states\n",
        "        states_value = [h, c]\n",
        "    return decoded_sentence"
      ],
      "execution_count": 35,
      "outputs": []
    },
    {
      "cell_type": "code",
      "metadata": {
        "colab": {
          "base_uri": "https://localhost:8080/"
        },
        "id": "3XMsF6_lvmpi",
        "outputId": "9ba6196c-fe55-4d3a-dec4-30bfb3ed710a"
      },
      "source": [
        "for seq_index in range(10):\n",
        "    # Take one sequence (part of the training set)\n",
        "    # for trying out decoding.\n",
        "    input_seq = encoder_input_data[seq_index : seq_index + 1]\n",
        "    decoded_sentence = decode_sequence(input_seq)\n",
        "    print(\"-\")\n",
        "    print(\"Input sentence:\", input_texts[seq_index])\n",
        "    print(\"Decoded sentence:\", decoded_sentence)"
      ],
      "execution_count": 37,
      "outputs": [
        {
          "output_type": "stream",
          "text": [
            "-\n",
            "Input sentence: Go.\n",
            "Decoded sentence: Va !\n",
            "\n",
            "-\n",
            "Input sentence: Hi.\n",
            "Decoded sentence: Salut.\n",
            "\n",
            "-\n",
            "Input sentence: Hi.\n",
            "Decoded sentence: Salut.\n",
            "\n",
            "-\n",
            "Input sentence: Run!\n",
            "Decoded sentence: Courez !\n",
            "\n",
            "-\n",
            "Input sentence: Run!\n",
            "Decoded sentence: Courez !\n",
            "\n",
            "-\n",
            "Input sentence: Who?\n",
            "Decoded sentence: Qui ?\n",
            "\n",
            "-\n",
            "Input sentence: Wow!\n",
            "Decoded sentence: Ça alors !\n",
            "\n",
            "-\n",
            "Input sentence: Fire!\n",
            "Decoded sentence: Au feu !\n",
            "\n",
            "-\n",
            "Input sentence: Help!\n",
            "Decoded sentence: À l'aide !\n",
            "\n",
            "-\n",
            "Input sentence: Jump.\n",
            "Decoded sentence: Saute.\n",
            "\n"
          ],
          "name": "stdout"
        }
      ]
    }
  ]
}