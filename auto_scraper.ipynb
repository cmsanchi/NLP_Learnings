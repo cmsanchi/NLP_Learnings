{
  "nbformat": 4,
  "nbformat_minor": 0,
  "metadata": {
    "colab": {
      "name": "auto_scraper.ipynb",
      "provenance": [],
      "authorship_tag": "ABX9TyPMzSb4obgO+7MDPNHOaHFi",
      "include_colab_link": true
    },
    "kernelspec": {
      "name": "python3",
      "display_name": "Python 3"
    },
    "language_info": {
      "name": "python"
    }
  },
  "cells": [
    {
      "cell_type": "markdown",
      "metadata": {
        "id": "view-in-github",
        "colab_type": "text"
      },
      "source": [
        "<a href=\"https://colab.research.google.com/github/cmsanchi/NLP_Learnings/blob/main/auto_scraper.ipynb\" target=\"_parent\"><img src=\"https://colab.research.google.com/assets/colab-badge.svg\" alt=\"Open In Colab\"/></a>"
      ]
    },
    {
      "cell_type": "code",
      "metadata": {
        "colab": {
          "base_uri": "https://localhost:8080/"
        },
        "id": "xT8TBdY9Pa1u",
        "outputId": "b725f8a6-a994-4aa1-a3a2-1e40ac89a11a"
      },
      "source": [
        "!pip install autoscraper"
      ],
      "execution_count": 3,
      "outputs": [
        {
          "output_type": "stream",
          "text": [
            "Collecting autoscraper\n",
            "  Downloading https://files.pythonhosted.org/packages/50/44/553afbb7624aaa16e71546196c1f3beb170dd555a2822785889a9da5c2e7/autoscraper-1.1.12-py3-none-any.whl\n",
            "Requirement already satisfied: bs4 in /usr/local/lib/python3.7/dist-packages (from autoscraper) (0.0.1)\n",
            "Requirement already satisfied: lxml in /usr/local/lib/python3.7/dist-packages (from autoscraper) (4.2.6)\n",
            "Requirement already satisfied: requests in /usr/local/lib/python3.7/dist-packages (from autoscraper) (2.23.0)\n",
            "Requirement already satisfied: beautifulsoup4 in /usr/local/lib/python3.7/dist-packages (from bs4->autoscraper) (4.6.3)\n",
            "Requirement already satisfied: certifi>=2017.4.17 in /usr/local/lib/python3.7/dist-packages (from requests->autoscraper) (2020.12.5)\n",
            "Requirement already satisfied: idna<3,>=2.5 in /usr/local/lib/python3.7/dist-packages (from requests->autoscraper) (2.10)\n",
            "Requirement already satisfied: chardet<4,>=3.0.2 in /usr/local/lib/python3.7/dist-packages (from requests->autoscraper) (3.0.4)\n",
            "Requirement already satisfied: urllib3!=1.25.0,!=1.25.1,<1.26,>=1.21.1 in /usr/local/lib/python3.7/dist-packages (from requests->autoscraper) (1.24.3)\n",
            "Installing collected packages: autoscraper\n",
            "Successfully installed autoscraper-1.1.12\n"
          ],
          "name": "stdout"
        }
      ]
    },
    {
      "cell_type": "code",
      "metadata": {
        "id": "DqZeKZexONHh"
      },
      "source": [
        "from autoscraper import AutoScraper"
      ],
      "execution_count": 4,
      "outputs": []
    },
    {
      "cell_type": "code",
      "metadata": {
        "id": "u4VHryOPO1qV"
      },
      "source": [
        "url = 'https://analyticsindiamag.com/?s=nlp'"
      ],
      "execution_count": 5,
      "outputs": []
    },
    {
      "cell_type": "code",
      "metadata": {
        "id": "S472kI6-RQFV"
      },
      "source": [
        "category = [\"Can We Crowdsource Benchmarks For Evaluating NLP Models?\"]"
      ],
      "execution_count": 6,
      "outputs": []
    },
    {
      "cell_type": "code",
      "metadata": {
        "id": "396pn8NIRYRq"
      },
      "source": [
        "scraper = AutoScraper()"
      ],
      "execution_count": 7,
      "outputs": []
    },
    {
      "cell_type": "code",
      "metadata": {
        "id": "t_y4sZytRb0a"
      },
      "source": [
        "final = scraper.build(url, category)"
      ],
      "execution_count": 8,
      "outputs": []
    },
    {
      "cell_type": "code",
      "metadata": {
        "colab": {
          "base_uri": "https://localhost:8080/"
        },
        "id": "ywuwlt37R0hS",
        "outputId": "579543c3-5760-49fc-e2f5-9fb015a2a7f0"
      },
      "source": [
        "print(final)"
      ],
      "execution_count": 9,
      "outputs": [
        {
          "output_type": "stream",
          "text": [
            "['Explained: CUAD, The Dataset For Legal NLP', 'Guide to Robustness Gym: Unifying the NLP Evaluation Landscape', 'Guide to Sense2vec – Contextually Keyed Word Vectors for NLP', 'How To Use Stanza By Stanford NLP Group (With Python Code)', 'Guide To TAPAS (TAble PArSing) – A Technique To Retrieve Information From Tabular Data Using NLP', 'Why Tech Giants Introduced Their Own Benchmark for NLP', 'Can We Crowdsource Benchmarks For Evaluating NLP Models?', 'Best NLP-based SEO Tools For 2021', 'A Comprehensive Guide To 15 Most Important NLP Datasets', 'Top 7 NLP Trends To Look Forward To In 2021']\n"
          ],
          "name": "stdout"
        }
      ]
    },
    {
      "cell_type": "code",
      "metadata": {
        "colab": {
          "base_uri": "https://localhost:8080/"
        },
        "id": "ePLCIvjoSB7b",
        "outputId": "6216dede-cf7a-44df-f750-450d75a83050"
      },
      "source": [
        "type(final)"
      ],
      "execution_count": 10,
      "outputs": [
        {
          "output_type": "execute_result",
          "data": {
            "text/plain": [
              "list"
            ]
          },
          "metadata": {
            "tags": []
          },
          "execution_count": 10
        }
      ]
    },
    {
      "cell_type": "code",
      "metadata": {
        "colab": {
          "base_uri": "https://localhost:8080/"
        },
        "id": "KBjpKGIrR-bE",
        "outputId": "ea00fae9-d3da-44da-f740-7a6327ffe868"
      },
      "source": [
        "len(final)"
      ],
      "execution_count": 11,
      "outputs": [
        {
          "output_type": "execute_result",
          "data": {
            "text/plain": [
              "10"
            ]
          },
          "metadata": {
            "tags": []
          },
          "execution_count": 11
        }
      ]
    },
    {
      "cell_type": "code",
      "metadata": {
        "colab": {
          "base_uri": "https://localhost:8080/"
        },
        "id": "bxEflc8_Unbi",
        "outputId": "fecb6257-41e6-4d5a-8adf-b9d4ce888a4c"
      },
      "source": [
        "final[:10]"
      ],
      "execution_count": 12,
      "outputs": [
        {
          "output_type": "execute_result",
          "data": {
            "text/plain": [
              "['Explained: CUAD, The Dataset For Legal NLP',\n",
              " 'Guide to Robustness Gym: Unifying the NLP Evaluation Landscape',\n",
              " 'Guide to Sense2vec – Contextually Keyed Word Vectors for NLP',\n",
              " 'How To Use Stanza By Stanford NLP Group (With Python Code)',\n",
              " 'Guide To TAPAS (TAble PArSing) – A Technique To Retrieve Information From Tabular Data Using NLP',\n",
              " 'Why Tech Giants Introduced Their Own Benchmark for NLP',\n",
              " 'Can We Crowdsource Benchmarks For Evaluating NLP Models?',\n",
              " 'Best NLP-based SEO Tools For 2021',\n",
              " 'A Comprehensive Guide To 15 Most Important NLP Datasets',\n",
              " 'Top 7 NLP Trends To Look Forward To In 2021']"
            ]
          },
          "metadata": {
            "tags": []
          },
          "execution_count": 12
        }
      ]
    },
    {
      "cell_type": "code",
      "metadata": {
        "id": "DLlIebRBUp8T"
      },
      "source": [
        "category = [\"Can We Crowdsource Benchmarks For Evaluating NLP Models?\", \"NLP is still largely unexplored when it comes to complicated language such as legal contracts.…\", \"01/04/2021\"]"
      ],
      "execution_count": 52,
      "outputs": []
    },
    {
      "cell_type": "code",
      "metadata": {
        "id": "LszdnVG6U5Y-"
      },
      "source": [
        "final = scraper.build(url, category)"
      ],
      "execution_count": 53,
      "outputs": []
    },
    {
      "cell_type": "code",
      "metadata": {
        "colab": {
          "base_uri": "https://localhost:8080/"
        },
        "id": "2oAm6ycxU8I-",
        "outputId": "939ecd5b-1ccb-459f-ed81-bbfaf5e628b7"
      },
      "source": [
        "len(final)"
      ],
      "execution_count": 54,
      "outputs": [
        {
          "output_type": "execute_result",
          "data": {
            "text/plain": [
              "30"
            ]
          },
          "metadata": {
            "tags": []
          },
          "execution_count": 54
        }
      ]
    },
    {
      "cell_type": "code",
      "metadata": {
        "colab": {
          "base_uri": "https://localhost:8080/"
        },
        "id": "iBwmbucGU-KN",
        "outputId": "1961f2b7-6429-49b2-ba73-f4cf5c2b9c3e"
      },
      "source": [
        "final[:20]"
      ],
      "execution_count": 44,
      "outputs": [
        {
          "output_type": "execute_result",
          "data": {
            "text/plain": [
              "['Explained: CUAD, The Dataset For Legal NLP',\n",
              " 'Guide to Robustness Gym: Unifying the NLP Evaluation Landscape',\n",
              " 'Guide to Sense2vec – Contextually Keyed Word Vectors for NLP',\n",
              " 'How To Use Stanza By Stanford NLP Group (With Python Code)',\n",
              " 'Guide To TAPAS (TAble PArSing) – A Technique To Retrieve Information From Tabular Data Using NLP',\n",
              " 'Why Tech Giants Introduced Their Own Benchmark for NLP',\n",
              " 'Can We Crowdsource Benchmarks For Evaluating NLP Models?',\n",
              " 'Best NLP-based SEO Tools For 2021',\n",
              " 'A Comprehensive Guide To 15 Most Important NLP Datasets',\n",
              " 'Top 7 NLP Trends To Look Forward To In 2021',\n",
              " 'NLP is still largely unexplored when it comes to complicated language such as legal contracts....',\n",
              " 'Once the AI/ML model is built, researchers spend a considerable amount of time to come...',\n",
              " 'Sense2vec is a neural network model that generates vector space representations of words from large corpora. It is an extension of the infamous word2vec algorithm.Sense2vec creates embeddings for ”senses” rather than tokens of words.',\n",
              " 'Stanza is a Python natural language analysis library created by the Stanford NLP group. It...',\n",
              " 'One of the most common forms of data that exists today is tabular data (structured...',\n",
              " 'Recently, 55 researchers from more than 40 research labs and academia (including Intel, Microsoft, Google...',\n",
              " 'Recently, a team of researchers from Allen Institute for AI, University of Washington and Hebrew...',\n",
              " 'One key area that has witnessed a massive revolution with natural language processing (NLP) is...',\n",
              " 'If you are just getting started with NLP or a researcher who is really into...',\n",
              " 'Natural language processing first studied in the 1950s, is one of the most dynamic and...']"
            ]
          },
          "metadata": {
            "tags": []
          },
          "execution_count": 44
        }
      ]
    },
    {
      "cell_type": "code",
      "metadata": {
        "id": "6fxfPFHpU__k"
      },
      "source": [
        "result = scraper.get_result_similar(url, group_by_alias=True)"
      ],
      "execution_count": 55,
      "outputs": []
    },
    {
      "cell_type": "code",
      "metadata": {
        "colab": {
          "base_uri": "https://localhost:8080/"
        },
        "id": "GK5Uw_0tgWfd",
        "outputId": "a1e2ebb3-5835-4db7-c78e-6b4251bc11fd"
      },
      "source": [
        "result"
      ],
      "execution_count": 56,
      "outputs": [
        {
          "output_type": "execute_result",
          "data": {
            "text/plain": [
              "{'': ['Explained: CUAD, The Dataset For Legal NLP',\n",
              "  'NLP is still largely unexplored when it comes to complicated language such as legal contracts....',\n",
              "  '01/04/2021',\n",
              "  'Guide to Robustness Gym: Unifying the NLP Evaluation Landscape',\n",
              "  'Once the AI/ML model is built, researchers spend a considerable amount of time to come...',\n",
              "  '12/03/2021',\n",
              "  'Guide to Sense2vec – Contextually Keyed Word Vectors for NLP',\n",
              "  'Sense2vec is a neural network model that generates vector space representations of words from large corpora. It is an extension of the infamous word2vec algorithm.Sense2vec creates embeddings for ”senses” rather than tokens of words.',\n",
              "  '06/03/2021',\n",
              "  'How To Use Stanza By Stanford NLP Group (With Python Code)',\n",
              "  'Stanza is a Python natural language analysis library created by the Stanford NLP group. It...',\n",
              "  '02/03/2021',\n",
              "  'Guide To TAPAS (TAble PArSing) – A Technique To Retrieve Information From Tabular Data Using NLP',\n",
              "  'One of the most common forms of data that exists today is tabular data (structured...',\n",
              "  '13/02/2021',\n",
              "  'Why Tech Giants Introduced Their Own Benchmark for NLP',\n",
              "  'Recently, 55 researchers from more than 40 research labs and academia (including Intel, Microsoft, Google...',\n",
              "  '09/02/2021',\n",
              "  'Can We Crowdsource Benchmarks For Evaluating NLP Models?',\n",
              "  'Recently, a team of researchers from Allen Institute for AI, University of Washington and Hebrew...',\n",
              "  '25/01/2021',\n",
              "  'Best NLP-based SEO Tools For 2021',\n",
              "  'One key area that has witnessed a massive revolution with natural language processing (NLP) is...',\n",
              "  '06/01/2021',\n",
              "  'A Comprehensive Guide To 15 Most Important NLP Datasets',\n",
              "  'If you are just getting started with NLP or a researcher who is really into...',\n",
              "  '05/01/2021',\n",
              "  'Top 7 NLP Trends To Look Forward To In 2021',\n",
              "  'Natural language processing first studied in the 1950s, is one of the most dynamic and...',\n",
              "  '01/01/2021']}"
            ]
          },
          "metadata": {
            "tags": []
          },
          "execution_count": 56
        }
      ]
    },
    {
      "cell_type": "code",
      "metadata": {
        "colab": {
          "base_uri": "https://localhost:8080/"
        },
        "id": "eh39cIric23H",
        "outputId": "3b21c06b-e076-4b47-8b59-127b1e9b7466"
      },
      "source": [
        "for i in result.items():\n",
        "  print(i)"
      ],
      "execution_count": 57,
      "outputs": [
        {
          "output_type": "stream",
          "text": [
            "('', ['Explained: CUAD, The Dataset For Legal NLP', 'NLP is still largely unexplored when it comes to complicated language such as legal contracts....', '01/04/2021', 'Guide to Robustness Gym: Unifying the NLP Evaluation Landscape', 'Once the AI/ML model is built, researchers spend a considerable amount of time to come...', '12/03/2021', 'Guide to Sense2vec – Contextually Keyed Word Vectors for NLP', 'Sense2vec is a neural network model that generates vector space representations of words from large corpora. It is an extension of the infamous word2vec algorithm.Sense2vec creates embeddings for ”senses” rather than tokens of words.', '06/03/2021', 'How To Use Stanza By Stanford NLP Group (With Python Code)', 'Stanza is a Python natural language analysis library created by the Stanford NLP group. It...', '02/03/2021', 'Guide To TAPAS (TAble PArSing) – A Technique To Retrieve Information From Tabular Data Using NLP', 'One of the most common forms of data that exists today is tabular data (structured...', '13/02/2021', 'Why Tech Giants Introduced Their Own Benchmark for NLP', 'Recently, 55 researchers from more than 40 research labs and academia (including Intel, Microsoft, Google...', '09/02/2021', 'Can We Crowdsource Benchmarks For Evaluating NLP Models?', 'Recently, a team of researchers from Allen Institute for AI, University of Washington and Hebrew...', '25/01/2021', 'Best NLP-based SEO Tools For 2021', 'One key area that has witnessed a massive revolution with natural language processing (NLP) is...', '06/01/2021', 'A Comprehensive Guide To 15 Most Important NLP Datasets', 'If you are just getting started with NLP or a researcher who is really into...', '05/01/2021', 'Top 7 NLP Trends To Look Forward To In 2021', 'Natural language processing first studied in the 1950s, is one of the most dynamic and...', '01/01/2021'])\n"
          ],
          "name": "stdout"
        }
      ]
    },
    {
      "cell_type": "code",
      "metadata": {
        "id": "V41Yrx3Ofx9F"
      },
      "source": [
        "category = [\"Tutorial 11-Exploratory Data Analysis(EDA) of Titanic dataset\"]"
      ],
      "execution_count": 70,
      "outputs": []
    },
    {
      "cell_type": "code",
      "metadata": {
        "id": "DHMy1tYHk-Kz"
      },
      "source": [
        "url = \"https://www.youtube.com/watch?v=dP170R-wO-8\""
      ],
      "execution_count": 71,
      "outputs": []
    },
    {
      "cell_type": "code",
      "metadata": {
        "id": "DGU9lh09jM_P"
      },
      "source": [
        "youtube = scraper.build(url, category)"
      ],
      "execution_count": 72,
      "outputs": []
    },
    {
      "cell_type": "code",
      "metadata": {
        "colab": {
          "base_uri": "https://localhost:8080/"
        },
        "id": "aO_JjEHjjSdb",
        "outputId": "255a6826-dbcf-4e22-e830-6dfaf2a80681"
      },
      "source": [
        "youtube"
      ],
      "execution_count": 73,
      "outputs": [
        {
          "output_type": "execute_result",
          "data": {
            "text/plain": [
              "[]"
            ]
          },
          "metadata": {
            "tags": []
          },
          "execution_count": 73
        }
      ]
    },
    {
      "cell_type": "code",
      "metadata": {
        "id": "BVDnYIl_jfRz"
      },
      "source": [
        ""
      ],
      "execution_count": null,
      "outputs": []
    }
  ]
}