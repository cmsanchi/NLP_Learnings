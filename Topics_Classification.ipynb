{
  "nbformat": 4,
  "nbformat_minor": 0,
  "metadata": {
    "accelerator": "GPU",
    "colab": {
      "name": "Topics_Classification.ipynb",
      "provenance": [],
      "authorship_tag": "ABX9TyMaMSb5YsP4tjHMUcas7ZQg",
      "include_colab_link": true
    },
    "kernelspec": {
      "display_name": "Python 3",
      "name": "python3"
    }
  },
  "cells": [
    {
      "cell_type": "markdown",
      "metadata": {
        "id": "view-in-github",
        "colab_type": "text"
      },
      "source": [
        "<a href=\"https://colab.research.google.com/github/jyotishsanchi/NLP_Learnings/blob/main/Topics_Classification.ipynb\" target=\"_parent\"><img src=\"https://colab.research.google.com/assets/colab-badge.svg\" alt=\"Open In Colab\"/></a>"
      ]
    },
    {
      "cell_type": "code",
      "metadata": {
        "colab": {
          "base_uri": "https://localhost:8080/"
        },
        "id": "JBgQGiwl4hcO",
        "outputId": "c5f5e395-b476-41a1-bb72-7591cc2d2619"
      },
      "source": [
        "from google.colab import drive\n",
        "drive.mount('/content/drive')"
      ],
      "execution_count": 1,
      "outputs": [
        {
          "output_type": "stream",
          "text": [
            "Drive already mounted at /content/drive; to attempt to forcibly remount, call drive.mount(\"/content/drive\", force_remount=True).\n"
          ],
          "name": "stdout"
        }
      ]
    },
    {
      "cell_type": "code",
      "metadata": {
        "id": "3RbFnfbr4oD9"
      },
      "source": [
        "import numpy as np\n",
        "import pandas as pd\n",
        "\n",
        "from sklearn.preprocessing import LabelEncoder\n",
        "from sklearn.model_selection import train_test_split\n",
        "from sklearn.feature_extraction.text import CountVectorizer\n",
        "from sklearn.naive_bayes import MultinomialNB\n",
        "from sklearn.svm import SVC\n",
        "from sklearn.metrics import classification_report, accuracy_score\n",
        "\n",
        "from tensorflow.keras.preprocessing.text import Tokenizer\n",
        "from tensorflow.keras.preprocessing.sequence import pad_sequences\n",
        "\n",
        "from tensorflow.keras.models import load_model\n",
        "from tensorflow.keras.models import Sequential\n",
        "from tensorflow.keras.layers import Embedding, LSTM, Dense, Dropout\n",
        "from tensorflow.keras.callbacks import EarlyStopping, ModelCheckpoint\n",
        "from tensorflow.keras.optimizers import Adam\n",
        "from keras.utils import to_categorical"
      ],
      "execution_count": 2,
      "outputs": []
    },
    {
      "cell_type": "code",
      "metadata": {
        "id": "m5Fjfcic8ol2"
      },
      "source": [
        "import nltk\n",
        "import re\n",
        "from nltk.corpus import stopwords\n",
        "from nltk.stem import WordNetLemmatizer"
      ],
      "execution_count": 3,
      "outputs": []
    },
    {
      "cell_type": "code",
      "metadata": {
        "id": "J9OOwlsq4sLL"
      },
      "source": [
        "import os\n",
        "os.chdir('/content/drive/MyDrive')"
      ],
      "execution_count": 4,
      "outputs": []
    },
    {
      "cell_type": "code",
      "metadata": {
        "colab": {
          "base_uri": "https://localhost:8080/"
        },
        "id": "scSW9oX_89Xp",
        "outputId": "6a750b57-fb36-43e1-f63e-de3115bbe84d"
      },
      "source": [
        "nltk.download('stopwords')"
      ],
      "execution_count": 5,
      "outputs": [
        {
          "output_type": "stream",
          "text": [
            "[nltk_data] Downloading package stopwords to /root/nltk_data...\n",
            "[nltk_data]   Package stopwords is already up-to-date!\n"
          ],
          "name": "stdout"
        },
        {
          "output_type": "execute_result",
          "data": {
            "text/plain": [
              "True"
            ]
          },
          "metadata": {
            "tags": []
          },
          "execution_count": 5
        }
      ]
    },
    {
      "cell_type": "code",
      "metadata": {
        "colab": {
          "base_uri": "https://localhost:8080/"
        },
        "id": "KgMbboF78_xh",
        "outputId": "928f335e-3580-4b50-f10e-dec04a554192"
      },
      "source": [
        "nltk.download('punkt')"
      ],
      "execution_count": 6,
      "outputs": [
        {
          "output_type": "stream",
          "text": [
            "[nltk_data] Downloading package punkt to /root/nltk_data...\n",
            "[nltk_data]   Package punkt is already up-to-date!\n"
          ],
          "name": "stdout"
        },
        {
          "output_type": "execute_result",
          "data": {
            "text/plain": [
              "True"
            ]
          },
          "metadata": {
            "tags": []
          },
          "execution_count": 6
        }
      ]
    },
    {
      "cell_type": "code",
      "metadata": {
        "colab": {
          "base_uri": "https://localhost:8080/"
        },
        "id": "pbJPQxzw9NTJ",
        "outputId": "75520d7a-826f-4702-ef58-b9092c9d5999"
      },
      "source": [
        "nltk.download('wordnet')"
      ],
      "execution_count": 7,
      "outputs": [
        {
          "output_type": "stream",
          "text": [
            "[nltk_data] Downloading package wordnet to /root/nltk_data...\n",
            "[nltk_data]   Package wordnet is already up-to-date!\n"
          ],
          "name": "stdout"
        },
        {
          "output_type": "execute_result",
          "data": {
            "text/plain": [
              "True"
            ]
          },
          "metadata": {
            "tags": []
          },
          "execution_count": 7
        }
      ]
    },
    {
      "cell_type": "code",
      "metadata": {
        "id": "yHteJksP4zj9"
      },
      "source": [
        "df = pd.read_csv('topics.csv')"
      ],
      "execution_count": 8,
      "outputs": []
    },
    {
      "cell_type": "code",
      "metadata": {
        "colab": {
          "base_uri": "https://localhost:8080/",
          "height": 204
        },
        "id": "9kpof2085pDg",
        "outputId": "b82031f5-a108-4d29-a548-7629df3abc05"
      },
      "source": [
        "df.head()"
      ],
      "execution_count": 9,
      "outputs": [
        {
          "output_type": "execute_result",
          "data": {
            "text/html": [
              "<div>\n",
              "<style scoped>\n",
              "    .dataframe tbody tr th:only-of-type {\n",
              "        vertical-align: middle;\n",
              "    }\n",
              "\n",
              "    .dataframe tbody tr th {\n",
              "        vertical-align: top;\n",
              "    }\n",
              "\n",
              "    .dataframe thead th {\n",
              "        text-align: right;\n",
              "    }\n",
              "</style>\n",
              "<table border=\"1\" class=\"dataframe\">\n",
              "  <thead>\n",
              "    <tr style=\"text-align: right;\">\n",
              "      <th></th>\n",
              "      <th>Unnamed: 0</th>\n",
              "      <th>question_text</th>\n",
              "      <th>question_topic</th>\n",
              "    </tr>\n",
              "  </thead>\n",
              "  <tbody>\n",
              "    <tr>\n",
              "      <th>0</th>\n",
              "      <td>0</td>\n",
              "      <td>Hi! If I sign up for your email list, can I se...</td>\n",
              "      <td>Sales/Promotions</td>\n",
              "    </tr>\n",
              "    <tr>\n",
              "      <th>1</th>\n",
              "      <td>1</td>\n",
              "      <td>I'm going to be out of the country for about a...</td>\n",
              "      <td>Shipping</td>\n",
              "    </tr>\n",
              "    <tr>\n",
              "      <th>2</th>\n",
              "      <td>2</td>\n",
              "      <td>I was wondering if you'd be able to overnight ...</td>\n",
              "      <td>Shipping</td>\n",
              "    </tr>\n",
              "    <tr>\n",
              "      <th>3</th>\n",
              "      <td>3</td>\n",
              "      <td>The Swingline electronic stapler (472555) look...</td>\n",
              "      <td>Shipping</td>\n",
              "    </tr>\n",
              "    <tr>\n",
              "      <th>4</th>\n",
              "      <td>4</td>\n",
              "      <td>I think this cosmetic bag would work great for...</td>\n",
              "      <td>Shipping</td>\n",
              "    </tr>\n",
              "  </tbody>\n",
              "</table>\n",
              "</div>"
            ],
            "text/plain": [
              "   Unnamed: 0  ...    question_topic\n",
              "0           0  ...  Sales/Promotions\n",
              "1           1  ...          Shipping\n",
              "2           2  ...          Shipping\n",
              "3           3  ...          Shipping\n",
              "4           4  ...          Shipping\n",
              "\n",
              "[5 rows x 3 columns]"
            ]
          },
          "metadata": {
            "tags": []
          },
          "execution_count": 9
        }
      ]
    },
    {
      "cell_type": "code",
      "metadata": {
        "id": "fVnyAbnp7HyL"
      },
      "source": [
        "df = df.rename(columns={'question_text':'text', 'question_topic': 'topic'})"
      ],
      "execution_count": 10,
      "outputs": []
    },
    {
      "cell_type": "code",
      "metadata": {
        "id": "pjCbZbc_7fpC"
      },
      "source": [
        "df = df.drop('Unnamed: 0', axis=1)"
      ],
      "execution_count": 11,
      "outputs": []
    },
    {
      "cell_type": "code",
      "metadata": {
        "colab": {
          "base_uri": "https://localhost:8080/",
          "height": 204
        },
        "id": "hjhphua07V4Q",
        "outputId": "5e4b5ccd-b5b9-4a03-c4dc-c445be52b1be"
      },
      "source": [
        "df.head()"
      ],
      "execution_count": 12,
      "outputs": [
        {
          "output_type": "execute_result",
          "data": {
            "text/html": [
              "<div>\n",
              "<style scoped>\n",
              "    .dataframe tbody tr th:only-of-type {\n",
              "        vertical-align: middle;\n",
              "    }\n",
              "\n",
              "    .dataframe tbody tr th {\n",
              "        vertical-align: top;\n",
              "    }\n",
              "\n",
              "    .dataframe thead th {\n",
              "        text-align: right;\n",
              "    }\n",
              "</style>\n",
              "<table border=\"1\" class=\"dataframe\">\n",
              "  <thead>\n",
              "    <tr style=\"text-align: right;\">\n",
              "      <th></th>\n",
              "      <th>text</th>\n",
              "      <th>topic</th>\n",
              "    </tr>\n",
              "  </thead>\n",
              "  <tbody>\n",
              "    <tr>\n",
              "      <th>0</th>\n",
              "      <td>Hi! If I sign up for your email list, can I se...</td>\n",
              "      <td>Sales/Promotions</td>\n",
              "    </tr>\n",
              "    <tr>\n",
              "      <th>1</th>\n",
              "      <td>I'm going to be out of the country for about a...</td>\n",
              "      <td>Shipping</td>\n",
              "    </tr>\n",
              "    <tr>\n",
              "      <th>2</th>\n",
              "      <td>I was wondering if you'd be able to overnight ...</td>\n",
              "      <td>Shipping</td>\n",
              "    </tr>\n",
              "    <tr>\n",
              "      <th>3</th>\n",
              "      <td>The Swingline electronic stapler (472555) look...</td>\n",
              "      <td>Shipping</td>\n",
              "    </tr>\n",
              "    <tr>\n",
              "      <th>4</th>\n",
              "      <td>I think this cosmetic bag would work great for...</td>\n",
              "      <td>Shipping</td>\n",
              "    </tr>\n",
              "  </tbody>\n",
              "</table>\n",
              "</div>"
            ],
            "text/plain": [
              "                                                text             topic\n",
              "0  Hi! If I sign up for your email list, can I se...  Sales/Promotions\n",
              "1  I'm going to be out of the country for about a...          Shipping\n",
              "2  I was wondering if you'd be able to overnight ...          Shipping\n",
              "3  The Swingline electronic stapler (472555) look...          Shipping\n",
              "4  I think this cosmetic bag would work great for...          Shipping"
            ]
          },
          "metadata": {
            "tags": []
          },
          "execution_count": 12
        }
      ]
    },
    {
      "cell_type": "code",
      "metadata": {
        "colab": {
          "base_uri": "https://localhost:8080/"
        },
        "id": "5n7nI6lM7XHY",
        "outputId": "e7caefa2-9451-4fb1-dd93-390ef9683771"
      },
      "source": [
        "df['topic'].value_counts()"
      ],
      "execution_count": 13,
      "outputs": [
        {
          "output_type": "execute_result",
          "data": {
            "text/plain": [
              "Product Specifications    839\n",
              "Product Availability      833\n",
              "Product Comparison        806\n",
              "Shipping                  799\n",
              "Returns & Refunds         768\n",
              "Sales/Promotions          505\n",
              "Omnichannel               450\n",
              "Name: topic, dtype: int64"
            ]
          },
          "metadata": {
            "tags": []
          },
          "execution_count": 13
        }
      ]
    },
    {
      "cell_type": "code",
      "metadata": {
        "id": "Bsn8hr857o79"
      },
      "source": [
        "le = LabelEncoder()\n",
        "df['topic'] = le.fit_transform(df['topic'])"
      ],
      "execution_count": 14,
      "outputs": []
    },
    {
      "cell_type": "code",
      "metadata": {
        "colab": {
          "base_uri": "https://localhost:8080/"
        },
        "id": "LrWa3_RA8bQd",
        "outputId": "85b05bec-f0f8-4d54-ed47-ea153b40740e"
      },
      "source": [
        "df['topic'].value_counts()"
      ],
      "execution_count": 15,
      "outputs": [
        {
          "output_type": "execute_result",
          "data": {
            "text/plain": [
              "3    839\n",
              "1    833\n",
              "2    806\n",
              "6    799\n",
              "4    768\n",
              "5    505\n",
              "0    450\n",
              "Name: topic, dtype: int64"
            ]
          },
          "metadata": {
            "tags": []
          },
          "execution_count": 15
        }
      ]
    },
    {
      "cell_type": "code",
      "metadata": {
        "colab": {
          "base_uri": "https://localhost:8080/"
        },
        "id": "ewMd2CMS8ja1",
        "outputId": "8e843fc9-867d-413c-8811-936ae9180f81"
      },
      "source": [
        "df.isnull().sum()"
      ],
      "execution_count": 16,
      "outputs": [
        {
          "output_type": "execute_result",
          "data": {
            "text/plain": [
              "text     0\n",
              "topic    0\n",
              "dtype: int64"
            ]
          },
          "metadata": {
            "tags": []
          },
          "execution_count": 16
        }
      ]
    },
    {
      "cell_type": "code",
      "metadata": {
        "id": "rR0YJJr29Y6_"
      },
      "source": [
        ""
      ],
      "execution_count": 16,
      "outputs": []
    },
    {
      "cell_type": "markdown",
      "metadata": {
        "id": "Va9RQfBB9bqJ"
      },
      "source": [
        "### Process text"
      ]
    },
    {
      "cell_type": "code",
      "metadata": {
        "id": "UPQWQ3f8-j5c"
      },
      "source": [
        "lemmatizer = WordNetLemmatizer() "
      ],
      "execution_count": 17,
      "outputs": []
    },
    {
      "cell_type": "code",
      "metadata": {
        "id": "eGp3waHT-Azt"
      },
      "source": [
        "stopwords = set(stopwords.words('english'))"
      ],
      "execution_count": 18,
      "outputs": []
    },
    {
      "cell_type": "code",
      "metadata": {
        "colab": {
          "base_uri": "https://localhost:8080/",
          "height": 35
        },
        "id": "B_jIGMgv9dHO",
        "outputId": "80a8beae-d564-48a4-cc34-3ce2403d2da8"
      },
      "source": [
        "import string\n",
        "string.punctuation"
      ],
      "execution_count": 19,
      "outputs": [
        {
          "output_type": "execute_result",
          "data": {
            "application/vnd.google.colaboratory.intrinsic+json": {
              "type": "string"
            },
            "text/plain": [
              "'!\"#$%&\\'()*+,-./:;<=>?@[\\\\]^_`{|}~'"
            ]
          },
          "metadata": {
            "tags": []
          },
          "execution_count": 19
        }
      ]
    },
    {
      "cell_type": "code",
      "metadata": {
        "id": "2R3bYyb-9lTM"
      },
      "source": [
        "def preprocess_text(df, column_name=''):\n",
        "  # Remove punctuations\n",
        "  df[column_name] = df[column_name].apply(lambda x: ' '.join([word for word in x.split() if word not in string.punctuation]))\n",
        "\n",
        "  # Select only alphabets\n",
        "  df[column_name] = df[column_name].apply(lambda x: re.sub('[^A-Za-z0-9]+', ' ', x))\n",
        "\n",
        "  # Convert text to lowercase\n",
        "  df[column_name] = df[column_name].apply(lambda x: x.lower())\n",
        "\n",
        "  # Strip unwanted spaces\n",
        "  df[column_name] = df[column_name].apply(lambda x: x.strip())\n",
        "\n",
        "  # Remove stopwords\n",
        "  df[column_name] = df[column_name].apply(lambda x: ' '.join([lemmatizer.lemmatize(word) for word in x.split() if word not in stopwords]))\n",
        "\n",
        "  # Replace empty strings with Null\n",
        "  df[column_name].replace('', np.nan, inplace = True)\n",
        "\n",
        "  # Drop Null values\n",
        "  df = df.dropna()\n",
        "\n",
        "  return df"
      ],
      "execution_count": 20,
      "outputs": []
    },
    {
      "cell_type": "code",
      "metadata": {
        "id": "USHclFne9zG-"
      },
      "source": [
        "df = preprocess_text(df, column_name='text')"
      ],
      "execution_count": 21,
      "outputs": []
    },
    {
      "cell_type": "code",
      "metadata": {
        "colab": {
          "base_uri": "https://localhost:8080/",
          "height": 204
        },
        "id": "RnmHSEcx_KcX",
        "outputId": "71ddd8d1-e517-4c32-9ec9-9ba9153ccac2"
      },
      "source": [
        "df.head()"
      ],
      "execution_count": 22,
      "outputs": [
        {
          "output_type": "execute_result",
          "data": {
            "text/html": [
              "<div>\n",
              "<style scoped>\n",
              "    .dataframe tbody tr th:only-of-type {\n",
              "        vertical-align: middle;\n",
              "    }\n",
              "\n",
              "    .dataframe tbody tr th {\n",
              "        vertical-align: top;\n",
              "    }\n",
              "\n",
              "    .dataframe thead th {\n",
              "        text-align: right;\n",
              "    }\n",
              "</style>\n",
              "<table border=\"1\" class=\"dataframe\">\n",
              "  <thead>\n",
              "    <tr style=\"text-align: right;\">\n",
              "      <th></th>\n",
              "      <th>text</th>\n",
              "      <th>topic</th>\n",
              "    </tr>\n",
              "  </thead>\n",
              "  <tbody>\n",
              "    <tr>\n",
              "      <th>0</th>\n",
              "      <td>hi sign email list select get email exclusivel...</td>\n",
              "      <td>5</td>\n",
              "    </tr>\n",
              "    <tr>\n",
              "      <th>1</th>\n",
              "      <td>going country week travel going getting animal...</td>\n",
              "      <td>6</td>\n",
              "    </tr>\n",
              "    <tr>\n",
              "      <th>2</th>\n",
              "      <td>wondering able overnight jacket item 5220032 t...</td>\n",
              "      <td>6</td>\n",
              "    </tr>\n",
              "    <tr>\n",
              "      <th>3</th>\n",
              "      <td>swingline electronic stapler 472555 look reall...</td>\n",
              "      <td>6</td>\n",
              "    </tr>\n",
              "    <tr>\n",
              "      <th>4</th>\n",
              "      <td>think cosmetic bag would work great however kn...</td>\n",
              "      <td>6</td>\n",
              "    </tr>\n",
              "  </tbody>\n",
              "</table>\n",
              "</div>"
            ],
            "text/plain": [
              "                                                text  topic\n",
              "0  hi sign email list select get email exclusivel...      5\n",
              "1  going country week travel going getting animal...      6\n",
              "2  wondering able overnight jacket item 5220032 t...      6\n",
              "3  swingline electronic stapler 472555 look reall...      6\n",
              "4  think cosmetic bag would work great however kn...      6"
            ]
          },
          "metadata": {
            "tags": []
          },
          "execution_count": 22
        }
      ]
    },
    {
      "cell_type": "code",
      "metadata": {
        "colab": {
          "base_uri": "https://localhost:8080/"
        },
        "id": "HBPwkCR2BrdP",
        "outputId": "f55cc5d0-275f-435c-ad35-ec2a84a2a5d0"
      },
      "source": [
        "type(df['text'][0])"
      ],
      "execution_count": 23,
      "outputs": [
        {
          "output_type": "execute_result",
          "data": {
            "text/plain": [
              "str"
            ]
          },
          "metadata": {
            "tags": []
          },
          "execution_count": 23
        }
      ]
    },
    {
      "cell_type": "code",
      "metadata": {
        "id": "tsq1_cdW_LXU"
      },
      "source": [
        "X = df.text\n",
        "y = df.topic"
      ],
      "execution_count": 24,
      "outputs": []
    },
    {
      "cell_type": "code",
      "metadata": {
        "id": "Td4AV8V0ALtB"
      },
      "source": [
        "cv = CountVectorizer(max_features=10000)\n",
        "Xx = cv.fit_transform(X).toarray()"
      ],
      "execution_count": 25,
      "outputs": []
    },
    {
      "cell_type": "code",
      "metadata": {
        "id": "8dZWjZ42A6VT"
      },
      "source": [
        "X_train_sl, X_test_sl, y_train_sl, y_test_sl = train_test_split(Xx, y, test_size = 0.3, random_state=42)"
      ],
      "execution_count": 26,
      "outputs": []
    },
    {
      "cell_type": "code",
      "metadata": {
        "id": "hKYvBY6fA8lq"
      },
      "source": [
        "svm = SVC().fit(X_train_sl, y_train_sl)\n",
        "\n",
        "y_pred_svm=svm.predict(X_test_sl)"
      ],
      "execution_count": 27,
      "outputs": []
    },
    {
      "cell_type": "code",
      "metadata": {
        "id": "_1Y9lUdOBEvT",
        "colab": {
          "base_uri": "https://localhost:8080/"
        },
        "outputId": "1a00f2e5-6034-446a-e4a2-20350d9a8c67"
      },
      "source": [
        "print(classification_report(y_test_sl, y_pred_svm))"
      ],
      "execution_count": 28,
      "outputs": [
        {
          "output_type": "stream",
          "text": [
            "              precision    recall  f1-score   support\n",
            "\n",
            "           0       1.00      0.98      0.99       131\n",
            "           1       0.91      0.94      0.92       236\n",
            "           2       0.90      0.96      0.93       247\n",
            "           3       0.94      0.92      0.93       253\n",
            "           4       1.00      1.00      1.00       248\n",
            "           5       1.00      0.92      0.96       152\n",
            "           6       1.00      1.00      1.00       233\n",
            "\n",
            "    accuracy                           0.96      1500\n",
            "   macro avg       0.96      0.96      0.96      1500\n",
            "weighted avg       0.96      0.96      0.96      1500\n",
            "\n"
          ],
          "name": "stdout"
        }
      ]
    },
    {
      "cell_type": "code",
      "metadata": {
        "id": "GTZAMWbyBQAP"
      },
      "source": [
        "NB = MultinomialNB().fit(X_train_sl, y_train_sl)\n",
        "y_pred_nb=NB.predict(X_test_sl)"
      ],
      "execution_count": 29,
      "outputs": []
    },
    {
      "cell_type": "code",
      "metadata": {
        "id": "y9oeoRzpBbMw",
        "colab": {
          "base_uri": "https://localhost:8080/"
        },
        "outputId": "53395203-28e6-4f65-de9e-248080e65a65"
      },
      "source": [
        "print(classification_report(y_test_sl, y_pred_nb))"
      ],
      "execution_count": 30,
      "outputs": [
        {
          "output_type": "stream",
          "text": [
            "              precision    recall  f1-score   support\n",
            "\n",
            "           0       0.98      0.98      0.98       131\n",
            "           1       0.88      0.90      0.89       236\n",
            "           2       0.83      0.85      0.84       247\n",
            "           3       0.88      0.81      0.84       253\n",
            "           4       0.98      0.99      0.98       248\n",
            "           5       0.95      0.97      0.96       152\n",
            "           6       0.99      1.00      0.99       233\n",
            "\n",
            "    accuracy                           0.92      1500\n",
            "   macro avg       0.93      0.93      0.93      1500\n",
            "weighted avg       0.92      0.92      0.92      1500\n",
            "\n"
          ],
          "name": "stdout"
        }
      ]
    },
    {
      "cell_type": "markdown",
      "metadata": {
        "id": "sD4SqnP0XKRU"
      },
      "source": [
        "### Deep Learning"
      ]
    },
    {
      "cell_type": "code",
      "metadata": {
        "id": "gdPlu3d8Ejof"
      },
      "source": [
        "df['length'] = df['text'].apply(lambda x: len(x))"
      ],
      "execution_count": 31,
      "outputs": []
    },
    {
      "cell_type": "code",
      "metadata": {
        "id": "rdZbSSS4El-u",
        "colab": {
          "base_uri": "https://localhost:8080/"
        },
        "outputId": "f66b451c-590d-4581-9e7c-45e5bf3810ed"
      },
      "source": [
        "df['length'].describe()"
      ],
      "execution_count": 32,
      "outputs": [
        {
          "output_type": "execute_result",
          "data": {
            "text/plain": [
              "count    5000.000000\n",
              "mean       97.544200\n",
              "std        43.622538\n",
              "min        14.000000\n",
              "25%        66.000000\n",
              "50%        92.000000\n",
              "75%       124.000000\n",
              "max       327.000000\n",
              "Name: length, dtype: float64"
            ]
          },
          "metadata": {
            "tags": []
          },
          "execution_count": 32
        }
      ]
    },
    {
      "cell_type": "code",
      "metadata": {
        "colab": {
          "base_uri": "https://localhost:8080/",
          "height": 282
        },
        "id": "JeebCiW8Zet0",
        "outputId": "0e98fb20-3028-4b79-aad9-56274f7fe296"
      },
      "source": [
        "df['length'].hist()"
      ],
      "execution_count": 33,
      "outputs": [
        {
          "output_type": "execute_result",
          "data": {
            "text/plain": [
              "<matplotlib.axes._subplots.AxesSubplot at 0x7f76d4566b70>"
            ]
          },
          "metadata": {
            "tags": []
          },
          "execution_count": 33
        },
        {
          "output_type": "display_data",
          "data": {
            "image/png": "[encoded data removed]",
            "text/plain": [
              "<Figure size 432x288 with 1 Axes>"
            ]
          },
          "metadata": {
            "tags": [],
            "needs_background": "light"
          }
        }
      ]
    },
    {
      "cell_type": "code",
      "metadata": {
        "id": "14TFyQNrEoKB",
        "colab": {
          "base_uri": "https://localhost:8080/",
          "height": 111
        },
        "outputId": "59ba37bd-ec62-4da1-9ece-1ce9cbd3825e"
      },
      "source": [
        "df[df['length'] > 300]"
      ],
      "execution_count": 34,
      "outputs": [
        {
          "output_type": "execute_result",
          "data": {
            "text/html": [
              "<div>\n",
              "<style scoped>\n",
              "    .dataframe tbody tr th:only-of-type {\n",
              "        vertical-align: middle;\n",
              "    }\n",
              "\n",
              "    .dataframe tbody tr th {\n",
              "        vertical-align: top;\n",
              "    }\n",
              "\n",
              "    .dataframe thead th {\n",
              "        text-align: right;\n",
              "    }\n",
              "</style>\n",
              "<table border=\"1\" class=\"dataframe\">\n",
              "  <thead>\n",
              "    <tr style=\"text-align: right;\">\n",
              "      <th></th>\n",
              "      <th>text</th>\n",
              "      <th>topic</th>\n",
              "      <th>length</th>\n",
              "    </tr>\n",
              "  </thead>\n",
              "  <tbody>\n",
              "    <tr>\n",
              "      <th>3624</th>\n",
              "      <td>either foundation http www lancome usa com mak...</td>\n",
              "      <td>2</td>\n",
              "      <td>327</td>\n",
              "    </tr>\n",
              "    <tr>\n",
              "      <th>3790</th>\n",
              "      <td>either 1byone 400ml mini thermo electric air d...</td>\n",
              "      <td>3</td>\n",
              "      <td>307</td>\n",
              "    </tr>\n",
              "  </tbody>\n",
              "</table>\n",
              "</div>"
            ],
            "text/plain": [
              "                                                   text  topic  length\n",
              "3624  either foundation http www lancome usa com mak...      2     327\n",
              "3790  either 1byone 400ml mini thermo electric air d...      3     307"
            ]
          },
          "metadata": {
            "tags": []
          },
          "execution_count": 34
        }
      ]
    },
    {
      "cell_type": "code",
      "metadata": {
        "id": "Kis9wQzzaFMB"
      },
      "source": [
        "df = df.sample(frac = 1) "
      ],
      "execution_count": 35,
      "outputs": []
    },
    {
      "cell_type": "code",
      "metadata": {
        "id": "J9eKjx7_aknX"
      },
      "source": [
        "import sklearn"
      ],
      "execution_count": 36,
      "outputs": []
    },
    {
      "cell_type": "code",
      "metadata": {
        "id": "9FUymQmvah0x"
      },
      "source": [
        "df = sklearn.utils.shuffle(df)"
      ],
      "execution_count": 37,
      "outputs": []
    },
    {
      "cell_type": "code",
      "metadata": {
        "colab": {
          "base_uri": "https://localhost:8080/",
          "height": 282
        },
        "id": "lknRW9RYaIFW",
        "outputId": "11b5c28a-1449-4833-9ffd-2a76081a4a42"
      },
      "source": [
        "df['length'].hist()"
      ],
      "execution_count": 38,
      "outputs": [
        {
          "output_type": "execute_result",
          "data": {
            "text/plain": [
              "<matplotlib.axes._subplots.AxesSubplot at 0x7f76cc88e358>"
            ]
          },
          "metadata": {
            "tags": []
          },
          "execution_count": 38
        },
        {
          "output_type": "display_data",
          "data": {
            "image/png": "[encoded data removed]",
            "text/plain": [
              "<Figure size 432x288 with 1 Axes>"
            ]
          },
          "metadata": {
            "tags": [],
            "needs_background": "light"
          }
        }
      ]
    },
    {
      "cell_type": "code",
      "metadata": {
        "id": "5YhM3sr-EtKw"
      },
      "source": [
        "X = df.text\n",
        "y = df.topic"
      ],
      "execution_count": 39,
      "outputs": []
    },
    {
      "cell_type": "code",
      "metadata": {
        "id": "PCZe4Vy4Ip9K"
      },
      "source": [
        "y = to_categorical(y, num_classes=7)"
      ],
      "execution_count": 40,
      "outputs": []
    },
    {
      "cell_type": "code",
      "metadata": {
        "id": "ZShR7vJsF1yn"
      },
      "source": [
        "X_train, X_test, y_train, y_test = train_test_split(X, y, test_size = 0.3, random_state=42)"
      ],
      "execution_count": 41,
      "outputs": []
    },
    {
      "cell_type": "code",
      "metadata": {
        "id": "NnrQclZaF5fn",
        "colab": {
          "base_uri": "https://localhost:8080/"
        },
        "outputId": "1d913ebf-41f8-4449-bea4-1495e09bc9ab"
      },
      "source": [
        "print(X_train.shape)\n",
        "print(X_test.shape)\n",
        "print(y_train.shape)\n",
        "print(y_test.shape)"
      ],
      "execution_count": 42,
      "outputs": [
        {
          "output_type": "stream",
          "text": [
            "(3500,)\n",
            "(1500,)\n",
            "(3500, 7)\n",
            "(1500, 7)\n"
          ],
          "name": "stdout"
        }
      ]
    },
    {
      "cell_type": "code",
      "metadata": {
        "id": "1wLUHC1vF8Hv",
        "colab": {
          "base_uri": "https://localhost:8080/"
        },
        "outputId": "dbd50a32-68e1-48ef-b919-6f8d6c2652c1"
      },
      "source": [
        "type(X_train)"
      ],
      "execution_count": 46,
      "outputs": [
        {
          "output_type": "execute_result",
          "data": {
            "text/plain": [
              "pandas.core.series.Series"
            ]
          },
          "metadata": {
            "tags": []
          },
          "execution_count": 46
        }
      ]
    },
    {
      "cell_type": "code",
      "metadata": {
        "colab": {
          "base_uri": "https://localhost:8080/"
        },
        "id": "S1jfYJ-Uar-F",
        "outputId": "763b9de8-7130-4d89-ad7a-4e640dcc1831"
      },
      "source": [
        "X_train[1:2]"
      ],
      "execution_count": 47,
      "outputs": [
        {
          "output_type": "execute_result",
          "data": {
            "text/plain": [
              "495    laptop better screen resolution lenovo ideapad...\n",
              "Name: text, dtype: object"
            ]
          },
          "metadata": {
            "tags": []
          },
          "execution_count": 47
        }
      ]
    },
    {
      "cell_type": "code",
      "metadata": {
        "id": "Jpoj07uLF-tX"
      },
      "source": [
        "vocab_size = 10000\n",
        "max_len = 300\n",
        "trunc_type = \"post\" \n",
        "padding_type = \"post\""
      ],
      "execution_count": 48,
      "outputs": []
    },
    {
      "cell_type": "code",
      "metadata": {
        "id": "DVZDlOa-GEbc",
        "colab": {
          "base_uri": "https://localhost:8080/"
        },
        "outputId": "4e467812-458f-4c78-ee7c-2e2e2848c17e"
      },
      "source": [
        "feature_tokenizer = Tokenizer(num_words=vocab_size)\n",
        "feature_tokenizer.fit_on_texts(X_train)\n",
        "\n",
        "X_train = feature_tokenizer.texts_to_sequences(X_train)\n",
        "X_train_padding = pad_sequences (X_train, maxlen = max_len, padding = padding_type, truncating = trunc_type )\n",
        "\n",
        "X_test = feature_tokenizer.texts_to_sequences(X_test)\n",
        "X_test_padding = pad_sequences (X_test, maxlen = max_len, padding = padding_type, truncating = trunc_type )\n",
        "\n",
        "print(\"Number of Samples in X_train:\", len(X_train))       \n",
        "print(X_train[0])\n",
        "print(X_train_padding[0])"
      ],
      "execution_count": 49,
      "outputs": [
        {
          "output_type": "stream",
          "text": [
            "Number of Samples in X_train: 3500\n",
            "[1209, 665, 361, 33, 2739, 2740, 145, 2741, 1918]\n",
            "[1209  665  361   33 2739 2740  145 2741 1918    0    0    0    0    0\n",
            "    0    0    0    0    0    0    0    0    0    0    0    0    0    0\n",
            "    0    0    0    0    0    0    0    0    0    0    0    0    0    0\n",
            "    0    0    0    0    0    0    0    0    0    0    0    0    0    0\n",
            "    0    0    0    0    0    0    0    0    0    0    0    0    0    0\n",
            "    0    0    0    0    0    0    0    0    0    0    0    0    0    0\n",
            "    0    0    0    0    0    0    0    0    0    0    0    0    0    0\n",
            "    0    0    0    0    0    0    0    0    0    0    0    0    0    0\n",
            "    0    0    0    0    0    0    0    0    0    0    0    0    0    0\n",
            "    0    0    0    0    0    0    0    0    0    0    0    0    0    0\n",
            "    0    0    0    0    0    0    0    0    0    0    0    0    0    0\n",
            "    0    0    0    0    0    0    0    0    0    0    0    0    0    0\n",
            "    0    0    0    0    0    0    0    0    0    0    0    0    0    0\n",
            "    0    0    0    0    0    0    0    0    0    0    0    0    0    0\n",
            "    0    0    0    0    0    0    0    0    0    0    0    0    0    0\n",
            "    0    0    0    0    0    0    0    0    0    0    0    0    0    0\n",
            "    0    0    0    0    0    0    0    0    0    0    0    0    0    0\n",
            "    0    0    0    0    0    0    0    0    0    0    0    0    0    0\n",
            "    0    0    0    0    0    0    0    0    0    0    0    0    0    0\n",
            "    0    0    0    0    0    0    0    0    0    0    0    0    0    0\n",
            "    0    0    0    0    0    0    0    0    0    0    0    0    0    0\n",
            "    0    0    0    0    0    0]\n"
          ],
          "name": "stdout"
        }
      ]
    },
    {
      "cell_type": "code",
      "metadata": {
        "id": "zHTLWjFoQ4R-",
        "colab": {
          "base_uri": "https://localhost:8080/"
        },
        "outputId": "7a11eabb-bc8d-4e33-c4df-79428b896a67"
      },
      "source": [
        "print(X_train_padding.shape)\n",
        "print(X_test_padding.shape)"
      ],
      "execution_count": 50,
      "outputs": [
        {
          "output_type": "stream",
          "text": [
            "(3500, 300)\n",
            "(1500, 300)\n"
          ],
          "name": "stdout"
        }
      ]
    },
    {
      "cell_type": "code",
      "metadata": {
        "id": "byJemyFUGI5c"
      },
      "source": [
        "#LSTM hyperparameters\n",
        "n_lstm = 16\n",
        "drop_lstm = 0.2\n",
        "embeding_dim = 300"
      ],
      "execution_count": 57,
      "outputs": []
    },
    {
      "cell_type": "code",
      "metadata": {
        "id": "7KtFEnQ3Yt9g"
      },
      "source": [
        "from tensorflow.keras.layers import BatchNormalization, Bidirectional, Flatten"
      ],
      "execution_count": 73,
      "outputs": []
    },
    {
      "cell_type": "code",
      "metadata": {
        "id": "xGivhqcZGhpk"
      },
      "source": [
        "model1 = Sequential()\n",
        "model1.add(Embedding(vocab_size, embeding_dim, input_length=max_len))\n",
        "model1.add(Bidirectional(LSTM(256, return_sequences = True)))\n",
        "model1.add(Bidirectional(LSTM(128, return_sequences = False)))\n",
        "model1.add(Dense(512, activation='relu'))\n",
        "model1.add(Dense(256, activation = 'relu'))\n",
        "model1.add(Dense(128, activation = 'relu'))\n",
        "model1.add(Dense(64, activation= 'relu'))\n",
        "model1.add(Dropout(0.5))\n",
        "model1.add(Dense(7, activation=\"softmax\"))"
      ],
      "execution_count": 88,
      "outputs": []
    },
    {
      "cell_type": "code",
      "metadata": {
        "id": "-VNNQGbgGqNa"
      },
      "source": [
        "model1.compile(loss = 'categorical_crossentropy', optimizer = 'adam', metrics=['accuracy'])"
      ],
      "execution_count": 89,
      "outputs": []
    },
    {
      "cell_type": "code",
      "metadata": {
        "id": "lTTmkbf3HGki"
      },
      "source": [
        "# simple early stopping\n",
        "es = EarlyStopping(monitor='val_loss', mode='min', verbose=1, patience=10, min_delta=0.01)\n",
        "mc = ModelCheckpoint('best_model1.h5', monitor='val_accuracy', mode='max', verbose=1, save_best_only=True)"
      ],
      "execution_count": 90,
      "outputs": []
    },
    {
      "cell_type": "code",
      "metadata": {
        "colab": {
          "base_uri": "https://localhost:8080/"
        },
        "id": "5blJp5X-HKJn",
        "outputId": "c3a14d66-ce89-4b11-ef4d-130de86cba95"
      },
      "source": [
        "batch_size = 256\n",
        "epochs = 30\n",
        "\n",
        "model1_history = model1.fit(X_train_padding,  y_train, \n",
        "                            batch_size=batch_size, epochs=epochs, \n",
        "                            validation_data=(X_test_padding, y_test),\n",
        "                            callbacks=[es, mc])"
      ],
      "execution_count": 91,
      "outputs": [
        {
          "output_type": "stream",
          "text": [
            "Epoch 1/30\n",
            "14/14 [==============================] - ETA: 0s - loss: 1.8443 - accuracy: 0.2457\n",
            "Epoch 00001: val_accuracy improved from -inf to 0.33600, saving model to best_model1.h5\n",
            "14/14 [==============================] - 9s 624ms/step - loss: 1.8443 - accuracy: 0.2457 - val_loss: 1.6099 - val_accuracy: 0.3360\n",
            "Epoch 2/30\n",
            "14/14 [==============================] - ETA: 0s - loss: 1.4420 - accuracy: 0.3949\n",
            "Epoch 00002: val_accuracy improved from 0.33600 to 0.49267, saving model to best_model1.h5\n",
            "14/14 [==============================] - 7s 521ms/step - loss: 1.4420 - accuracy: 0.3949 - val_loss: 1.2679 - val_accuracy: 0.4927\n",
            "Epoch 3/30\n",
            "14/14 [==============================] - ETA: 0s - loss: 1.1786 - accuracy: 0.4651\n",
            "Epoch 00003: val_accuracy improved from 0.49267 to 0.50333, saving model to best_model1.h5\n",
            "14/14 [==============================] - 7s 519ms/step - loss: 1.1786 - accuracy: 0.4651 - val_loss: 1.0539 - val_accuracy: 0.5033\n",
            "Epoch 4/30\n",
            "14/14 [==============================] - ETA: 0s - loss: 0.9149 - accuracy: 0.5909\n",
            "Epoch 00004: val_accuracy improved from 0.50333 to 0.67600, saving model to best_model1.h5\n",
            "14/14 [==============================] - 7s 519ms/step - loss: 0.9149 - accuracy: 0.5909 - val_loss: 0.9062 - val_accuracy: 0.6760\n",
            "Epoch 5/30\n",
            "14/14 [==============================] - ETA: 0s - loss: 0.6684 - accuracy: 0.7414\n",
            "Epoch 00005: val_accuracy improved from 0.67600 to 0.70867, saving model to best_model1.h5\n",
            "14/14 [==============================] - 7s 524ms/step - loss: 0.6684 - accuracy: 0.7414 - val_loss: 0.8122 - val_accuracy: 0.7087\n",
            "Epoch 6/30\n",
            "14/14 [==============================] - ETA: 0s - loss: 0.4902 - accuracy: 0.7989\n",
            "Epoch 00006: val_accuracy improved from 0.70867 to 0.73933, saving model to best_model1.h5\n",
            "14/14 [==============================] - 7s 528ms/step - loss: 0.4902 - accuracy: 0.7989 - val_loss: 0.8281 - val_accuracy: 0.7393\n",
            "Epoch 7/30\n",
            "14/14 [==============================] - ETA: 0s - loss: 0.3546 - accuracy: 0.8569\n",
            "Epoch 00007: val_accuracy improved from 0.73933 to 0.78133, saving model to best_model1.h5\n",
            "14/14 [==============================] - 7s 528ms/step - loss: 0.3546 - accuracy: 0.8569 - val_loss: 0.8110 - val_accuracy: 0.7813\n",
            "Epoch 8/30\n",
            "14/14 [==============================] - ETA: 0s - loss: 0.2714 - accuracy: 0.8837\n",
            "Epoch 00008: val_accuracy improved from 0.78133 to 0.84333, saving model to best_model1.h5\n",
            "14/14 [==============================] - 7s 532ms/step - loss: 0.2714 - accuracy: 0.8837 - val_loss: 0.7197 - val_accuracy: 0.8433\n",
            "Epoch 9/30\n",
            "14/14 [==============================] - ETA: 0s - loss: 0.1608 - accuracy: 0.9523\n",
            "Epoch 00009: val_accuracy improved from 0.84333 to 0.88400, saving model to best_model1.h5\n",
            "14/14 [==============================] - 7s 526ms/step - loss: 0.1608 - accuracy: 0.9523 - val_loss: 0.6747 - val_accuracy: 0.8840\n",
            "Epoch 10/30\n",
            "14/14 [==============================] - ETA: 0s - loss: 0.1040 - accuracy: 0.9697\n",
            "Epoch 00010: val_accuracy did not improve from 0.88400\n",
            "14/14 [==============================] - 7s 515ms/step - loss: 0.1040 - accuracy: 0.9697 - val_loss: 0.8013 - val_accuracy: 0.8727\n",
            "Epoch 11/30\n",
            "14/14 [==============================] - ETA: 0s - loss: 0.0748 - accuracy: 0.9800\n",
            "Epoch 00011: val_accuracy did not improve from 0.88400\n",
            "14/14 [==============================] - 7s 514ms/step - loss: 0.0748 - accuracy: 0.9800 - val_loss: 0.8861 - val_accuracy: 0.8793\n",
            "Epoch 12/30\n",
            "14/14 [==============================] - ETA: 0s - loss: 0.0792 - accuracy: 0.9817\n",
            "Epoch 00012: val_accuracy did not improve from 0.88400\n",
            "14/14 [==============================] - 7s 516ms/step - loss: 0.0792 - accuracy: 0.9817 - val_loss: 0.8186 - val_accuracy: 0.8827\n",
            "Epoch 13/30\n",
            "14/14 [==============================] - ETA: 0s - loss: 0.0917 - accuracy: 0.9814\n",
            "Epoch 00013: val_accuracy improved from 0.88400 to 0.88800, saving model to best_model1.h5\n",
            "14/14 [==============================] - 8s 575ms/step - loss: 0.0917 - accuracy: 0.9814 - val_loss: 0.7457 - val_accuracy: 0.8880\n",
            "Epoch 14/30\n",
            "14/14 [==============================] - ETA: 0s - loss: 0.0770 - accuracy: 0.9834\n",
            "Epoch 00014: val_accuracy did not improve from 0.88800\n",
            "14/14 [==============================] - 7s 519ms/step - loss: 0.0770 - accuracy: 0.9834 - val_loss: 0.8410 - val_accuracy: 0.8693\n",
            "Epoch 15/30\n",
            "14/14 [==============================] - ETA: 0s - loss: 0.0802 - accuracy: 0.9786\n",
            "Epoch 00015: val_accuracy did not improve from 0.88800\n",
            "14/14 [==============================] - 7s 516ms/step - loss: 0.0802 - accuracy: 0.9786 - val_loss: 1.0610 - val_accuracy: 0.8587\n",
            "Epoch 16/30\n",
            "14/14 [==============================] - ETA: 0s - loss: 0.0514 - accuracy: 0.9834\n",
            "Epoch 00016: val_accuracy improved from 0.88800 to 0.89000, saving model to best_model1.h5\n",
            "14/14 [==============================] - 8s 577ms/step - loss: 0.0514 - accuracy: 0.9834 - val_loss: 0.8422 - val_accuracy: 0.8900\n",
            "Epoch 17/30\n",
            "14/14 [==============================] - ETA: 0s - loss: 0.0984 - accuracy: 0.9817\n",
            "Epoch 00017: val_accuracy did not improve from 0.89000\n",
            "14/14 [==============================] - 7s 521ms/step - loss: 0.0984 - accuracy: 0.9817 - val_loss: 0.8164 - val_accuracy: 0.8787\n",
            "Epoch 18/30\n",
            "14/14 [==============================] - ETA: 0s - loss: 0.0535 - accuracy: 0.9894\n",
            "Epoch 00018: val_accuracy improved from 0.89000 to 0.90600, saving model to best_model1.h5\n",
            "14/14 [==============================] - 8s 567ms/step - loss: 0.0535 - accuracy: 0.9894 - val_loss: 0.6568 - val_accuracy: 0.9060\n",
            "Epoch 19/30\n",
            "14/14 [==============================] - ETA: 0s - loss: 0.0391 - accuracy: 0.9900\n",
            "Epoch 00019: val_accuracy did not improve from 0.90600\n",
            "14/14 [==============================] - 7s 520ms/step - loss: 0.0391 - accuracy: 0.9900 - val_loss: 0.6667 - val_accuracy: 0.9053\n",
            "Epoch 20/30\n",
            "14/14 [==============================] - ETA: 0s - loss: 0.0398 - accuracy: 0.9883\n",
            "Epoch 00020: val_accuracy did not improve from 0.90600\n",
            "14/14 [==============================] - 7s 521ms/step - loss: 0.0398 - accuracy: 0.9883 - val_loss: 0.9076 - val_accuracy: 0.8900\n",
            "Epoch 21/30\n",
            "14/14 [==============================] - ETA: 0s - loss: 0.0486 - accuracy: 0.9891\n",
            "Epoch 00021: val_accuracy did not improve from 0.90600\n",
            "14/14 [==============================] - 7s 524ms/step - loss: 0.0486 - accuracy: 0.9891 - val_loss: 1.1042 - val_accuracy: 0.8707\n",
            "Epoch 22/30\n",
            "14/14 [==============================] - ETA: 0s - loss: 0.0406 - accuracy: 0.9900\n",
            "Epoch 00022: val_accuracy did not improve from 0.90600\n",
            "14/14 [==============================] - 7s 521ms/step - loss: 0.0406 - accuracy: 0.9900 - val_loss: 0.6629 - val_accuracy: 0.8947\n",
            "Epoch 23/30\n",
            "14/14 [==============================] - ETA: 0s - loss: 0.0386 - accuracy: 0.9909\n",
            "Epoch 00023: val_accuracy did not improve from 0.90600\n",
            "14/14 [==============================] - 7s 515ms/step - loss: 0.0386 - accuracy: 0.9909 - val_loss: 0.7546 - val_accuracy: 0.9040\n",
            "Epoch 24/30\n",
            "14/14 [==============================] - ETA: 0s - loss: 0.0321 - accuracy: 0.9914\n",
            "Epoch 00024: val_accuracy improved from 0.90600 to 0.91867, saving model to best_model1.h5\n",
            "14/14 [==============================] - 8s 571ms/step - loss: 0.0321 - accuracy: 0.9914 - val_loss: 0.6537 - val_accuracy: 0.9187\n",
            "Epoch 25/30\n",
            "14/14 [==============================] - ETA: 0s - loss: 0.0214 - accuracy: 0.9949\n",
            "Epoch 00025: val_accuracy did not improve from 0.91867\n",
            "14/14 [==============================] - 7s 523ms/step - loss: 0.0214 - accuracy: 0.9949 - val_loss: 0.9737 - val_accuracy: 0.8987\n",
            "Epoch 26/30\n",
            "14/14 [==============================] - ETA: 0s - loss: 0.0224 - accuracy: 0.9954\n",
            "Epoch 00026: val_accuracy did not improve from 0.91867\n",
            "14/14 [==============================] - 7s 520ms/step - loss: 0.0224 - accuracy: 0.9954 - val_loss: 0.7921 - val_accuracy: 0.9107\n",
            "Epoch 27/30\n",
            "14/14 [==============================] - ETA: 0s - loss: 0.0146 - accuracy: 0.9943\n",
            "Epoch 00027: val_accuracy did not improve from 0.91867\n",
            "14/14 [==============================] - 7s 519ms/step - loss: 0.0146 - accuracy: 0.9943 - val_loss: 0.8810 - val_accuracy: 0.9100\n",
            "Epoch 28/30\n",
            "14/14 [==============================] - ETA: 0s - loss: 0.0123 - accuracy: 0.9949\n",
            "Epoch 00028: val_accuracy did not improve from 0.91867\n",
            "14/14 [==============================] - 7s 518ms/step - loss: 0.0123 - accuracy: 0.9949 - val_loss: 0.7674 - val_accuracy: 0.9180\n",
            "Epoch 00028: early stopping\n"
          ],
          "name": "stdout"
        }
      ]
    },
    {
      "cell_type": "code",
      "metadata": {
        "id": "ASlt8ii3I5r5",
        "colab": {
          "base_uri": "https://localhost:8080/"
        },
        "outputId": "d12a81e4-42fa-481b-c5e9-44cb0f66a574"
      },
      "source": [
        "# load the saved model\n",
        "saved_model = load_model('best_model1.h5')\n",
        "\n",
        "# evaluate the model\n",
        "_, train_acc = saved_model.evaluate(X_train_padding,  y_train, verbose=0)\n",
        "_, test_acc = saved_model.evaluate(X_test_padding, y_test, verbose=0)\n",
        "print('Train: %.3f, Test: %.3f' % (train_acc, test_acc))"
      ],
      "execution_count": 92,
      "outputs": [
        {
          "output_type": "stream",
          "text": [
            "Train: 0.999, Test: 0.919\n"
          ],
          "name": "stdout"
        }
      ]
    },
    {
      "cell_type": "code",
      "metadata": {
        "id": "gRSGJdO6gC9g"
      },
      "source": [
        "model2 = Sequential()\n",
        "model2.add(Embedding(vocab_size, embeding_dim, input_length=max_len))\n",
        "model2.add(Bidirectional(LSTM(256, return_sequences = False)))\n",
        "model2.add(Dense(512, activation='relu'))\n",
        "model2.add(Dense(256, activation = 'relu'))\n",
        "model2.add(Dense(128, activation = 'relu'))\n",
        "model2.add(Dense(64, activation= 'relu'))\n",
        "model2.add(Dropout(0.5))\n",
        "model2.add(Dense(7, activation=\"softmax\"))"
      ],
      "execution_count": 78,
      "outputs": []
    },
    {
      "cell_type": "code",
      "metadata": {
        "id": "o_6iES6jgcUt"
      },
      "source": [
        "model2.compile(loss='categorical_crossentropy', optimizer='adam', metrics=['accuracy'])"
      ],
      "execution_count": 79,
      "outputs": []
    },
    {
      "cell_type": "code",
      "metadata": {
        "colab": {
          "base_uri": "https://localhost:8080/"
        },
        "id": "2NbEDebIgf8I",
        "outputId": "c366ebf1-8a8c-4e61-fea6-21facf6f9982"
      },
      "source": [
        "# simple early stopping\n",
        "es = EarlyStopping(monitor='val_loss', mode='min', verbose=1, patience=10, min_delta=0.01)\n",
        "mc = ModelCheckpoint('best_model2.h5', monitor='val_accuracy', mode='max', verbose=1, save_best_only=True)\n",
        "\n",
        "batch_size = 100\n",
        "epochs = 20\n",
        "\n",
        "model2_history = model2.fit(X_train_padding,  y_train, \n",
        "                            batch_size=batch_size, epochs=epochs, \n",
        "                            validation_data=(X_test_padding, y_test),\n",
        "                            callbacks=[es, mc])"
      ],
      "execution_count": 80,
      "outputs": [
        {
          "output_type": "stream",
          "text": [
            "Epoch 1/20\n",
            "35/35 [==============================] - ETA: 0s - loss: 1.7997 - accuracy: 0.2591WARNING:tensorflow:Callbacks method `on_test_batch_end` is slow compared to the batch time (batch time: 0.0178s vs `on_test_batch_end` time: 0.0401s). Check your callbacks.\n",
            "\n",
            "Epoch 00001: val_accuracy improved from -inf to 0.41333, saving model to best_model2.h5\n",
            "35/35 [==============================] - 9s 243ms/step - loss: 1.7997 - accuracy: 0.2591 - val_loss: 1.4033 - val_accuracy: 0.4133\n",
            "Epoch 2/20\n",
            "35/35 [==============================] - ETA: 0s - loss: 1.0594 - accuracy: 0.5900\n",
            "Epoch 00002: val_accuracy improved from 0.41333 to 0.76200, saving model to best_model2.h5\n",
            "35/35 [==============================] - 7s 202ms/step - loss: 1.0594 - accuracy: 0.5900 - val_loss: 0.6328 - val_accuracy: 0.7620\n",
            "Epoch 3/20\n",
            "35/35 [==============================] - ETA: 0s - loss: 0.4696 - accuracy: 0.8354\n",
            "Epoch 00003: val_accuracy improved from 0.76200 to 0.84667, saving model to best_model2.h5\n",
            "35/35 [==============================] - 7s 196ms/step - loss: 0.4696 - accuracy: 0.8354 - val_loss: 0.4674 - val_accuracy: 0.8467\n",
            "Epoch 4/20\n",
            "35/35 [==============================] - ETA: 0s - loss: 0.2115 - accuracy: 0.9366\n",
            "Epoch 00004: val_accuracy improved from 0.84667 to 0.89467, saving model to best_model2.h5\n",
            "35/35 [==============================] - 7s 198ms/step - loss: 0.2115 - accuracy: 0.9366 - val_loss: 0.4356 - val_accuracy: 0.8947\n",
            "Epoch 5/20\n",
            "35/35 [==============================] - ETA: 0s - loss: 0.1183 - accuracy: 0.9694\n",
            "Epoch 00005: val_accuracy improved from 0.89467 to 0.90667, saving model to best_model2.h5\n",
            "35/35 [==============================] - 7s 200ms/step - loss: 0.1183 - accuracy: 0.9694 - val_loss: 0.3914 - val_accuracy: 0.9067\n",
            "Epoch 6/20\n",
            "35/35 [==============================] - ETA: 0s - loss: 0.1978 - accuracy: 0.9651\n",
            "Epoch 00006: val_accuracy did not improve from 0.90667\n",
            "35/35 [==============================] - 7s 192ms/step - loss: 0.1978 - accuracy: 0.9651 - val_loss: 0.4522 - val_accuracy: 0.9067\n",
            "Epoch 7/20\n",
            "35/35 [==============================] - ETA: 0s - loss: 0.0657 - accuracy: 0.9817\n",
            "Epoch 00007: val_accuracy improved from 0.90667 to 0.91600, saving model to best_model2.h5\n",
            "35/35 [==============================] - 7s 210ms/step - loss: 0.0657 - accuracy: 0.9817 - val_loss: 0.4975 - val_accuracy: 0.9160\n",
            "Epoch 8/20\n",
            "35/35 [==============================] - ETA: 0s - loss: 0.0313 - accuracy: 0.9940\n",
            "Epoch 00008: val_accuracy did not improve from 0.91600\n",
            "35/35 [==============================] - 7s 192ms/step - loss: 0.0313 - accuracy: 0.9940 - val_loss: 0.5475 - val_accuracy: 0.9160\n",
            "Epoch 9/20\n",
            "35/35 [==============================] - ETA: 0s - loss: 0.0145 - accuracy: 0.9969\n",
            "Epoch 00009: val_accuracy improved from 0.91600 to 0.92933, saving model to best_model2.h5\n",
            "35/35 [==============================] - 7s 210ms/step - loss: 0.0145 - accuracy: 0.9969 - val_loss: 0.5427 - val_accuracy: 0.9293\n",
            "Epoch 10/20\n",
            "35/35 [==============================] - ETA: 0s - loss: 0.0302 - accuracy: 0.9931\n",
            "Epoch 00010: val_accuracy did not improve from 0.92933\n",
            "35/35 [==============================] - 7s 191ms/step - loss: 0.0302 - accuracy: 0.9931 - val_loss: 0.5390 - val_accuracy: 0.9140\n",
            "Epoch 11/20\n",
            "35/35 [==============================] - ETA: 0s - loss: 0.0242 - accuracy: 0.9943\n",
            "Epoch 00011: val_accuracy did not improve from 0.92933\n",
            "35/35 [==============================] - 7s 193ms/step - loss: 0.0242 - accuracy: 0.9943 - val_loss: 0.4899 - val_accuracy: 0.9120\n",
            "Epoch 12/20\n",
            "35/35 [==============================] - ETA: 0s - loss: 0.0157 - accuracy: 0.9957\n",
            "Epoch 00012: val_accuracy did not improve from 0.92933\n",
            "35/35 [==============================] - 7s 193ms/step - loss: 0.0157 - accuracy: 0.9957 - val_loss: 0.6261 - val_accuracy: 0.9153\n",
            "Epoch 13/20\n",
            "35/35 [==============================] - ETA: 0s - loss: 0.0124 - accuracy: 0.9960\n",
            "Epoch 00013: val_accuracy did not improve from 0.92933\n",
            "35/35 [==============================] - 7s 191ms/step - loss: 0.0124 - accuracy: 0.9960 - val_loss: 0.6704 - val_accuracy: 0.9133\n",
            "Epoch 14/20\n",
            "35/35 [==============================] - ETA: 0s - loss: 0.0161 - accuracy: 0.9969\n",
            "Epoch 00014: val_accuracy did not improve from 0.92933\n",
            "35/35 [==============================] - 7s 192ms/step - loss: 0.0161 - accuracy: 0.9969 - val_loss: 0.7247 - val_accuracy: 0.9087\n",
            "Epoch 15/20\n",
            "35/35 [==============================] - ETA: 0s - loss: 0.0090 - accuracy: 0.9986\n",
            "Epoch 00015: val_accuracy did not improve from 0.92933\n",
            "35/35 [==============================] - 7s 193ms/step - loss: 0.0090 - accuracy: 0.9986 - val_loss: 0.7465 - val_accuracy: 0.9193\n",
            "Epoch 00015: early stopping\n"
          ],
          "name": "stdout"
        }
      ]
    },
    {
      "cell_type": "code",
      "metadata": {
        "colab": {
          "base_uri": "https://localhost:8080/"
        },
        "id": "e-qn9Jn1hOqX",
        "outputId": "cd54d58e-7d1b-48ca-ddb2-c7ff85a25cc3"
      },
      "source": [
        "# load the saved model\n",
        "saved_model = load_model('best_model2.h5')\n",
        "\n",
        "# evaluate the model\n",
        "_, train_acc = saved_model.evaluate(X_train_padding,  y_train, verbose=0)\n",
        "_, test_acc = saved_model.evaluate(X_test_padding, y_test, verbose=0)\n",
        "print('Train: %.3f, Test: %.3f' % (train_acc, test_acc))"
      ],
      "execution_count": 81,
      "outputs": [
        {
          "output_type": "stream",
          "text": [
            "Train: 0.999, Test: 0.929\n"
          ],
          "name": "stdout"
        }
      ]
    },
    {
      "cell_type": "code",
      "metadata": {
        "id": "NW7IaFX_dkfJ"
      },
      "source": [
        "model3 = Sequential()\n",
        "model3.add(Embedding(10000, 300, input_length=300))\n",
        "model3.add(Bidirectional(LSTM(256, return_sequences = True)))\n",
        "model3.add(Flatten())\n",
        "model3.add(Dense(512, activation='relu'))\n",
        "model3.add(Dropout(0.5))\n",
        "model3.add(Dense(256, activation = 'relu'))\n",
        "model3.add(Dropout(0.5))\n",
        "model3.add(Dense(128, activation = 'relu'))\n",
        "model3.add(Dropout(0.5))\n",
        "model3.add(Dense(64, activation= 'relu'))\n",
        "model3.add(Dropout(0.5))\n",
        "model3.add(Dense(7, activation=\"softmax\"))"
      ],
      "execution_count": 74,
      "outputs": []
    },
    {
      "cell_type": "code",
      "metadata": {
        "id": "-yTREoNeeAKo"
      },
      "source": [
        "model3.compile(loss='categorical_crossentropy', optimizer='adam', metrics=['accuracy'])"
      ],
      "execution_count": 75,
      "outputs": []
    },
    {
      "cell_type": "code",
      "metadata": {
        "colab": {
          "base_uri": "https://localhost:8080/"
        },
        "id": "gs6WY58EeKAX",
        "outputId": "a0c6332a-d569-4844-c1a0-9f033a21652b"
      },
      "source": [
        "# simple early stopping\n",
        "es = EarlyStopping(monitor='val_loss', mode='min', verbose=1, patience=10, min_delta=0.01)\n",
        "mc = ModelCheckpoint('best_model3.h5', monitor='val_accuracy', mode='max', verbose=1, save_best_only=True)\n",
        "\n",
        "batch_size = 100\n",
        "epochs = 20\n",
        "\n",
        "model3_history = model3.fit(X_train_padding,  y_train, \n",
        "                            batch_size=batch_size, epochs=epochs, \n",
        "                            validation_data=(X_test_padding, y_test),\n",
        "                            callbacks=[es, mc])"
      ],
      "execution_count": 76,
      "outputs": [
        {
          "output_type": "stream",
          "text": [
            "Epoch 1/20\n",
            "35/35 [==============================] - ETA: 0s - loss: 2.1682 - accuracy: 0.1511WARNING:tensorflow:Callbacks method `on_test_batch_end` is slow compared to the batch time (batch time: 0.0167s vs `on_test_batch_end` time: 0.0500s). Check your callbacks.\n",
            "\n",
            "Epoch 00001: val_accuracy improved from -inf to 0.16000, saving model to best_model3.h5\n",
            "35/35 [==============================] - 14s 391ms/step - loss: 2.1682 - accuracy: 0.1511 - val_loss: 1.9251 - val_accuracy: 0.1600\n",
            "Epoch 2/20\n",
            "35/35 [==============================] - ETA: 0s - loss: 1.9591 - accuracy: 0.1671\n",
            "Epoch 00002: val_accuracy improved from 0.16000 to 0.28600, saving model to best_model3.h5\n",
            "35/35 [==============================] - 14s 394ms/step - loss: 1.9591 - accuracy: 0.1671 - val_loss: 1.9207 - val_accuracy: 0.2860\n",
            "Epoch 3/20\n",
            "35/35 [==============================] - ETA: 0s - loss: 1.8856 - accuracy: 0.1940\n",
            "Epoch 00003: val_accuracy improved from 0.28600 to 0.42533, saving model to best_model3.h5\n",
            "35/35 [==============================] - 25s 717ms/step - loss: 1.8856 - accuracy: 0.1940 - val_loss: 1.5919 - val_accuracy: 0.4253\n",
            "Epoch 4/20\n",
            "35/35 [==============================] - ETA: 0s - loss: 1.5295 - accuracy: 0.3414\n",
            "Epoch 00004: val_accuracy improved from 0.42533 to 0.46467, saving model to best_model3.h5\n",
            "35/35 [==============================] - 26s 739ms/step - loss: 1.5295 - accuracy: 0.3414 - val_loss: 1.1604 - val_accuracy: 0.4647\n",
            "Epoch 5/20\n",
            "35/35 [==============================] - ETA: 0s - loss: 1.1611 - accuracy: 0.4843\n",
            "Epoch 00005: val_accuracy improved from 0.46467 to 0.56600, saving model to best_model3.h5\n",
            "35/35 [==============================] - 24s 676ms/step - loss: 1.1611 - accuracy: 0.4843 - val_loss: 0.8787 - val_accuracy: 0.5660\n",
            "Epoch 6/20\n",
            "35/35 [==============================] - ETA: 0s - loss: 0.9274 - accuracy: 0.5669\n",
            "Epoch 00006: val_accuracy improved from 0.56600 to 0.63800, saving model to best_model3.h5\n",
            "35/35 [==============================] - 25s 711ms/step - loss: 0.9274 - accuracy: 0.5669 - val_loss: 0.7018 - val_accuracy: 0.6380\n",
            "Epoch 7/20\n",
            "35/35 [==============================] - ETA: 0s - loss: 0.6979 - accuracy: 0.6766\n",
            "Epoch 00007: val_accuracy improved from 0.63800 to 0.81867, saving model to best_model3.h5\n",
            "35/35 [==============================] - 25s 704ms/step - loss: 0.6979 - accuracy: 0.6766 - val_loss: 0.4263 - val_accuracy: 0.8187\n",
            "Epoch 8/20\n",
            "35/35 [==============================] - ETA: 0s - loss: 0.4506 - accuracy: 0.7971\n",
            "Epoch 00008: val_accuracy improved from 0.81867 to 0.82800, saving model to best_model3.h5\n",
            "35/35 [==============================] - 29s 839ms/step - loss: 0.4506 - accuracy: 0.7971 - val_loss: 0.3631 - val_accuracy: 0.8280\n",
            "Epoch 9/20\n",
            "35/35 [==============================] - ETA: 0s - loss: 0.3802 - accuracy: 0.8480\n",
            "Epoch 00009: val_accuracy improved from 0.82800 to 0.85333, saving model to best_model3.h5\n",
            "35/35 [==============================] - 23s 648ms/step - loss: 0.3802 - accuracy: 0.8480 - val_loss: 0.4205 - val_accuracy: 0.8533\n",
            "Epoch 10/20\n",
            "35/35 [==============================] - ETA: 0s - loss: 0.2673 - accuracy: 0.8834\n",
            "Epoch 00010: val_accuracy did not improve from 0.85333\n",
            "35/35 [==============================] - 8s 227ms/step - loss: 0.2673 - accuracy: 0.8834 - val_loss: 0.3928 - val_accuracy: 0.8520\n",
            "Epoch 11/20\n",
            "35/35 [==============================] - ETA: 0s - loss: 0.2186 - accuracy: 0.9106\n",
            "Epoch 00011: val_accuracy did not improve from 0.85333\n",
            "35/35 [==============================] - 8s 234ms/step - loss: 0.2186 - accuracy: 0.9106 - val_loss: 0.3542 - val_accuracy: 0.8407\n",
            "Epoch 12/20\n",
            "35/35 [==============================] - ETA: 0s - loss: 0.1859 - accuracy: 0.9151\n",
            "Epoch 00012: val_accuracy improved from 0.85333 to 0.90333, saving model to best_model3.h5\n",
            "35/35 [==============================] - 13s 372ms/step - loss: 0.1859 - accuracy: 0.9151 - val_loss: 0.4085 - val_accuracy: 0.9033\n",
            "Epoch 13/20\n",
            "35/35 [==============================] - ETA: 0s - loss: 0.1544 - accuracy: 0.9357\n",
            "Epoch 00013: val_accuracy improved from 0.90333 to 0.93000, saving model to best_model3.h5\n",
            "35/35 [==============================] - 19s 553ms/step - loss: 0.1544 - accuracy: 0.9357 - val_loss: 0.5072 - val_accuracy: 0.9300\n",
            "Epoch 14/20\n",
            "35/35 [==============================] - ETA: 0s - loss: 0.1126 - accuracy: 0.9580\n",
            "Epoch 00014: val_accuracy improved from 0.93000 to 0.93067, saving model to best_model3.h5\n",
            "35/35 [==============================] - 25s 714ms/step - loss: 0.1126 - accuracy: 0.9580 - val_loss: 0.4835 - val_accuracy: 0.9307\n",
            "Epoch 15/20\n",
            "35/35 [==============================] - ETA: 0s - loss: 0.0969 - accuracy: 0.9763\n",
            "Epoch 00015: val_accuracy improved from 0.93067 to 0.94267, saving model to best_model3.h5\n",
            "35/35 [==============================] - 23s 651ms/step - loss: 0.0969 - accuracy: 0.9763 - val_loss: 0.4159 - val_accuracy: 0.9427\n",
            "Epoch 16/20\n",
            "35/35 [==============================] - ETA: 0s - loss: 0.0898 - accuracy: 0.9771\n",
            "Epoch 00016: val_accuracy did not improve from 0.94267\n",
            "35/35 [==============================] - 8s 227ms/step - loss: 0.0898 - accuracy: 0.9771 - val_loss: 0.5233 - val_accuracy: 0.9293\n",
            "Epoch 17/20\n",
            "35/35 [==============================] - ETA: 0s - loss: 0.0826 - accuracy: 0.9794\n",
            "Epoch 00017: val_accuracy did not improve from 0.94267\n",
            "35/35 [==============================] - 8s 232ms/step - loss: 0.0826 - accuracy: 0.9794 - val_loss: 0.4178 - val_accuracy: 0.9413\n",
            "Epoch 18/20\n",
            "35/35 [==============================] - ETA: 0s - loss: 0.0576 - accuracy: 0.9843\n",
            "Epoch 00018: val_accuracy improved from 0.94267 to 0.94467, saving model to best_model3.h5\n",
            "35/35 [==============================] - 12s 347ms/step - loss: 0.0576 - accuracy: 0.9843 - val_loss: 0.5270 - val_accuracy: 0.9447\n",
            "Epoch 00018: early stopping\n"
          ],
          "name": "stdout"
        }
      ]
    },
    {
      "cell_type": "code",
      "metadata": {
        "colab": {
          "base_uri": "https://localhost:8080/"
        },
        "id": "qQAiHEMwfs37",
        "outputId": "0713bb9c-d93d-448e-81aa-3c8aebde709c"
      },
      "source": [
        "# load the saved model\n",
        "saved_model = load_model('best_model3.h5')\n",
        "\n",
        "# evaluate the model\n",
        "_, train_acc = saved_model.evaluate(X_train_padding,  y_train, verbose=0)\n",
        "_, test_acc = saved_model.evaluate(X_test_padding, y_test, verbose=0)\n",
        "print('Train: %.3f, Test: %.3f' % (train_acc, test_acc))"
      ],
      "execution_count": 77,
      "outputs": [
        {
          "output_type": "stream",
          "text": [
            "Train: 0.999, Test: 0.945\n"
          ],
          "name": "stdout"
        }
      ]
    }
  ]
}